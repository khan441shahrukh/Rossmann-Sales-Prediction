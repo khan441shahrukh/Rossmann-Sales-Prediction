{
  "cells": [
    {
      "cell_type": "markdown",
      "metadata": {
        "id": "view-in-github",
        "colab_type": "text"
      },
      "source": [
        "<a href=\"https://colab.research.google.com/github/khan441shahrukh/Rossmann-Sales-Prediction/blob/main/Rossmann_Sales_Prediction_Capstone_Project.ipynb\" target=\"_parent\"><img src=\"https://colab.research.google.com/assets/colab-badge.svg\" alt=\"Open In Colab\"/></a>"
      ]
    },
    {
      "cell_type": "markdown",
      "metadata": {
        "id": "tOGC-qoyhJeX"
      },
      "source": [
        "# <b><u> Project Title : Sales Prediction : Predicting sales of a major store chain Rossmann</u></b>"
      ]
    },
    {
      "cell_type": "markdown",
      "metadata": {
        "id": "Y06xIdG26kRF"
      },
      "source": [
        "## <b> Problem Description </b>\n",
        "\n",
        "### Rossmann operates over 3,000 drug stores in 7 European countries. Currently, Rossmann store managers are tasked with predicting their daily sales for up to six weeks in advance. Store sales are influenced by many factors, including promotions, competition, school and state holidays, seasonality, and locality. With thousands of individual managers predicting sales based on their unique circumstances, the accuracy of results can be quite varied.\n",
        "\n",
        "### You are provided with historical sales data for 1,115 Rossmann stores. The task is to forecast the \"Sales\" column for the test set. Note that some stores in the dataset were temporarily closed for refurbishment."
      ]
    },
    {
      "cell_type": "markdown",
      "metadata": {
        "id": "WWeU1f9bwqQq"
      },
      "source": [
        "## <b> Data Description </b>\n",
        "\n",
        "### <b>Rossmann Stores Data.csv </b> - historical data including Sales\n",
        "### <b>store.csv </b> - supplemental information about the stores\n",
        "\n",
        "\n",
        "### <b><u>Data fields</u></b>\n",
        "### Most of the fields are self-explanatory. The following are descriptions for those that aren't.\n",
        "\n",
        "* #### Id - an Id that represents a (Store, Date) duple within the test set\n",
        "* #### Store - a unique Id for each store\n",
        "* #### Sales - the turnover for any given day (this is what you are predicting)\n",
        "* #### Customers - the number of customers on a given day\n",
        "* #### Open - an indicator for whether the store was open: 0 = closed, 1 = open\n",
        "* #### StateHoliday - indicates a state holiday. Normally all stores, with few exceptions, are closed on state holidays. Note that all schools are closed on public holidays and weekends. a = public holiday, b = Easter holiday, c = Christmas, 0 = None\n",
        "* #### SchoolHoliday - indicates if the (Store, Date) was affected by the closure of public schools\n",
        "* #### StoreType - differentiates between 4 different store models: a, b, c, d\n",
        "* #### Assortment - describes an assortment level: a = basic, b = extra, c = extended\n",
        "* #### CompetitionDistance - distance in meters to the nearest competitor store\n",
        "* #### CompetitionOpenSince[Month/Year] - gives the approximate year and month of the time the nearest competitor was opened\n",
        "* #### Promo - indicates whether a store is running a promo on that day\n",
        "* #### Promo2 - Promo2 is a continuing and consecutive promotion for some stores: 0 = store is not participating, 1 = store is participating\n",
        "* #### Promo2Since[Year/Week] - describes the year and calendar week when the store started participating in Promo2\n",
        "* #### PromoInterval - describes the consecutive intervals Promo2 is started, naming the months the promotion is started anew. E.g. \"Feb,May,Aug,Nov\" means each round starts in February, May, August, November of any given year for that store"
      ]
    },
    {
      "cell_type": "markdown",
      "source": [
        "# Import packages and data preparation"
      ],
      "metadata": {
        "id": "wFpFvCuKqOY3"
      }
    },
    {
      "cell_type": "markdown",
      "metadata": {
        "id": "d4lzqvOXoaXg"
      },
      "source": [
        "\n",
        "\n",
        "\n",
        "\n",
        "\n",
        "\n",
        "\n",
        "\n",
        "\n",
        "\n",
        "\n",
        "\n",
        "\n",
        "\n",
        "\n",
        "\n",
        "\n",
        "\n",
        "\n",
        "\n",
        "\n",
        "\n",
        "\n",
        "\n",
        "\n",
        "\n",
        "\n",
        "\n",
        "\n",
        "\n",
        "\n",
        "\n",
        "\n",
        "\n",
        "\n",
        "\n",
        "\n",
        "\n",
        "\n",
        "\n",
        "\n",
        "\n",
        "\n",
        "\n",
        "\n",
        "\n",
        "\n",
        "\n",
        "\n",
        "\n",
        "\n",
        "\n",
        "\n",
        "\n",
        "\n",
        "\n",
        "\n",
        "\n",
        "\n",
        "\n",
        "\n",
        "importing the libraries for to reduse code \n",
        "\n",
        "\n",
        "\n",
        "\n",
        "\n",
        "\n",
        "\n",
        "\n",
        "\n",
        "\n",
        "\n"
      ]
    },
    {
      "cell_type": "code",
      "execution_count": null,
      "metadata": {
        "colab": {
          "base_uri": "https://localhost:8080/"
        },
        "id": "pInLb2zKCz9g",
        "outputId": "d91a4886-4bf3-48c4-ecd7-bb94788beae5"
      },
      "outputs": [
        {
          "output_type": "stream",
          "name": "stdout",
          "text": [
            "Requirement already satisfied: plotly in /usr/local/lib/python3.7/dist-packages (5.5.0)\n",
            "Requirement already satisfied: tenacity>=6.2.0 in /usr/local/lib/python3.7/dist-packages (from plotly) (8.0.1)\n",
            "Requirement already satisfied: six in /usr/local/lib/python3.7/dist-packages (from plotly) (1.15.0)\n"
          ]
        }
      ],
      "source": [
        "pip install plotly"
      ]
    },
    {
      "cell_type": "code",
      "execution_count": null,
      "metadata": {
        "id": "dByMsuzT8Tnw"
      },
      "outputs": [],
      "source": [
        "from sklearn.neighbors import KNeighborsRegressor\n",
        "from sklearn.ensemble import RandomForestRegressor\n",
        "from sklearn.tree import DecisionTreeRegressor\n",
        "from sklearn.linear_model import LassoLars\n",
        "import numpy as np\n",
        "import pandas as pd\n",
        "from numpy import math\n",
        "from sklearn.preprocessing import LabelEncoder\n",
        "from sklearn.model_selection import train_test_split\n",
        "from sklearn.preprocessing import MinMaxScaler\n",
        "from sklearn.model_selection import train_test_split\n",
        "from sklearn.linear_model import LinearRegression\n",
        "from sklearn.metrics import r2_score\n",
        "from sklearn.metrics import mean_squared_error\n",
        "from math import sqrt\n",
        "import seaborn as sns\n",
        "import plotly as py\n",
        "import plotly.graph_objs as go\n",
        "import matplotlib.pyplot as plt\n",
        "import warnings\n",
        "warnings.filterwarnings('ignore')\n"
      ]
    },
    {
      "cell_type": "markdown",
      "metadata": {
        "id": "1Y0gZL-dodmz"
      },
      "source": [
        "mounting the drive for accessing drive filles"
      ]
    },
    {
      "cell_type": "code",
      "execution_count": null,
      "metadata": {
        "colab": {
          "base_uri": "https://localhost:8080/"
        },
        "id": "G4k6Bf71Bfmh",
        "outputId": "3144f12e-7801-4743-bad4-b4c0b743de9c"
      },
      "outputs": [
        {
          "output_type": "stream",
          "name": "stdout",
          "text": [
            "Mounted at /content/drive\n"
          ]
        }
      ],
      "source": [
        "from google.colab import drive\n",
        "drive.mount('/content/drive')\n"
      ]
    },
    {
      "cell_type": "markdown",
      "metadata": {
        "id": "n4FjRB8Sotn1"
      },
      "source": [
        "to import data and store the some variables"
      ]
    },
    {
      "cell_type": "code",
      "execution_count": null,
      "metadata": {
        "id": "oH7D_dQpB8Hd"
      },
      "outputs": [],
      "source": [
        "dataset = pd.read_csv('/content/drive/MyDrive/Almabetter/Machine Learning/Capstone project 2/Rossmann Stores Data.csv')\n",
        "dataset1=pd.read_csv('/content/drive/MyDrive/Almabetter/Machine Learning/Capstone project 2/store.csv')"
      ]
    },
    {
      "cell_type": "markdown",
      "metadata": {
        "id": "unlPtcz5CkCc"
      },
      "source": [
        "for inspection of the data"
      ]
    },
    {
      "cell_type": "code",
      "execution_count": null,
      "metadata": {
        "colab": {
          "base_uri": "https://localhost:8080/",
          "height": 206
        },
        "id": "VqpYHlonCxrO",
        "outputId": "74b2991d-0e4e-47ec-c89b-1780522eaa99"
      },
      "outputs": [
        {
          "output_type": "execute_result",
          "data": {
            "text/plain": [
              "   Store  DayOfWeek        Date  Sales  Customers  Open  Promo StateHoliday  \\\n",
              "0      1          5  2015-07-31   5263        555     1      1            0   \n",
              "1      2          5  2015-07-31   6064        625     1      1            0   \n",
              "2      3          5  2015-07-31   8314        821     1      1            0   \n",
              "3      4          5  2015-07-31  13995       1498     1      1            0   \n",
              "4      5          5  2015-07-31   4822        559     1      1            0   \n",
              "\n",
              "   SchoolHoliday  \n",
              "0              1  \n",
              "1              1  \n",
              "2              1  \n",
              "3              1  \n",
              "4              1  "
            ],
            "text/html": [
              "\n",
              "  <div id=\"df-aefb242d-e1a4-411a-b209-efb5df8da097\">\n",
              "    <div class=\"colab-df-container\">\n",
              "      <div>\n",
              "<style scoped>\n",
              "    .dataframe tbody tr th:only-of-type {\n",
              "        vertical-align: middle;\n",
              "    }\n",
              "\n",
              "    .dataframe tbody tr th {\n",
              "        vertical-align: top;\n",
              "    }\n",
              "\n",
              "    .dataframe thead th {\n",
              "        text-align: right;\n",
              "    }\n",
              "</style>\n",
              "<table border=\"1\" class=\"dataframe\">\n",
              "  <thead>\n",
              "    <tr style=\"text-align: right;\">\n",
              "      <th></th>\n",
              "      <th>Store</th>\n",
              "      <th>DayOfWeek</th>\n",
              "      <th>Date</th>\n",
              "      <th>Sales</th>\n",
              "      <th>Customers</th>\n",
              "      <th>Open</th>\n",
              "      <th>Promo</th>\n",
              "      <th>StateHoliday</th>\n",
              "      <th>SchoolHoliday</th>\n",
              "    </tr>\n",
              "  </thead>\n",
              "  <tbody>\n",
              "    <tr>\n",
              "      <th>0</th>\n",
              "      <td>1</td>\n",
              "      <td>5</td>\n",
              "      <td>2015-07-31</td>\n",
              "      <td>5263</td>\n",
              "      <td>555</td>\n",
              "      <td>1</td>\n",
              "      <td>1</td>\n",
              "      <td>0</td>\n",
              "      <td>1</td>\n",
              "    </tr>\n",
              "    <tr>\n",
              "      <th>1</th>\n",
              "      <td>2</td>\n",
              "      <td>5</td>\n",
              "      <td>2015-07-31</td>\n",
              "      <td>6064</td>\n",
              "      <td>625</td>\n",
              "      <td>1</td>\n",
              "      <td>1</td>\n",
              "      <td>0</td>\n",
              "      <td>1</td>\n",
              "    </tr>\n",
              "    <tr>\n",
              "      <th>2</th>\n",
              "      <td>3</td>\n",
              "      <td>5</td>\n",
              "      <td>2015-07-31</td>\n",
              "      <td>8314</td>\n",
              "      <td>821</td>\n",
              "      <td>1</td>\n",
              "      <td>1</td>\n",
              "      <td>0</td>\n",
              "      <td>1</td>\n",
              "    </tr>\n",
              "    <tr>\n",
              "      <th>3</th>\n",
              "      <td>4</td>\n",
              "      <td>5</td>\n",
              "      <td>2015-07-31</td>\n",
              "      <td>13995</td>\n",
              "      <td>1498</td>\n",
              "      <td>1</td>\n",
              "      <td>1</td>\n",
              "      <td>0</td>\n",
              "      <td>1</td>\n",
              "    </tr>\n",
              "    <tr>\n",
              "      <th>4</th>\n",
              "      <td>5</td>\n",
              "      <td>5</td>\n",
              "      <td>2015-07-31</td>\n",
              "      <td>4822</td>\n",
              "      <td>559</td>\n",
              "      <td>1</td>\n",
              "      <td>1</td>\n",
              "      <td>0</td>\n",
              "      <td>1</td>\n",
              "    </tr>\n",
              "  </tbody>\n",
              "</table>\n",
              "</div>\n",
              "      <button class=\"colab-df-convert\" onclick=\"convertToInteractive('df-aefb242d-e1a4-411a-b209-efb5df8da097')\"\n",
              "              title=\"Convert this dataframe to an interactive table.\"\n",
              "              style=\"display:none;\">\n",
              "        \n",
              "  <svg xmlns=\"http://www.w3.org/2000/svg\" height=\"24px\"viewBox=\"0 0 24 24\"\n",
              "       width=\"24px\">\n",
              "    <path d=\"M0 0h24v24H0V0z\" fill=\"none\"/>\n",
              "    <path d=\"M18.56 5.44l.94 2.06.94-2.06 2.06-.94-2.06-.94-.94-2.06-.94 2.06-2.06.94zm-11 1L8.5 8.5l.94-2.06 2.06-.94-2.06-.94L8.5 2.5l-.94 2.06-2.06.94zm10 10l.94 2.06.94-2.06 2.06-.94-2.06-.94-.94-2.06-.94 2.06-2.06.94z\"/><path d=\"M17.41 7.96l-1.37-1.37c-.4-.4-.92-.59-1.43-.59-.52 0-1.04.2-1.43.59L10.3 9.45l-7.72 7.72c-.78.78-.78 2.05 0 2.83L4 21.41c.39.39.9.59 1.41.59.51 0 1.02-.2 1.41-.59l7.78-7.78 2.81-2.81c.8-.78.8-2.07 0-2.86zM5.41 20L4 18.59l7.72-7.72 1.47 1.35L5.41 20z\"/>\n",
              "  </svg>\n",
              "      </button>\n",
              "      \n",
              "  <style>\n",
              "    .colab-df-container {\n",
              "      display:flex;\n",
              "      flex-wrap:wrap;\n",
              "      gap: 12px;\n",
              "    }\n",
              "\n",
              "    .colab-df-convert {\n",
              "      background-color: #E8F0FE;\n",
              "      border: none;\n",
              "      border-radius: 50%;\n",
              "      cursor: pointer;\n",
              "      display: none;\n",
              "      fill: #1967D2;\n",
              "      height: 32px;\n",
              "      padding: 0 0 0 0;\n",
              "      width: 32px;\n",
              "    }\n",
              "\n",
              "    .colab-df-convert:hover {\n",
              "      background-color: #E2EBFA;\n",
              "      box-shadow: 0px 1px 2px rgba(60, 64, 67, 0.3), 0px 1px 3px 1px rgba(60, 64, 67, 0.15);\n",
              "      fill: #174EA6;\n",
              "    }\n",
              "\n",
              "    [theme=dark] .colab-df-convert {\n",
              "      background-color: #3B4455;\n",
              "      fill: #D2E3FC;\n",
              "    }\n",
              "\n",
              "    [theme=dark] .colab-df-convert:hover {\n",
              "      background-color: #434B5C;\n",
              "      box-shadow: 0px 1px 3px 1px rgba(0, 0, 0, 0.15);\n",
              "      filter: drop-shadow(0px 1px 2px rgba(0, 0, 0, 0.3));\n",
              "      fill: #FFFFFF;\n",
              "    }\n",
              "  </style>\n",
              "\n",
              "      <script>\n",
              "        const buttonEl =\n",
              "          document.querySelector('#df-aefb242d-e1a4-411a-b209-efb5df8da097 button.colab-df-convert');\n",
              "        buttonEl.style.display =\n",
              "          google.colab.kernel.accessAllowed ? 'block' : 'none';\n",
              "\n",
              "        async function convertToInteractive(key) {\n",
              "          const element = document.querySelector('#df-aefb242d-e1a4-411a-b209-efb5df8da097');\n",
              "          const dataTable =\n",
              "            await google.colab.kernel.invokeFunction('convertToInteractive',\n",
              "                                                     [key], {});\n",
              "          if (!dataTable) return;\n",
              "\n",
              "          const docLinkHtml = 'Like what you see? Visit the ' +\n",
              "            '<a target=\"_blank\" href=https://colab.research.google.com/notebooks/data_table.ipynb>data table notebook</a>'\n",
              "            + ' to learn more about interactive tables.';\n",
              "          element.innerHTML = '';\n",
              "          dataTable['output_type'] = 'display_data';\n",
              "          await google.colab.output.renderOutput(dataTable, element);\n",
              "          const docLink = document.createElement('div');\n",
              "          docLink.innerHTML = docLinkHtml;\n",
              "          element.appendChild(docLink);\n",
              "        }\n",
              "      </script>\n",
              "    </div>\n",
              "  </div>\n",
              "  "
            ]
          },
          "metadata": {},
          "execution_count": 5
        }
      ],
      "source": [
        "dataset.head()"
      ]
    },
    {
      "cell_type": "code",
      "execution_count": null,
      "metadata": {
        "colab": {
          "base_uri": "https://localhost:8080/",
          "height": 270
        },
        "id": "wYlVg7dEC1-B",
        "outputId": "1e487c93-91aa-4f31-b76c-acfea14bd03a"
      },
      "outputs": [
        {
          "output_type": "execute_result",
          "data": {
            "text/plain": [
              "   Store StoreType Assortment  CompetitionDistance  CompetitionOpenSinceMonth  \\\n",
              "0      1         c          a               1270.0                        9.0   \n",
              "1      2         a          a                570.0                       11.0   \n",
              "2      3         a          a              14130.0                       12.0   \n",
              "3      4         c          c                620.0                        9.0   \n",
              "4      5         a          a              29910.0                        4.0   \n",
              "\n",
              "   CompetitionOpenSinceYear  Promo2  Promo2SinceWeek  Promo2SinceYear  \\\n",
              "0                    2008.0       0              NaN              NaN   \n",
              "1                    2007.0       1             13.0           2010.0   \n",
              "2                    2006.0       1             14.0           2011.0   \n",
              "3                    2009.0       0              NaN              NaN   \n",
              "4                    2015.0       0              NaN              NaN   \n",
              "\n",
              "     PromoInterval  \n",
              "0              NaN  \n",
              "1  Jan,Apr,Jul,Oct  \n",
              "2  Jan,Apr,Jul,Oct  \n",
              "3              NaN  \n",
              "4              NaN  "
            ],
            "text/html": [
              "\n",
              "  <div id=\"df-3411b5ce-c7c7-4eb5-b36e-3e4b4f77e74b\">\n",
              "    <div class=\"colab-df-container\">\n",
              "      <div>\n",
              "<style scoped>\n",
              "    .dataframe tbody tr th:only-of-type {\n",
              "        vertical-align: middle;\n",
              "    }\n",
              "\n",
              "    .dataframe tbody tr th {\n",
              "        vertical-align: top;\n",
              "    }\n",
              "\n",
              "    .dataframe thead th {\n",
              "        text-align: right;\n",
              "    }\n",
              "</style>\n",
              "<table border=\"1\" class=\"dataframe\">\n",
              "  <thead>\n",
              "    <tr style=\"text-align: right;\">\n",
              "      <th></th>\n",
              "      <th>Store</th>\n",
              "      <th>StoreType</th>\n",
              "      <th>Assortment</th>\n",
              "      <th>CompetitionDistance</th>\n",
              "      <th>CompetitionOpenSinceMonth</th>\n",
              "      <th>CompetitionOpenSinceYear</th>\n",
              "      <th>Promo2</th>\n",
              "      <th>Promo2SinceWeek</th>\n",
              "      <th>Promo2SinceYear</th>\n",
              "      <th>PromoInterval</th>\n",
              "    </tr>\n",
              "  </thead>\n",
              "  <tbody>\n",
              "    <tr>\n",
              "      <th>0</th>\n",
              "      <td>1</td>\n",
              "      <td>c</td>\n",
              "      <td>a</td>\n",
              "      <td>1270.0</td>\n",
              "      <td>9.0</td>\n",
              "      <td>2008.0</td>\n",
              "      <td>0</td>\n",
              "      <td>NaN</td>\n",
              "      <td>NaN</td>\n",
              "      <td>NaN</td>\n",
              "    </tr>\n",
              "    <tr>\n",
              "      <th>1</th>\n",
              "      <td>2</td>\n",
              "      <td>a</td>\n",
              "      <td>a</td>\n",
              "      <td>570.0</td>\n",
              "      <td>11.0</td>\n",
              "      <td>2007.0</td>\n",
              "      <td>1</td>\n",
              "      <td>13.0</td>\n",
              "      <td>2010.0</td>\n",
              "      <td>Jan,Apr,Jul,Oct</td>\n",
              "    </tr>\n",
              "    <tr>\n",
              "      <th>2</th>\n",
              "      <td>3</td>\n",
              "      <td>a</td>\n",
              "      <td>a</td>\n",
              "      <td>14130.0</td>\n",
              "      <td>12.0</td>\n",
              "      <td>2006.0</td>\n",
              "      <td>1</td>\n",
              "      <td>14.0</td>\n",
              "      <td>2011.0</td>\n",
              "      <td>Jan,Apr,Jul,Oct</td>\n",
              "    </tr>\n",
              "    <tr>\n",
              "      <th>3</th>\n",
              "      <td>4</td>\n",
              "      <td>c</td>\n",
              "      <td>c</td>\n",
              "      <td>620.0</td>\n",
              "      <td>9.0</td>\n",
              "      <td>2009.0</td>\n",
              "      <td>0</td>\n",
              "      <td>NaN</td>\n",
              "      <td>NaN</td>\n",
              "      <td>NaN</td>\n",
              "    </tr>\n",
              "    <tr>\n",
              "      <th>4</th>\n",
              "      <td>5</td>\n",
              "      <td>a</td>\n",
              "      <td>a</td>\n",
              "      <td>29910.0</td>\n",
              "      <td>4.0</td>\n",
              "      <td>2015.0</td>\n",
              "      <td>0</td>\n",
              "      <td>NaN</td>\n",
              "      <td>NaN</td>\n",
              "      <td>NaN</td>\n",
              "    </tr>\n",
              "  </tbody>\n",
              "</table>\n",
              "</div>\n",
              "      <button class=\"colab-df-convert\" onclick=\"convertToInteractive('df-3411b5ce-c7c7-4eb5-b36e-3e4b4f77e74b')\"\n",
              "              title=\"Convert this dataframe to an interactive table.\"\n",
              "              style=\"display:none;\">\n",
              "        \n",
              "  <svg xmlns=\"http://www.w3.org/2000/svg\" height=\"24px\"viewBox=\"0 0 24 24\"\n",
              "       width=\"24px\">\n",
              "    <path d=\"M0 0h24v24H0V0z\" fill=\"none\"/>\n",
              "    <path d=\"M18.56 5.44l.94 2.06.94-2.06 2.06-.94-2.06-.94-.94-2.06-.94 2.06-2.06.94zm-11 1L8.5 8.5l.94-2.06 2.06-.94-2.06-.94L8.5 2.5l-.94 2.06-2.06.94zm10 10l.94 2.06.94-2.06 2.06-.94-2.06-.94-.94-2.06-.94 2.06-2.06.94z\"/><path d=\"M17.41 7.96l-1.37-1.37c-.4-.4-.92-.59-1.43-.59-.52 0-1.04.2-1.43.59L10.3 9.45l-7.72 7.72c-.78.78-.78 2.05 0 2.83L4 21.41c.39.39.9.59 1.41.59.51 0 1.02-.2 1.41-.59l7.78-7.78 2.81-2.81c.8-.78.8-2.07 0-2.86zM5.41 20L4 18.59l7.72-7.72 1.47 1.35L5.41 20z\"/>\n",
              "  </svg>\n",
              "      </button>\n",
              "      \n",
              "  <style>\n",
              "    .colab-df-container {\n",
              "      display:flex;\n",
              "      flex-wrap:wrap;\n",
              "      gap: 12px;\n",
              "    }\n",
              "\n",
              "    .colab-df-convert {\n",
              "      background-color: #E8F0FE;\n",
              "      border: none;\n",
              "      border-radius: 50%;\n",
              "      cursor: pointer;\n",
              "      display: none;\n",
              "      fill: #1967D2;\n",
              "      height: 32px;\n",
              "      padding: 0 0 0 0;\n",
              "      width: 32px;\n",
              "    }\n",
              "\n",
              "    .colab-df-convert:hover {\n",
              "      background-color: #E2EBFA;\n",
              "      box-shadow: 0px 1px 2px rgba(60, 64, 67, 0.3), 0px 1px 3px 1px rgba(60, 64, 67, 0.15);\n",
              "      fill: #174EA6;\n",
              "    }\n",
              "\n",
              "    [theme=dark] .colab-df-convert {\n",
              "      background-color: #3B4455;\n",
              "      fill: #D2E3FC;\n",
              "    }\n",
              "\n",
              "    [theme=dark] .colab-df-convert:hover {\n",
              "      background-color: #434B5C;\n",
              "      box-shadow: 0px 1px 3px 1px rgba(0, 0, 0, 0.15);\n",
              "      filter: drop-shadow(0px 1px 2px rgba(0, 0, 0, 0.3));\n",
              "      fill: #FFFFFF;\n",
              "    }\n",
              "  </style>\n",
              "\n",
              "      <script>\n",
              "        const buttonEl =\n",
              "          document.querySelector('#df-3411b5ce-c7c7-4eb5-b36e-3e4b4f77e74b button.colab-df-convert');\n",
              "        buttonEl.style.display =\n",
              "          google.colab.kernel.accessAllowed ? 'block' : 'none';\n",
              "\n",
              "        async function convertToInteractive(key) {\n",
              "          const element = document.querySelector('#df-3411b5ce-c7c7-4eb5-b36e-3e4b4f77e74b');\n",
              "          const dataTable =\n",
              "            await google.colab.kernel.invokeFunction('convertToInteractive',\n",
              "                                                     [key], {});\n",
              "          if (!dataTable) return;\n",
              "\n",
              "          const docLinkHtml = 'Like what you see? Visit the ' +\n",
              "            '<a target=\"_blank\" href=https://colab.research.google.com/notebooks/data_table.ipynb>data table notebook</a>'\n",
              "            + ' to learn more about interactive tables.';\n",
              "          element.innerHTML = '';\n",
              "          dataTable['output_type'] = 'display_data';\n",
              "          await google.colab.output.renderOutput(dataTable, element);\n",
              "          const docLink = document.createElement('div');\n",
              "          docLink.innerHTML = docLinkHtml;\n",
              "          element.appendChild(docLink);\n",
              "        }\n",
              "      </script>\n",
              "    </div>\n",
              "  </div>\n",
              "  "
            ]
          },
          "metadata": {},
          "execution_count": 6
        }
      ],
      "source": [
        "dataset1.head()"
      ]
    },
    {
      "cell_type": "code",
      "execution_count": null,
      "metadata": {
        "colab": {
          "base_uri": "https://localhost:8080/"
        },
        "id": "1YWkw64uC8V7",
        "outputId": "a9a83901-23d2-4d65-b261-1214dfa2f9a1"
      },
      "outputs": [
        {
          "output_type": "execute_result",
          "data": {
            "text/plain": [
              "(1017209, 9)"
            ]
          },
          "metadata": {},
          "execution_count": 7
        }
      ],
      "source": [
        "dataset.shape"
      ]
    },
    {
      "cell_type": "code",
      "execution_count": null,
      "metadata": {
        "colab": {
          "base_uri": "https://localhost:8080/"
        },
        "id": "rS_Raq2rEaQR",
        "outputId": "be5d9e28-5e9f-4456-cb60-417ef3079f77"
      },
      "outputs": [
        {
          "output_type": "execute_result",
          "data": {
            "text/plain": [
              "(1115, 10)"
            ]
          },
          "metadata": {},
          "execution_count": 8
        }
      ],
      "source": [
        "dataset1.shape"
      ]
    },
    {
      "cell_type": "code",
      "execution_count": null,
      "metadata": {
        "colab": {
          "base_uri": "https://localhost:8080/",
          "height": 394
        },
        "id": "EU4LQAaFEZs7",
        "outputId": "32ceeef0-5a8d-474d-f529-372710c321e7"
      },
      "outputs": [
        {
          "output_type": "execute_result",
          "data": {
            "text/plain": [
              "               Store     DayOfWeek        Date         Sales     Customers  \\\n",
              "count   1.017209e+06  1.017209e+06     1017209  1.017209e+06  1.017209e+06   \n",
              "unique           NaN           NaN         942           NaN           NaN   \n",
              "top              NaN           NaN  2015-07-31           NaN           NaN   \n",
              "freq             NaN           NaN        1115           NaN           NaN   \n",
              "mean    5.584297e+02  3.998341e+00         NaN  5.773819e+03  6.331459e+02   \n",
              "std     3.219087e+02  1.997391e+00         NaN  3.849926e+03  4.644117e+02   \n",
              "min     1.000000e+00  1.000000e+00         NaN  0.000000e+00  0.000000e+00   \n",
              "25%     2.800000e+02  2.000000e+00         NaN  3.727000e+03  4.050000e+02   \n",
              "50%     5.580000e+02  4.000000e+00         NaN  5.744000e+03  6.090000e+02   \n",
              "75%     8.380000e+02  6.000000e+00         NaN  7.856000e+03  8.370000e+02   \n",
              "max     1.115000e+03  7.000000e+00         NaN  4.155100e+04  7.388000e+03   \n",
              "\n",
              "                Open         Promo StateHoliday  SchoolHoliday  \n",
              "count   1.017209e+06  1.017209e+06      1017209   1.017209e+06  \n",
              "unique           NaN           NaN            5            NaN  \n",
              "top              NaN           NaN            0            NaN  \n",
              "freq             NaN           NaN       855087            NaN  \n",
              "mean    8.301067e-01  3.815145e-01          NaN   1.786467e-01  \n",
              "std     3.755392e-01  4.857586e-01          NaN   3.830564e-01  \n",
              "min     0.000000e+00  0.000000e+00          NaN   0.000000e+00  \n",
              "25%     1.000000e+00  0.000000e+00          NaN   0.000000e+00  \n",
              "50%     1.000000e+00  0.000000e+00          NaN   0.000000e+00  \n",
              "75%     1.000000e+00  1.000000e+00          NaN   0.000000e+00  \n",
              "max     1.000000e+00  1.000000e+00          NaN   1.000000e+00  "
            ],
            "text/html": [
              "\n",
              "  <div id=\"df-b7498ac8-090e-4a6e-a5cd-2b3cf91b4bf2\">\n",
              "    <div class=\"colab-df-container\">\n",
              "      <div>\n",
              "<style scoped>\n",
              "    .dataframe tbody tr th:only-of-type {\n",
              "        vertical-align: middle;\n",
              "    }\n",
              "\n",
              "    .dataframe tbody tr th {\n",
              "        vertical-align: top;\n",
              "    }\n",
              "\n",
              "    .dataframe thead th {\n",
              "        text-align: right;\n",
              "    }\n",
              "</style>\n",
              "<table border=\"1\" class=\"dataframe\">\n",
              "  <thead>\n",
              "    <tr style=\"text-align: right;\">\n",
              "      <th></th>\n",
              "      <th>Store</th>\n",
              "      <th>DayOfWeek</th>\n",
              "      <th>Date</th>\n",
              "      <th>Sales</th>\n",
              "      <th>Customers</th>\n",
              "      <th>Open</th>\n",
              "      <th>Promo</th>\n",
              "      <th>StateHoliday</th>\n",
              "      <th>SchoolHoliday</th>\n",
              "    </tr>\n",
              "  </thead>\n",
              "  <tbody>\n",
              "    <tr>\n",
              "      <th>count</th>\n",
              "      <td>1.017209e+06</td>\n",
              "      <td>1.017209e+06</td>\n",
              "      <td>1017209</td>\n",
              "      <td>1.017209e+06</td>\n",
              "      <td>1.017209e+06</td>\n",
              "      <td>1.017209e+06</td>\n",
              "      <td>1.017209e+06</td>\n",
              "      <td>1017209</td>\n",
              "      <td>1.017209e+06</td>\n",
              "    </tr>\n",
              "    <tr>\n",
              "      <th>unique</th>\n",
              "      <td>NaN</td>\n",
              "      <td>NaN</td>\n",
              "      <td>942</td>\n",
              "      <td>NaN</td>\n",
              "      <td>NaN</td>\n",
              "      <td>NaN</td>\n",
              "      <td>NaN</td>\n",
              "      <td>5</td>\n",
              "      <td>NaN</td>\n",
              "    </tr>\n",
              "    <tr>\n",
              "      <th>top</th>\n",
              "      <td>NaN</td>\n",
              "      <td>NaN</td>\n",
              "      <td>2015-07-31</td>\n",
              "      <td>NaN</td>\n",
              "      <td>NaN</td>\n",
              "      <td>NaN</td>\n",
              "      <td>NaN</td>\n",
              "      <td>0</td>\n",
              "      <td>NaN</td>\n",
              "    </tr>\n",
              "    <tr>\n",
              "      <th>freq</th>\n",
              "      <td>NaN</td>\n",
              "      <td>NaN</td>\n",
              "      <td>1115</td>\n",
              "      <td>NaN</td>\n",
              "      <td>NaN</td>\n",
              "      <td>NaN</td>\n",
              "      <td>NaN</td>\n",
              "      <td>855087</td>\n",
              "      <td>NaN</td>\n",
              "    </tr>\n",
              "    <tr>\n",
              "      <th>mean</th>\n",
              "      <td>5.584297e+02</td>\n",
              "      <td>3.998341e+00</td>\n",
              "      <td>NaN</td>\n",
              "      <td>5.773819e+03</td>\n",
              "      <td>6.331459e+02</td>\n",
              "      <td>8.301067e-01</td>\n",
              "      <td>3.815145e-01</td>\n",
              "      <td>NaN</td>\n",
              "      <td>1.786467e-01</td>\n",
              "    </tr>\n",
              "    <tr>\n",
              "      <th>std</th>\n",
              "      <td>3.219087e+02</td>\n",
              "      <td>1.997391e+00</td>\n",
              "      <td>NaN</td>\n",
              "      <td>3.849926e+03</td>\n",
              "      <td>4.644117e+02</td>\n",
              "      <td>3.755392e-01</td>\n",
              "      <td>4.857586e-01</td>\n",
              "      <td>NaN</td>\n",
              "      <td>3.830564e-01</td>\n",
              "    </tr>\n",
              "    <tr>\n",
              "      <th>min</th>\n",
              "      <td>1.000000e+00</td>\n",
              "      <td>1.000000e+00</td>\n",
              "      <td>NaN</td>\n",
              "      <td>0.000000e+00</td>\n",
              "      <td>0.000000e+00</td>\n",
              "      <td>0.000000e+00</td>\n",
              "      <td>0.000000e+00</td>\n",
              "      <td>NaN</td>\n",
              "      <td>0.000000e+00</td>\n",
              "    </tr>\n",
              "    <tr>\n",
              "      <th>25%</th>\n",
              "      <td>2.800000e+02</td>\n",
              "      <td>2.000000e+00</td>\n",
              "      <td>NaN</td>\n",
              "      <td>3.727000e+03</td>\n",
              "      <td>4.050000e+02</td>\n",
              "      <td>1.000000e+00</td>\n",
              "      <td>0.000000e+00</td>\n",
              "      <td>NaN</td>\n",
              "      <td>0.000000e+00</td>\n",
              "    </tr>\n",
              "    <tr>\n",
              "      <th>50%</th>\n",
              "      <td>5.580000e+02</td>\n",
              "      <td>4.000000e+00</td>\n",
              "      <td>NaN</td>\n",
              "      <td>5.744000e+03</td>\n",
              "      <td>6.090000e+02</td>\n",
              "      <td>1.000000e+00</td>\n",
              "      <td>0.000000e+00</td>\n",
              "      <td>NaN</td>\n",
              "      <td>0.000000e+00</td>\n",
              "    </tr>\n",
              "    <tr>\n",
              "      <th>75%</th>\n",
              "      <td>8.380000e+02</td>\n",
              "      <td>6.000000e+00</td>\n",
              "      <td>NaN</td>\n",
              "      <td>7.856000e+03</td>\n",
              "      <td>8.370000e+02</td>\n",
              "      <td>1.000000e+00</td>\n",
              "      <td>1.000000e+00</td>\n",
              "      <td>NaN</td>\n",
              "      <td>0.000000e+00</td>\n",
              "    </tr>\n",
              "    <tr>\n",
              "      <th>max</th>\n",
              "      <td>1.115000e+03</td>\n",
              "      <td>7.000000e+00</td>\n",
              "      <td>NaN</td>\n",
              "      <td>4.155100e+04</td>\n",
              "      <td>7.388000e+03</td>\n",
              "      <td>1.000000e+00</td>\n",
              "      <td>1.000000e+00</td>\n",
              "      <td>NaN</td>\n",
              "      <td>1.000000e+00</td>\n",
              "    </tr>\n",
              "  </tbody>\n",
              "</table>\n",
              "</div>\n",
              "      <button class=\"colab-df-convert\" onclick=\"convertToInteractive('df-b7498ac8-090e-4a6e-a5cd-2b3cf91b4bf2')\"\n",
              "              title=\"Convert this dataframe to an interactive table.\"\n",
              "              style=\"display:none;\">\n",
              "        \n",
              "  <svg xmlns=\"http://www.w3.org/2000/svg\" height=\"24px\"viewBox=\"0 0 24 24\"\n",
              "       width=\"24px\">\n",
              "    <path d=\"M0 0h24v24H0V0z\" fill=\"none\"/>\n",
              "    <path d=\"M18.56 5.44l.94 2.06.94-2.06 2.06-.94-2.06-.94-.94-2.06-.94 2.06-2.06.94zm-11 1L8.5 8.5l.94-2.06 2.06-.94-2.06-.94L8.5 2.5l-.94 2.06-2.06.94zm10 10l.94 2.06.94-2.06 2.06-.94-2.06-.94-.94-2.06-.94 2.06-2.06.94z\"/><path d=\"M17.41 7.96l-1.37-1.37c-.4-.4-.92-.59-1.43-.59-.52 0-1.04.2-1.43.59L10.3 9.45l-7.72 7.72c-.78.78-.78 2.05 0 2.83L4 21.41c.39.39.9.59 1.41.59.51 0 1.02-.2 1.41-.59l7.78-7.78 2.81-2.81c.8-.78.8-2.07 0-2.86zM5.41 20L4 18.59l7.72-7.72 1.47 1.35L5.41 20z\"/>\n",
              "  </svg>\n",
              "      </button>\n",
              "      \n",
              "  <style>\n",
              "    .colab-df-container {\n",
              "      display:flex;\n",
              "      flex-wrap:wrap;\n",
              "      gap: 12px;\n",
              "    }\n",
              "\n",
              "    .colab-df-convert {\n",
              "      background-color: #E8F0FE;\n",
              "      border: none;\n",
              "      border-radius: 50%;\n",
              "      cursor: pointer;\n",
              "      display: none;\n",
              "      fill: #1967D2;\n",
              "      height: 32px;\n",
              "      padding: 0 0 0 0;\n",
              "      width: 32px;\n",
              "    }\n",
              "\n",
              "    .colab-df-convert:hover {\n",
              "      background-color: #E2EBFA;\n",
              "      box-shadow: 0px 1px 2px rgba(60, 64, 67, 0.3), 0px 1px 3px 1px rgba(60, 64, 67, 0.15);\n",
              "      fill: #174EA6;\n",
              "    }\n",
              "\n",
              "    [theme=dark] .colab-df-convert {\n",
              "      background-color: #3B4455;\n",
              "      fill: #D2E3FC;\n",
              "    }\n",
              "\n",
              "    [theme=dark] .colab-df-convert:hover {\n",
              "      background-color: #434B5C;\n",
              "      box-shadow: 0px 1px 3px 1px rgba(0, 0, 0, 0.15);\n",
              "      filter: drop-shadow(0px 1px 2px rgba(0, 0, 0, 0.3));\n",
              "      fill: #FFFFFF;\n",
              "    }\n",
              "  </style>\n",
              "\n",
              "      <script>\n",
              "        const buttonEl =\n",
              "          document.querySelector('#df-b7498ac8-090e-4a6e-a5cd-2b3cf91b4bf2 button.colab-df-convert');\n",
              "        buttonEl.style.display =\n",
              "          google.colab.kernel.accessAllowed ? 'block' : 'none';\n",
              "\n",
              "        async function convertToInteractive(key) {\n",
              "          const element = document.querySelector('#df-b7498ac8-090e-4a6e-a5cd-2b3cf91b4bf2');\n",
              "          const dataTable =\n",
              "            await google.colab.kernel.invokeFunction('convertToInteractive',\n",
              "                                                     [key], {});\n",
              "          if (!dataTable) return;\n",
              "\n",
              "          const docLinkHtml = 'Like what you see? Visit the ' +\n",
              "            '<a target=\"_blank\" href=https://colab.research.google.com/notebooks/data_table.ipynb>data table notebook</a>'\n",
              "            + ' to learn more about interactive tables.';\n",
              "          element.innerHTML = '';\n",
              "          dataTable['output_type'] = 'display_data';\n",
              "          await google.colab.output.renderOutput(dataTable, element);\n",
              "          const docLink = document.createElement('div');\n",
              "          docLink.innerHTML = docLinkHtml;\n",
              "          element.appendChild(docLink);\n",
              "        }\n",
              "      </script>\n",
              "    </div>\n",
              "  </div>\n",
              "  "
            ]
          },
          "metadata": {},
          "execution_count": 9
        }
      ],
      "source": [
        "dataset.describe(include='all')"
      ]
    },
    {
      "cell_type": "code",
      "execution_count": null,
      "metadata": {
        "colab": {
          "base_uri": "https://localhost:8080/",
          "height": 206
        },
        "id": "HerkIdScE5uD",
        "outputId": "bb3a0381-8859-4894-bd90-f49948af4571"
      },
      "outputs": [
        {
          "output_type": "execute_result",
          "data": {
            "text/plain": [
              "         Store  DayOfWeek        Date  Sales  Customers  Open  Promo  \\\n",
              "1017204   1111          2  2013-01-01      0          0     0      0   \n",
              "1017205   1112          2  2013-01-01      0          0     0      0   \n",
              "1017206   1113          2  2013-01-01      0          0     0      0   \n",
              "1017207   1114          2  2013-01-01      0          0     0      0   \n",
              "1017208   1115          2  2013-01-01      0          0     0      0   \n",
              "\n",
              "        StateHoliday  SchoolHoliday  \n",
              "1017204            a              1  \n",
              "1017205            a              1  \n",
              "1017206            a              1  \n",
              "1017207            a              1  \n",
              "1017208            a              1  "
            ],
            "text/html": [
              "\n",
              "  <div id=\"df-58d37557-79dc-4ad2-802c-e33ae0660abf\">\n",
              "    <div class=\"colab-df-container\">\n",
              "      <div>\n",
              "<style scoped>\n",
              "    .dataframe tbody tr th:only-of-type {\n",
              "        vertical-align: middle;\n",
              "    }\n",
              "\n",
              "    .dataframe tbody tr th {\n",
              "        vertical-align: top;\n",
              "    }\n",
              "\n",
              "    .dataframe thead th {\n",
              "        text-align: right;\n",
              "    }\n",
              "</style>\n",
              "<table border=\"1\" class=\"dataframe\">\n",
              "  <thead>\n",
              "    <tr style=\"text-align: right;\">\n",
              "      <th></th>\n",
              "      <th>Store</th>\n",
              "      <th>DayOfWeek</th>\n",
              "      <th>Date</th>\n",
              "      <th>Sales</th>\n",
              "      <th>Customers</th>\n",
              "      <th>Open</th>\n",
              "      <th>Promo</th>\n",
              "      <th>StateHoliday</th>\n",
              "      <th>SchoolHoliday</th>\n",
              "    </tr>\n",
              "  </thead>\n",
              "  <tbody>\n",
              "    <tr>\n",
              "      <th>1017204</th>\n",
              "      <td>1111</td>\n",
              "      <td>2</td>\n",
              "      <td>2013-01-01</td>\n",
              "      <td>0</td>\n",
              "      <td>0</td>\n",
              "      <td>0</td>\n",
              "      <td>0</td>\n",
              "      <td>a</td>\n",
              "      <td>1</td>\n",
              "    </tr>\n",
              "    <tr>\n",
              "      <th>1017205</th>\n",
              "      <td>1112</td>\n",
              "      <td>2</td>\n",
              "      <td>2013-01-01</td>\n",
              "      <td>0</td>\n",
              "      <td>0</td>\n",
              "      <td>0</td>\n",
              "      <td>0</td>\n",
              "      <td>a</td>\n",
              "      <td>1</td>\n",
              "    </tr>\n",
              "    <tr>\n",
              "      <th>1017206</th>\n",
              "      <td>1113</td>\n",
              "      <td>2</td>\n",
              "      <td>2013-01-01</td>\n",
              "      <td>0</td>\n",
              "      <td>0</td>\n",
              "      <td>0</td>\n",
              "      <td>0</td>\n",
              "      <td>a</td>\n",
              "      <td>1</td>\n",
              "    </tr>\n",
              "    <tr>\n",
              "      <th>1017207</th>\n",
              "      <td>1114</td>\n",
              "      <td>2</td>\n",
              "      <td>2013-01-01</td>\n",
              "      <td>0</td>\n",
              "      <td>0</td>\n",
              "      <td>0</td>\n",
              "      <td>0</td>\n",
              "      <td>a</td>\n",
              "      <td>1</td>\n",
              "    </tr>\n",
              "    <tr>\n",
              "      <th>1017208</th>\n",
              "      <td>1115</td>\n",
              "      <td>2</td>\n",
              "      <td>2013-01-01</td>\n",
              "      <td>0</td>\n",
              "      <td>0</td>\n",
              "      <td>0</td>\n",
              "      <td>0</td>\n",
              "      <td>a</td>\n",
              "      <td>1</td>\n",
              "    </tr>\n",
              "  </tbody>\n",
              "</table>\n",
              "</div>\n",
              "      <button class=\"colab-df-convert\" onclick=\"convertToInteractive('df-58d37557-79dc-4ad2-802c-e33ae0660abf')\"\n",
              "              title=\"Convert this dataframe to an interactive table.\"\n",
              "              style=\"display:none;\">\n",
              "        \n",
              "  <svg xmlns=\"http://www.w3.org/2000/svg\" height=\"24px\"viewBox=\"0 0 24 24\"\n",
              "       width=\"24px\">\n",
              "    <path d=\"M0 0h24v24H0V0z\" fill=\"none\"/>\n",
              "    <path d=\"M18.56 5.44l.94 2.06.94-2.06 2.06-.94-2.06-.94-.94-2.06-.94 2.06-2.06.94zm-11 1L8.5 8.5l.94-2.06 2.06-.94-2.06-.94L8.5 2.5l-.94 2.06-2.06.94zm10 10l.94 2.06.94-2.06 2.06-.94-2.06-.94-.94-2.06-.94 2.06-2.06.94z\"/><path d=\"M17.41 7.96l-1.37-1.37c-.4-.4-.92-.59-1.43-.59-.52 0-1.04.2-1.43.59L10.3 9.45l-7.72 7.72c-.78.78-.78 2.05 0 2.83L4 21.41c.39.39.9.59 1.41.59.51 0 1.02-.2 1.41-.59l7.78-7.78 2.81-2.81c.8-.78.8-2.07 0-2.86zM5.41 20L4 18.59l7.72-7.72 1.47 1.35L5.41 20z\"/>\n",
              "  </svg>\n",
              "      </button>\n",
              "      \n",
              "  <style>\n",
              "    .colab-df-container {\n",
              "      display:flex;\n",
              "      flex-wrap:wrap;\n",
              "      gap: 12px;\n",
              "    }\n",
              "\n",
              "    .colab-df-convert {\n",
              "      background-color: #E8F0FE;\n",
              "      border: none;\n",
              "      border-radius: 50%;\n",
              "      cursor: pointer;\n",
              "      display: none;\n",
              "      fill: #1967D2;\n",
              "      height: 32px;\n",
              "      padding: 0 0 0 0;\n",
              "      width: 32px;\n",
              "    }\n",
              "\n",
              "    .colab-df-convert:hover {\n",
              "      background-color: #E2EBFA;\n",
              "      box-shadow: 0px 1px 2px rgba(60, 64, 67, 0.3), 0px 1px 3px 1px rgba(60, 64, 67, 0.15);\n",
              "      fill: #174EA6;\n",
              "    }\n",
              "\n",
              "    [theme=dark] .colab-df-convert {\n",
              "      background-color: #3B4455;\n",
              "      fill: #D2E3FC;\n",
              "    }\n",
              "\n",
              "    [theme=dark] .colab-df-convert:hover {\n",
              "      background-color: #434B5C;\n",
              "      box-shadow: 0px 1px 3px 1px rgba(0, 0, 0, 0.15);\n",
              "      filter: drop-shadow(0px 1px 2px rgba(0, 0, 0, 0.3));\n",
              "      fill: #FFFFFF;\n",
              "    }\n",
              "  </style>\n",
              "\n",
              "      <script>\n",
              "        const buttonEl =\n",
              "          document.querySelector('#df-58d37557-79dc-4ad2-802c-e33ae0660abf button.colab-df-convert');\n",
              "        buttonEl.style.display =\n",
              "          google.colab.kernel.accessAllowed ? 'block' : 'none';\n",
              "\n",
              "        async function convertToInteractive(key) {\n",
              "          const element = document.querySelector('#df-58d37557-79dc-4ad2-802c-e33ae0660abf');\n",
              "          const dataTable =\n",
              "            await google.colab.kernel.invokeFunction('convertToInteractive',\n",
              "                                                     [key], {});\n",
              "          if (!dataTable) return;\n",
              "\n",
              "          const docLinkHtml = 'Like what you see? Visit the ' +\n",
              "            '<a target=\"_blank\" href=https://colab.research.google.com/notebooks/data_table.ipynb>data table notebook</a>'\n",
              "            + ' to learn more about interactive tables.';\n",
              "          element.innerHTML = '';\n",
              "          dataTable['output_type'] = 'display_data';\n",
              "          await google.colab.output.renderOutput(dataTable, element);\n",
              "          const docLink = document.createElement('div');\n",
              "          docLink.innerHTML = docLinkHtml;\n",
              "          element.appendChild(docLink);\n",
              "        }\n",
              "      </script>\n",
              "    </div>\n",
              "  </div>\n",
              "  "
            ]
          },
          "metadata": {},
          "execution_count": 10
        }
      ],
      "source": [
        "dataset.tail()"
      ]
    },
    {
      "cell_type": "markdown",
      "metadata": {
        "id": "aG4P2dvmpMbX"
      },
      "source": [
        "\n",
        "```\n",
        "\n",
        "to find any null values or missing  are accurred or not its mojar one if we don't check the null values it we have lot of chances to get erorr"
      ]
    },
    {
      "cell_type": "code",
      "execution_count": null,
      "metadata": {
        "colab": {
          "base_uri": "https://localhost:8080/"
        },
        "id": "FlHLnPo5FgJc",
        "outputId": "21eee22d-7751-4975-fcbd-20380ea44d3d"
      },
      "outputs": [
        {
          "output_type": "execute_result",
          "data": {
            "text/plain": [
              "Store            0\n",
              "DayOfWeek        0\n",
              "Date             0\n",
              "Sales            0\n",
              "Customers        0\n",
              "Open             0\n",
              "Promo            0\n",
              "StateHoliday     0\n",
              "SchoolHoliday    0\n",
              "dtype: int64"
            ]
          },
          "metadata": {},
          "execution_count": 11
        }
      ],
      "source": [
        "dataset.isnull().sum()\n"
      ]
    },
    {
      "cell_type": "code",
      "execution_count": null,
      "metadata": {
        "colab": {
          "base_uri": "https://localhost:8080/"
        },
        "id": "BVcTalJCF6dL",
        "outputId": "4eda65d2-bcc2-4307-875f-9f0f1fd7dba1"
      },
      "outputs": [
        {
          "output_type": "execute_result",
          "data": {
            "text/plain": [
              "Store                          0\n",
              "StoreType                      0\n",
              "Assortment                     0\n",
              "CompetitionDistance            3\n",
              "CompetitionOpenSinceMonth    354\n",
              "CompetitionOpenSinceYear     354\n",
              "Promo2                         0\n",
              "Promo2SinceWeek              544\n",
              "Promo2SinceYear              544\n",
              "PromoInterval                544\n",
              "dtype: int64"
            ]
          },
          "metadata": {},
          "execution_count": 12
        }
      ],
      "source": [
        "dataset1.isnull().sum()\n"
      ]
    },
    {
      "cell_type": "code",
      "source": [
        ""
      ],
      "metadata": {
        "id": "djkO0eMzi3Q8"
      },
      "execution_count": null,
      "outputs": []
    },
    {
      "cell_type": "markdown",
      "source": [
        "# Feature Engineering"
      ],
      "metadata": {
        "id": "vwf5GZ14Uxrl"
      }
    },
    {
      "cell_type": "markdown",
      "metadata": {
        "id": "D3ruLnCApr98"
      },
      "source": [
        "in dataset1 4 variables have lot null values so we have to drop the variables "
      ]
    },
    {
      "cell_type": "code",
      "execution_count": null,
      "metadata": {
        "id": "wtDMa2cIfUaj"
      },
      "outputs": [],
      "source": [
        "dataset2=dataset1.drop(['CompetitionOpenSinceMonth','CompetitionOpenSinceYear','Promo2SinceWeek','Promo2SinceYear','PromoInterval'],axis=1)"
      ]
    },
    {
      "cell_type": "markdown",
      "metadata": {
        "id": "Vm2LgRhIqwp_"
      },
      "source": [
        "in the CompetitionDistance(variable) have 3 null values so we have to replace the some assumuning values"
      ]
    },
    {
      "cell_type": "code",
      "execution_count": null,
      "metadata": {
        "colab": {
          "base_uri": "https://localhost:8080/",
          "height": 312
        },
        "id": "z8_G8FlLgrqZ",
        "outputId": "673083c9-2531-4bb2-af55-7b7ce5811ed8"
      },
      "outputs": [
        {
          "output_type": "execute_result",
          "data": {
            "text/plain": [
              "Text(0.5, 1.0, 'Distributin of Store Competition Distance')"
            ]
          },
          "metadata": {},
          "execution_count": 14
        },
        {
          "output_type": "display_data",
          "data": {
            "text/plain": [
              "<Figure size 432x288 with 1 Axes>"
            ],
            "image/png": "[encoded data removed]"
          },
          "metadata": {
            "needs_background": "light"
          }
        }
      ],
      "source": [
        "sns.distplot(dataset2.CompetitionDistance.dropna())\n",
        "plt.title(\"Distributin of Store Competition Distance\")"
      ]
    },
    {
      "cell_type": "markdown",
      "metadata": {
        "id": "SLuLVLZnr2fr"
      },
      "source": [
        "so its right swewed and replacing values into meadian of the values it not effect "
      ]
    },
    {
      "cell_type": "code",
      "execution_count": null,
      "metadata": {
        "id": "3OdAMeeLhL7r"
      },
      "outputs": [],
      "source": [
        "dataset2.CompetitionDistance.fillna(dataset2.CompetitionDistance.median(), inplace=True)"
      ]
    },
    {
      "cell_type": "code",
      "execution_count": null,
      "metadata": {
        "colab": {
          "base_uri": "https://localhost:8080/",
          "height": 296
        },
        "id": "ZGklDSejhXIu",
        "outputId": "278dfb18-9f31-4bb4-d455-a938e191fc6d"
      },
      "outputs": [
        {
          "output_type": "execute_result",
          "data": {
            "text/plain": [
              "<matplotlib.axes._subplots.AxesSubplot at 0x7f6c65d9efd0>"
            ]
          },
          "metadata": {},
          "execution_count": 16
        },
        {
          "output_type": "display_data",
          "data": {
            "text/plain": [
              "<Figure size 432x288 with 1 Axes>"
            ],
            "image/png": "[encoded data removed]"
          },
          "metadata": {
            "needs_background": "light"
          }
        }
      ],
      "source": [
        "sns.distplot(dataset2.CompetitionDistance.dropna())"
      ]
    },
    {
      "cell_type": "markdown",
      "metadata": {
        "id": "8wJe85LxsoZP"
      },
      "source": [
        "to extract year,month and day from data"
      ]
    },
    {
      "cell_type": "code",
      "execution_count": null,
      "metadata": {
        "colab": {
          "base_uri": "https://localhost:8080/",
          "height": 424
        },
        "id": "wiI3-Khz1eD4",
        "outputId": "9b70fc16-b0ed-416d-c1d0-406503e00e72"
      },
      "outputs": [
        {
          "output_type": "execute_result",
          "data": {
            "text/plain": [
              "         Store  DayOfWeek        Date  Sales  Customers  Open  Promo  \\\n",
              "0            1          5  2015-07-31   5263        555     1      1   \n",
              "1            2          5  2015-07-31   6064        625     1      1   \n",
              "2            3          5  2015-07-31   8314        821     1      1   \n",
              "3            4          5  2015-07-31  13995       1498     1      1   \n",
              "4            5          5  2015-07-31   4822        559     1      1   \n",
              "...        ...        ...         ...    ...        ...   ...    ...   \n",
              "1017204   1111          2  2013-01-01      0          0     0      0   \n",
              "1017205   1112          2  2013-01-01      0          0     0      0   \n",
              "1017206   1113          2  2013-01-01      0          0     0      0   \n",
              "1017207   1114          2  2013-01-01      0          0     0      0   \n",
              "1017208   1115          2  2013-01-01      0          0     0      0   \n",
              "\n",
              "        StateHoliday  SchoolHoliday  year  month  day  \n",
              "0                  0              1  2015      7   31  \n",
              "1                  0              1  2015      7   31  \n",
              "2                  0              1  2015      7   31  \n",
              "3                  0              1  2015      7   31  \n",
              "4                  0              1  2015      7   31  \n",
              "...              ...            ...   ...    ...  ...  \n",
              "1017204            a              1  2013      1    1  \n",
              "1017205            a              1  2013      1    1  \n",
              "1017206            a              1  2013      1    1  \n",
              "1017207            a              1  2013      1    1  \n",
              "1017208            a              1  2013      1    1  \n",
              "\n",
              "[1017209 rows x 12 columns]"
            ],
            "text/html": [
              "\n",
              "  <div id=\"df-3eaef5b0-f0fc-44ae-a1cc-e7cea3c8bd3d\">\n",
              "    <div class=\"colab-df-container\">\n",
              "      <div>\n",
              "<style scoped>\n",
              "    .dataframe tbody tr th:only-of-type {\n",
              "        vertical-align: middle;\n",
              "    }\n",
              "\n",
              "    .dataframe tbody tr th {\n",
              "        vertical-align: top;\n",
              "    }\n",
              "\n",
              "    .dataframe thead th {\n",
              "        text-align: right;\n",
              "    }\n",
              "</style>\n",
              "<table border=\"1\" class=\"dataframe\">\n",
              "  <thead>\n",
              "    <tr style=\"text-align: right;\">\n",
              "      <th></th>\n",
              "      <th>Store</th>\n",
              "      <th>DayOfWeek</th>\n",
              "      <th>Date</th>\n",
              "      <th>Sales</th>\n",
              "      <th>Customers</th>\n",
              "      <th>Open</th>\n",
              "      <th>Promo</th>\n",
              "      <th>StateHoliday</th>\n",
              "      <th>SchoolHoliday</th>\n",
              "      <th>year</th>\n",
              "      <th>month</th>\n",
              "      <th>day</th>\n",
              "    </tr>\n",
              "  </thead>\n",
              "  <tbody>\n",
              "    <tr>\n",
              "      <th>0</th>\n",
              "      <td>1</td>\n",
              "      <td>5</td>\n",
              "      <td>2015-07-31</td>\n",
              "      <td>5263</td>\n",
              "      <td>555</td>\n",
              "      <td>1</td>\n",
              "      <td>1</td>\n",
              "      <td>0</td>\n",
              "      <td>1</td>\n",
              "      <td>2015</td>\n",
              "      <td>7</td>\n",
              "      <td>31</td>\n",
              "    </tr>\n",
              "    <tr>\n",
              "      <th>1</th>\n",
              "      <td>2</td>\n",
              "      <td>5</td>\n",
              "      <td>2015-07-31</td>\n",
              "      <td>6064</td>\n",
              "      <td>625</td>\n",
              "      <td>1</td>\n",
              "      <td>1</td>\n",
              "      <td>0</td>\n",
              "      <td>1</td>\n",
              "      <td>2015</td>\n",
              "      <td>7</td>\n",
              "      <td>31</td>\n",
              "    </tr>\n",
              "    <tr>\n",
              "      <th>2</th>\n",
              "      <td>3</td>\n",
              "      <td>5</td>\n",
              "      <td>2015-07-31</td>\n",
              "      <td>8314</td>\n",
              "      <td>821</td>\n",
              "      <td>1</td>\n",
              "      <td>1</td>\n",
              "      <td>0</td>\n",
              "      <td>1</td>\n",
              "      <td>2015</td>\n",
              "      <td>7</td>\n",
              "      <td>31</td>\n",
              "    </tr>\n",
              "    <tr>\n",
              "      <th>3</th>\n",
              "      <td>4</td>\n",
              "      <td>5</td>\n",
              "      <td>2015-07-31</td>\n",
              "      <td>13995</td>\n",
              "      <td>1498</td>\n",
              "      <td>1</td>\n",
              "      <td>1</td>\n",
              "      <td>0</td>\n",
              "      <td>1</td>\n",
              "      <td>2015</td>\n",
              "      <td>7</td>\n",
              "      <td>31</td>\n",
              "    </tr>\n",
              "    <tr>\n",
              "      <th>4</th>\n",
              "      <td>5</td>\n",
              "      <td>5</td>\n",
              "      <td>2015-07-31</td>\n",
              "      <td>4822</td>\n",
              "      <td>559</td>\n",
              "      <td>1</td>\n",
              "      <td>1</td>\n",
              "      <td>0</td>\n",
              "      <td>1</td>\n",
              "      <td>2015</td>\n",
              "      <td>7</td>\n",
              "      <td>31</td>\n",
              "    </tr>\n",
              "    <tr>\n",
              "      <th>...</th>\n",
              "      <td>...</td>\n",
              "      <td>...</td>\n",
              "      <td>...</td>\n",
              "      <td>...</td>\n",
              "      <td>...</td>\n",
              "      <td>...</td>\n",
              "      <td>...</td>\n",
              "      <td>...</td>\n",
              "      <td>...</td>\n",
              "      <td>...</td>\n",
              "      <td>...</td>\n",
              "      <td>...</td>\n",
              "    </tr>\n",
              "    <tr>\n",
              "      <th>1017204</th>\n",
              "      <td>1111</td>\n",
              "      <td>2</td>\n",
              "      <td>2013-01-01</td>\n",
              "      <td>0</td>\n",
              "      <td>0</td>\n",
              "      <td>0</td>\n",
              "      <td>0</td>\n",
              "      <td>a</td>\n",
              "      <td>1</td>\n",
              "      <td>2013</td>\n",
              "      <td>1</td>\n",
              "      <td>1</td>\n",
              "    </tr>\n",
              "    <tr>\n",
              "      <th>1017205</th>\n",
              "      <td>1112</td>\n",
              "      <td>2</td>\n",
              "      <td>2013-01-01</td>\n",
              "      <td>0</td>\n",
              "      <td>0</td>\n",
              "      <td>0</td>\n",
              "      <td>0</td>\n",
              "      <td>a</td>\n",
              "      <td>1</td>\n",
              "      <td>2013</td>\n",
              "      <td>1</td>\n",
              "      <td>1</td>\n",
              "    </tr>\n",
              "    <tr>\n",
              "      <th>1017206</th>\n",
              "      <td>1113</td>\n",
              "      <td>2</td>\n",
              "      <td>2013-01-01</td>\n",
              "      <td>0</td>\n",
              "      <td>0</td>\n",
              "      <td>0</td>\n",
              "      <td>0</td>\n",
              "      <td>a</td>\n",
              "      <td>1</td>\n",
              "      <td>2013</td>\n",
              "      <td>1</td>\n",
              "      <td>1</td>\n",
              "    </tr>\n",
              "    <tr>\n",
              "      <th>1017207</th>\n",
              "      <td>1114</td>\n",
              "      <td>2</td>\n",
              "      <td>2013-01-01</td>\n",
              "      <td>0</td>\n",
              "      <td>0</td>\n",
              "      <td>0</td>\n",
              "      <td>0</td>\n",
              "      <td>a</td>\n",
              "      <td>1</td>\n",
              "      <td>2013</td>\n",
              "      <td>1</td>\n",
              "      <td>1</td>\n",
              "    </tr>\n",
              "    <tr>\n",
              "      <th>1017208</th>\n",
              "      <td>1115</td>\n",
              "      <td>2</td>\n",
              "      <td>2013-01-01</td>\n",
              "      <td>0</td>\n",
              "      <td>0</td>\n",
              "      <td>0</td>\n",
              "      <td>0</td>\n",
              "      <td>a</td>\n",
              "      <td>1</td>\n",
              "      <td>2013</td>\n",
              "      <td>1</td>\n",
              "      <td>1</td>\n",
              "    </tr>\n",
              "  </tbody>\n",
              "</table>\n",
              "<p>1017209 rows × 12 columns</p>\n",
              "</div>\n",
              "      <button class=\"colab-df-convert\" onclick=\"convertToInteractive('df-3eaef5b0-f0fc-44ae-a1cc-e7cea3c8bd3d')\"\n",
              "              title=\"Convert this dataframe to an interactive table.\"\n",
              "              style=\"display:none;\">\n",
              "        \n",
              "  <svg xmlns=\"http://www.w3.org/2000/svg\" height=\"24px\"viewBox=\"0 0 24 24\"\n",
              "       width=\"24px\">\n",
              "    <path d=\"M0 0h24v24H0V0z\" fill=\"none\"/>\n",
              "    <path d=\"M18.56 5.44l.94 2.06.94-2.06 2.06-.94-2.06-.94-.94-2.06-.94 2.06-2.06.94zm-11 1L8.5 8.5l.94-2.06 2.06-.94-2.06-.94L8.5 2.5l-.94 2.06-2.06.94zm10 10l.94 2.06.94-2.06 2.06-.94-2.06-.94-.94-2.06-.94 2.06-2.06.94z\"/><path d=\"M17.41 7.96l-1.37-1.37c-.4-.4-.92-.59-1.43-.59-.52 0-1.04.2-1.43.59L10.3 9.45l-7.72 7.72c-.78.78-.78 2.05 0 2.83L4 21.41c.39.39.9.59 1.41.59.51 0 1.02-.2 1.41-.59l7.78-7.78 2.81-2.81c.8-.78.8-2.07 0-2.86zM5.41 20L4 18.59l7.72-7.72 1.47 1.35L5.41 20z\"/>\n",
              "  </svg>\n",
              "      </button>\n",
              "      \n",
              "  <style>\n",
              "    .colab-df-container {\n",
              "      display:flex;\n",
              "      flex-wrap:wrap;\n",
              "      gap: 12px;\n",
              "    }\n",
              "\n",
              "    .colab-df-convert {\n",
              "      background-color: #E8F0FE;\n",
              "      border: none;\n",
              "      border-radius: 50%;\n",
              "      cursor: pointer;\n",
              "      display: none;\n",
              "      fill: #1967D2;\n",
              "      height: 32px;\n",
              "      padding: 0 0 0 0;\n",
              "      width: 32px;\n",
              "    }\n",
              "\n",
              "    .colab-df-convert:hover {\n",
              "      background-color: #E2EBFA;\n",
              "      box-shadow: 0px 1px 2px rgba(60, 64, 67, 0.3), 0px 1px 3px 1px rgba(60, 64, 67, 0.15);\n",
              "      fill: #174EA6;\n",
              "    }\n",
              "\n",
              "    [theme=dark] .colab-df-convert {\n",
              "      background-color: #3B4455;\n",
              "      fill: #D2E3FC;\n",
              "    }\n",
              "\n",
              "    [theme=dark] .colab-df-convert:hover {\n",
              "      background-color: #434B5C;\n",
              "      box-shadow: 0px 1px 3px 1px rgba(0, 0, 0, 0.15);\n",
              "      filter: drop-shadow(0px 1px 2px rgba(0, 0, 0, 0.3));\n",
              "      fill: #FFFFFF;\n",
              "    }\n",
              "  </style>\n",
              "\n",
              "      <script>\n",
              "        const buttonEl =\n",
              "          document.querySelector('#df-3eaef5b0-f0fc-44ae-a1cc-e7cea3c8bd3d button.colab-df-convert');\n",
              "        buttonEl.style.display =\n",
              "          google.colab.kernel.accessAllowed ? 'block' : 'none';\n",
              "\n",
              "        async function convertToInteractive(key) {\n",
              "          const element = document.querySelector('#df-3eaef5b0-f0fc-44ae-a1cc-e7cea3c8bd3d');\n",
              "          const dataTable =\n",
              "            await google.colab.kernel.invokeFunction('convertToInteractive',\n",
              "                                                     [key], {});\n",
              "          if (!dataTable) return;\n",
              "\n",
              "          const docLinkHtml = 'Like what you see? Visit the ' +\n",
              "            '<a target=\"_blank\" href=https://colab.research.google.com/notebooks/data_table.ipynb>data table notebook</a>'\n",
              "            + ' to learn more about interactive tables.';\n",
              "          element.innerHTML = '';\n",
              "          dataTable['output_type'] = 'display_data';\n",
              "          await google.colab.output.renderOutput(dataTable, element);\n",
              "          const docLink = document.createElement('div');\n",
              "          docLink.innerHTML = docLinkHtml;\n",
              "          element.appendChild(docLink);\n",
              "        }\n",
              "      </script>\n",
              "    </div>\n",
              "  </div>\n",
              "  "
            ]
          },
          "metadata": {},
          "execution_count": 17
        }
      ],
      "source": [
        "dataset['year'] = pd.DatetimeIndex(dataset['Date']).year\n",
        "dataset['month'] = pd.DatetimeIndex(dataset['Date']).month\n",
        "dataset['day'] = pd.DatetimeIndex(dataset['Date']).day\n",
        "dataset"
      ]
    },
    {
      "cell_type": "markdown",
      "metadata": {
        "id": "w8ZlzEM5s9rR"
      },
      "source": [
        "to marging into one table "
      ]
    },
    {
      "cell_type": "code",
      "execution_count": null,
      "metadata": {
        "colab": {
          "base_uri": "https://localhost:8080/",
          "height": 407
        },
        "id": "i0KhywQGhxFc",
        "outputId": "9a894191-acbc-4a37-c8ad-4bdf7f075579"
      },
      "outputs": [
        {
          "output_type": "execute_result",
          "data": {
            "text/plain": [
              "   Store  DayOfWeek        Date  Sales  Customers  Open  Promo StateHoliday  \\\n",
              "0      1          5  2015-07-31   5263        555     1      1            0   \n",
              "1      2          5  2015-07-31   6064        625     1      1            0   \n",
              "2      3          5  2015-07-31   8314        821     1      1            0   \n",
              "3      4          5  2015-07-31  13995       1498     1      1            0   \n",
              "4      5          5  2015-07-31   4822        559     1      1            0   \n",
              "5      6          5  2015-07-31   5651        589     1      1            0   \n",
              "6      7          5  2015-07-31  15344       1414     1      1            0   \n",
              "7      8          5  2015-07-31   8492        833     1      1            0   \n",
              "8      9          5  2015-07-31   8565        687     1      1            0   \n",
              "9     10          5  2015-07-31   7185        681     1      1            0   \n",
              "\n",
              "   SchoolHoliday  year  month  day StoreType Assortment  CompetitionDistance  \\\n",
              "0              1  2015      7   31         c          a               1270.0   \n",
              "1              1  2015      7   31         a          a                570.0   \n",
              "2              1  2015      7   31         a          a              14130.0   \n",
              "3              1  2015      7   31         c          c                620.0   \n",
              "4              1  2015      7   31         a          a              29910.0   \n",
              "5              1  2015      7   31         a          a                310.0   \n",
              "6              1  2015      7   31         a          c              24000.0   \n",
              "7              1  2015      7   31         a          a               7520.0   \n",
              "8              1  2015      7   31         a          c               2030.0   \n",
              "9              1  2015      7   31         a          a               3160.0   \n",
              "\n",
              "   Promo2  \n",
              "0       0  \n",
              "1       1  \n",
              "2       1  \n",
              "3       0  \n",
              "4       0  \n",
              "5       0  \n",
              "6       0  \n",
              "7       0  \n",
              "8       0  \n",
              "9       0  "
            ],
            "text/html": [
              "\n",
              "  <div id=\"df-9fc7e7c2-9007-45b3-8a84-d0c44d110ee4\">\n",
              "    <div class=\"colab-df-container\">\n",
              "      <div>\n",
              "<style scoped>\n",
              "    .dataframe tbody tr th:only-of-type {\n",
              "        vertical-align: middle;\n",
              "    }\n",
              "\n",
              "    .dataframe tbody tr th {\n",
              "        vertical-align: top;\n",
              "    }\n",
              "\n",
              "    .dataframe thead th {\n",
              "        text-align: right;\n",
              "    }\n",
              "</style>\n",
              "<table border=\"1\" class=\"dataframe\">\n",
              "  <thead>\n",
              "    <tr style=\"text-align: right;\">\n",
              "      <th></th>\n",
              "      <th>Store</th>\n",
              "      <th>DayOfWeek</th>\n",
              "      <th>Date</th>\n",
              "      <th>Sales</th>\n",
              "      <th>Customers</th>\n",
              "      <th>Open</th>\n",
              "      <th>Promo</th>\n",
              "      <th>StateHoliday</th>\n",
              "      <th>SchoolHoliday</th>\n",
              "      <th>year</th>\n",
              "      <th>month</th>\n",
              "      <th>day</th>\n",
              "      <th>StoreType</th>\n",
              "      <th>Assortment</th>\n",
              "      <th>CompetitionDistance</th>\n",
              "      <th>Promo2</th>\n",
              "    </tr>\n",
              "  </thead>\n",
              "  <tbody>\n",
              "    <tr>\n",
              "      <th>0</th>\n",
              "      <td>1</td>\n",
              "      <td>5</td>\n",
              "      <td>2015-07-31</td>\n",
              "      <td>5263</td>\n",
              "      <td>555</td>\n",
              "      <td>1</td>\n",
              "      <td>1</td>\n",
              "      <td>0</td>\n",
              "      <td>1</td>\n",
              "      <td>2015</td>\n",
              "      <td>7</td>\n",
              "      <td>31</td>\n",
              "      <td>c</td>\n",
              "      <td>a</td>\n",
              "      <td>1270.0</td>\n",
              "      <td>0</td>\n",
              "    </tr>\n",
              "    <tr>\n",
              "      <th>1</th>\n",
              "      <td>2</td>\n",
              "      <td>5</td>\n",
              "      <td>2015-07-31</td>\n",
              "      <td>6064</td>\n",
              "      <td>625</td>\n",
              "      <td>1</td>\n",
              "      <td>1</td>\n",
              "      <td>0</td>\n",
              "      <td>1</td>\n",
              "      <td>2015</td>\n",
              "      <td>7</td>\n",
              "      <td>31</td>\n",
              "      <td>a</td>\n",
              "      <td>a</td>\n",
              "      <td>570.0</td>\n",
              "      <td>1</td>\n",
              "    </tr>\n",
              "    <tr>\n",
              "      <th>2</th>\n",
              "      <td>3</td>\n",
              "      <td>5</td>\n",
              "      <td>2015-07-31</td>\n",
              "      <td>8314</td>\n",
              "      <td>821</td>\n",
              "      <td>1</td>\n",
              "      <td>1</td>\n",
              "      <td>0</td>\n",
              "      <td>1</td>\n",
              "      <td>2015</td>\n",
              "      <td>7</td>\n",
              "      <td>31</td>\n",
              "      <td>a</td>\n",
              "      <td>a</td>\n",
              "      <td>14130.0</td>\n",
              "      <td>1</td>\n",
              "    </tr>\n",
              "    <tr>\n",
              "      <th>3</th>\n",
              "      <td>4</td>\n",
              "      <td>5</td>\n",
              "      <td>2015-07-31</td>\n",
              "      <td>13995</td>\n",
              "      <td>1498</td>\n",
              "      <td>1</td>\n",
              "      <td>1</td>\n",
              "      <td>0</td>\n",
              "      <td>1</td>\n",
              "      <td>2015</td>\n",
              "      <td>7</td>\n",
              "      <td>31</td>\n",
              "      <td>c</td>\n",
              "      <td>c</td>\n",
              "      <td>620.0</td>\n",
              "      <td>0</td>\n",
              "    </tr>\n",
              "    <tr>\n",
              "      <th>4</th>\n",
              "      <td>5</td>\n",
              "      <td>5</td>\n",
              "      <td>2015-07-31</td>\n",
              "      <td>4822</td>\n",
              "      <td>559</td>\n",
              "      <td>1</td>\n",
              "      <td>1</td>\n",
              "      <td>0</td>\n",
              "      <td>1</td>\n",
              "      <td>2015</td>\n",
              "      <td>7</td>\n",
              "      <td>31</td>\n",
              "      <td>a</td>\n",
              "      <td>a</td>\n",
              "      <td>29910.0</td>\n",
              "      <td>0</td>\n",
              "    </tr>\n",
              "    <tr>\n",
              "      <th>5</th>\n",
              "      <td>6</td>\n",
              "      <td>5</td>\n",
              "      <td>2015-07-31</td>\n",
              "      <td>5651</td>\n",
              "      <td>589</td>\n",
              "      <td>1</td>\n",
              "      <td>1</td>\n",
              "      <td>0</td>\n",
              "      <td>1</td>\n",
              "      <td>2015</td>\n",
              "      <td>7</td>\n",
              "      <td>31</td>\n",
              "      <td>a</td>\n",
              "      <td>a</td>\n",
              "      <td>310.0</td>\n",
              "      <td>0</td>\n",
              "    </tr>\n",
              "    <tr>\n",
              "      <th>6</th>\n",
              "      <td>7</td>\n",
              "      <td>5</td>\n",
              "      <td>2015-07-31</td>\n",
              "      <td>15344</td>\n",
              "      <td>1414</td>\n",
              "      <td>1</td>\n",
              "      <td>1</td>\n",
              "      <td>0</td>\n",
              "      <td>1</td>\n",
              "      <td>2015</td>\n",
              "      <td>7</td>\n",
              "      <td>31</td>\n",
              "      <td>a</td>\n",
              "      <td>c</td>\n",
              "      <td>24000.0</td>\n",
              "      <td>0</td>\n",
              "    </tr>\n",
              "    <tr>\n",
              "      <th>7</th>\n",
              "      <td>8</td>\n",
              "      <td>5</td>\n",
              "      <td>2015-07-31</td>\n",
              "      <td>8492</td>\n",
              "      <td>833</td>\n",
              "      <td>1</td>\n",
              "      <td>1</td>\n",
              "      <td>0</td>\n",
              "      <td>1</td>\n",
              "      <td>2015</td>\n",
              "      <td>7</td>\n",
              "      <td>31</td>\n",
              "      <td>a</td>\n",
              "      <td>a</td>\n",
              "      <td>7520.0</td>\n",
              "      <td>0</td>\n",
              "    </tr>\n",
              "    <tr>\n",
              "      <th>8</th>\n",
              "      <td>9</td>\n",
              "      <td>5</td>\n",
              "      <td>2015-07-31</td>\n",
              "      <td>8565</td>\n",
              "      <td>687</td>\n",
              "      <td>1</td>\n",
              "      <td>1</td>\n",
              "      <td>0</td>\n",
              "      <td>1</td>\n",
              "      <td>2015</td>\n",
              "      <td>7</td>\n",
              "      <td>31</td>\n",
              "      <td>a</td>\n",
              "      <td>c</td>\n",
              "      <td>2030.0</td>\n",
              "      <td>0</td>\n",
              "    </tr>\n",
              "    <tr>\n",
              "      <th>9</th>\n",
              "      <td>10</td>\n",
              "      <td>5</td>\n",
              "      <td>2015-07-31</td>\n",
              "      <td>7185</td>\n",
              "      <td>681</td>\n",
              "      <td>1</td>\n",
              "      <td>1</td>\n",
              "      <td>0</td>\n",
              "      <td>1</td>\n",
              "      <td>2015</td>\n",
              "      <td>7</td>\n",
              "      <td>31</td>\n",
              "      <td>a</td>\n",
              "      <td>a</td>\n",
              "      <td>3160.0</td>\n",
              "      <td>0</td>\n",
              "    </tr>\n",
              "  </tbody>\n",
              "</table>\n",
              "</div>\n",
              "      <button class=\"colab-df-convert\" onclick=\"convertToInteractive('df-9fc7e7c2-9007-45b3-8a84-d0c44d110ee4')\"\n",
              "              title=\"Convert this dataframe to an interactive table.\"\n",
              "              style=\"display:none;\">\n",
              "        \n",
              "  <svg xmlns=\"http://www.w3.org/2000/svg\" height=\"24px\"viewBox=\"0 0 24 24\"\n",
              "       width=\"24px\">\n",
              "    <path d=\"M0 0h24v24H0V0z\" fill=\"none\"/>\n",
              "    <path d=\"M18.56 5.44l.94 2.06.94-2.06 2.06-.94-2.06-.94-.94-2.06-.94 2.06-2.06.94zm-11 1L8.5 8.5l.94-2.06 2.06-.94-2.06-.94L8.5 2.5l-.94 2.06-2.06.94zm10 10l.94 2.06.94-2.06 2.06-.94-2.06-.94-.94-2.06-.94 2.06-2.06.94z\"/><path d=\"M17.41 7.96l-1.37-1.37c-.4-.4-.92-.59-1.43-.59-.52 0-1.04.2-1.43.59L10.3 9.45l-7.72 7.72c-.78.78-.78 2.05 0 2.83L4 21.41c.39.39.9.59 1.41.59.51 0 1.02-.2 1.41-.59l7.78-7.78 2.81-2.81c.8-.78.8-2.07 0-2.86zM5.41 20L4 18.59l7.72-7.72 1.47 1.35L5.41 20z\"/>\n",
              "  </svg>\n",
              "      </button>\n",
              "      \n",
              "  <style>\n",
              "    .colab-df-container {\n",
              "      display:flex;\n",
              "      flex-wrap:wrap;\n",
              "      gap: 12px;\n",
              "    }\n",
              "\n",
              "    .colab-df-convert {\n",
              "      background-color: #E8F0FE;\n",
              "      border: none;\n",
              "      border-radius: 50%;\n",
              "      cursor: pointer;\n",
              "      display: none;\n",
              "      fill: #1967D2;\n",
              "      height: 32px;\n",
              "      padding: 0 0 0 0;\n",
              "      width: 32px;\n",
              "    }\n",
              "\n",
              "    .colab-df-convert:hover {\n",
              "      background-color: #E2EBFA;\n",
              "      box-shadow: 0px 1px 2px rgba(60, 64, 67, 0.3), 0px 1px 3px 1px rgba(60, 64, 67, 0.15);\n",
              "      fill: #174EA6;\n",
              "    }\n",
              "\n",
              "    [theme=dark] .colab-df-convert {\n",
              "      background-color: #3B4455;\n",
              "      fill: #D2E3FC;\n",
              "    }\n",
              "\n",
              "    [theme=dark] .colab-df-convert:hover {\n",
              "      background-color: #434B5C;\n",
              "      box-shadow: 0px 1px 3px 1px rgba(0, 0, 0, 0.15);\n",
              "      filter: drop-shadow(0px 1px 2px rgba(0, 0, 0, 0.3));\n",
              "      fill: #FFFFFF;\n",
              "    }\n",
              "  </style>\n",
              "\n",
              "      <script>\n",
              "        const buttonEl =\n",
              "          document.querySelector('#df-9fc7e7c2-9007-45b3-8a84-d0c44d110ee4 button.colab-df-convert');\n",
              "        buttonEl.style.display =\n",
              "          google.colab.kernel.accessAllowed ? 'block' : 'none';\n",
              "\n",
              "        async function convertToInteractive(key) {\n",
              "          const element = document.querySelector('#df-9fc7e7c2-9007-45b3-8a84-d0c44d110ee4');\n",
              "          const dataTable =\n",
              "            await google.colab.kernel.invokeFunction('convertToInteractive',\n",
              "                                                     [key], {});\n",
              "          if (!dataTable) return;\n",
              "\n",
              "          const docLinkHtml = 'Like what you see? Visit the ' +\n",
              "            '<a target=\"_blank\" href=https://colab.research.google.com/notebooks/data_table.ipynb>data table notebook</a>'\n",
              "            + ' to learn more about interactive tables.';\n",
              "          element.innerHTML = '';\n",
              "          dataTable['output_type'] = 'display_data';\n",
              "          await google.colab.output.renderOutput(dataTable, element);\n",
              "          const docLink = document.createElement('div');\n",
              "          docLink.innerHTML = docLinkHtml;\n",
              "          element.appendChild(docLink);\n",
              "        }\n",
              "      </script>\n",
              "    </div>\n",
              "  </div>\n",
              "  "
            ]
          },
          "metadata": {},
          "execution_count": 19
        }
      ],
      "source": [
        "df = pd.merge(dataset, dataset2, how='left', on='Store')\n",
        "df.head(10)"
      ]
    },
    {
      "cell_type": "markdown",
      "metadata": {
        "id": "haP_9roPtH8S"
      },
      "source": [
        "if stores are close it wont genarate sales so which stores are closed that we have to drop"
      ]
    },
    {
      "cell_type": "code",
      "execution_count": null,
      "metadata": {
        "id": "WqFok27v2dTR"
      },
      "outputs": [],
      "source": [
        "df = df[df.Open != 0]"
      ]
    },
    {
      "cell_type": "markdown",
      "source": [
        "df = df.drop('Open', axis=1)"
      ],
      "metadata": {
        "id": "8pAn12xKhXPt"
      }
    },
    {
      "cell_type": "markdown",
      "metadata": {
        "id": "dZf1DyaTt4P7"
      },
      "source": [
        "for knowing if store is opened but no sales"
      ]
    },
    {
      "cell_type": "code",
      "execution_count": null,
      "metadata": {
        "colab": {
          "base_uri": "https://localhost:8080/"
        },
        "id": "jsMpslxrkjY2",
        "outputId": "376aba78-d1fb-4f1b-e775-6ee626ad71ee"
      },
      "outputs": [
        {
          "output_type": "execute_result",
          "data": {
            "text/plain": [
              "31460"
            ]
          },
          "metadata": {},
          "execution_count": 29
        }
      ],
      "source": [
        "df[df.Sales == 0]['Store'].sum()"
      ]
    },
    {
      "cell_type": "markdown",
      "metadata": {
        "id": "ZGo6kAdyuNIh"
      },
      "source": [
        "to find percentage"
      ]
    },
    {
      "cell_type": "code",
      "execution_count": null,
      "metadata": {
        "colab": {
          "base_uri": "https://localhost:8080/"
        },
        "id": "03BSS5nvhXS3",
        "outputId": "664da286-cbc9-45b5-dd5b-7c936bd7be6c"
      },
      "outputs": [
        {
          "output_type": "execute_result",
          "data": {
            "text/plain": [
              "0.0"
            ]
          },
          "metadata": {},
          "execution_count": 30
        }
      ],
      "source": [
        "df[df.Sales == 0]['Sales'].sum()/df.Sales.sum()"
      ]
    },
    {
      "cell_type": "code",
      "execution_count": null,
      "metadata": {
        "id": "V1EVjFiAmn7Y"
      },
      "outputs": [],
      "source": [
        "df = df[df.Sales != 0]"
      ]
    },
    {
      "cell_type": "markdown",
      "metadata": {
        "id": "wS37DHYuujzc"
      },
      "source": [
        "let as jump into  Feature Engineering"
      ]
    },
    {
      "cell_type": "markdown",
      "metadata": {
        "id": "Df3gK3Hvu0Sw"
      },
      "source": [
        "let as know about the variables "
      ]
    },
    {
      "cell_type": "code",
      "execution_count": null,
      "metadata": {
        "colab": {
          "base_uri": "https://localhost:8080/"
        },
        "id": "KC4KxSB8qYV1",
        "outputId": "7c6ac1f1-807d-4d93-d3cc-37e292361aa0"
      },
      "outputs": [
        {
          "output_type": "stream",
          "name": "stdout",
          "text": [
            "<class 'pandas.core.frame.DataFrame'>\n",
            "Int64Index: 844338 entries, 0 to 1017190\n",
            "Data columns (total 15 columns):\n",
            " #   Column               Non-Null Count   Dtype  \n",
            "---  ------               --------------   -----  \n",
            " 0   Store                844338 non-null  int64  \n",
            " 1   DayOfWeek            844338 non-null  int64  \n",
            " 2   Date                 844338 non-null  object \n",
            " 3   Sales                844338 non-null  int64  \n",
            " 4   Customers            844338 non-null  int64  \n",
            " 5   Promo                844338 non-null  int64  \n",
            " 6   StateHoliday         844338 non-null  object \n",
            " 7   SchoolHoliday        844338 non-null  int64  \n",
            " 8   year                 844338 non-null  int64  \n",
            " 9   month                844338 non-null  int64  \n",
            " 10  day                  844338 non-null  int64  \n",
            " 11  StoreType            844338 non-null  object \n",
            " 12  Assortment           844338 non-null  object \n",
            " 13  CompetitionDistance  844338 non-null  float64\n",
            " 14  Promo2               844338 non-null  int64  \n",
            "dtypes: float64(1), int64(10), object(4)\n",
            "memory usage: 103.1+ MB\n"
          ]
        }
      ],
      "source": [
        "df.info()"
      ]
    },
    {
      "cell_type": "markdown",
      "metadata": {
        "id": "Kltn4ql8vhZc"
      },
      "source": [
        "to see nominal variables"
      ]
    },
    {
      "cell_type": "code",
      "execution_count": null,
      "metadata": {
        "colab": {
          "base_uri": "https://localhost:8080/"
        },
        "id": "0lAVf8qphXVp",
        "outputId": "95b040af-f9df-46a6-9eb4-9e5a6b151b3e"
      },
      "outputs": [
        {
          "output_type": "execute_result",
          "data": {
            "text/plain": [
              "({0, '0', 'a', 'b', 'c'}, {'a', 'b', 'c', 'd'}, {'a', 'b', 'c'})"
            ]
          },
          "metadata": {},
          "execution_count": 26
        }
      ],
      "source": [
        "set(df.StateHoliday), set(df.StoreType), set(df.Assortment)"
      ]
    },
    {
      "cell_type": "markdown",
      "metadata": {
        "id": "O-olCxEHvnQ3"
      },
      "source": [
        "StateHoliday indicates a state holiday - a = public holiday, b = Easter holiday, c = Christmas, 0 = None\n",
        "convert number 0 to string 0"
      ]
    },
    {
      "cell_type": "code",
      "execution_count": null,
      "metadata": {
        "id": "K1q90ybwm6Aq"
      },
      "outputs": [],
      "source": [
        "df.loc[df.StateHoliday == 0,'StateHoliday'] = df.loc[df.StateHoliday == 0,'StateHoliday'].astype(str)"
      ]
    },
    {
      "cell_type": "markdown",
      "metadata": {
        "id": "0PqX-u3GvuMK"
      },
      "source": [
        "to copy data into another variables for not loosing any data "
      ]
    },
    {
      "cell_type": "code",
      "execution_count": null,
      "metadata": {
        "id": "h823HPbKhXYe"
      },
      "outputs": [],
      "source": [
        "df1 = df.copy()"
      ]
    },
    {
      "cell_type": "markdown",
      "metadata": {
        "id": "4JbvqEoBwYBN"
      },
      "source": [
        "to create another variable for avarage sales in monthly manar "
      ]
    },
    {
      "cell_type": "code",
      "execution_count": null,
      "metadata": {
        "id": "xpSO0EP8hXbc"
      },
      "outputs": [],
      "source": [
        "sales = df1[['year','month','Store','Sales']].groupby(['year','month','Store']).mean()\n",
        "sales = sales.rename(columns={'Sales':'AvgSales'})\n",
        "sales = sales.reset_index()\n"
      ]
    },
    {
      "cell_type": "code",
      "execution_count": null,
      "metadata": {
        "id": "YFGc1lq4hXe-"
      },
      "outputs": [],
      "source": [
        "df1['sales_key']=df1['year'].map(str) + df1['month'].map(str) + df1['Store'].map(str)\n",
        "sales['sales_key']=sales['year'].map(str) + sales['month'].map(str) + sales['Store'].map(str)"
      ]
    },
    {
      "cell_type": "markdown",
      "metadata": {
        "id": "cOMvMyc-xIgI"
      },
      "source": [
        "now we droping the extra columns "
      ]
    },
    {
      "cell_type": "code",
      "execution_count": null,
      "metadata": {
        "id": "s-etcu5LhXh0"
      },
      "outputs": [],
      "source": [
        "sales = sales.drop(['year','month','Store'], axis=1)\n",
        "\n"
      ]
    },
    {
      "cell_type": "markdown",
      "metadata": {
        "id": "43qbFaKWxOqL"
      },
      "source": [
        "to marging sales and df1"
      ]
    },
    {
      "cell_type": "code",
      "execution_count": null,
      "metadata": {
        "id": "XGjah0qBxGdf"
      },
      "outputs": [],
      "source": [
        "df1 = pd.merge(df1, sales, how='left', on=('sales_key'))"
      ]
    },
    {
      "cell_type": "markdown",
      "metadata": {
        "id": "Ws8C5zLrxzSO"
      },
      "source": [
        "create a variable that calculates Monthly average number of customers for each store, becuase daily number of customer is another variable to be predicted"
      ]
    },
    {
      "cell_type": "code",
      "execution_count": null,
      "metadata": {
        "id": "benUb6qphXkb"
      },
      "outputs": [],
      "source": [
        "cust = df1[['year','month','Store','Customers']].groupby(['year','month', 'Store']).mean()\n",
        "cust = cust.rename(columns={'Customers':'AvgCustomer'})\n",
        "cust = cust.reset_index()"
      ]
    },
    {
      "cell_type": "code",
      "execution_count": null,
      "metadata": {
        "id": "qeJ1EoFnhXnP"
      },
      "outputs": [],
      "source": [
        "df1['cust_key']=df1['year'].map(str) + df1['month'].map(str) + df1['Store'].map(str)\n",
        "cust['cust_key']=cust['year'].map(str) + cust['month'].map(str) + cust['Store'].map(str)"
      ]
    },
    {
      "cell_type": "markdown",
      "metadata": {
        "id": "Nws1Bcu7yE8d"
      },
      "source": [
        "droping the original variables"
      ]
    },
    {
      "cell_type": "code",
      "execution_count": null,
      "metadata": {
        "id": "yw-X2euZhXqt"
      },
      "outputs": [],
      "source": [
        "df1 = df1.drop('Customers', axis=1)# drop extra columns\n",
        "cust = cust.drop(['year', 'month', 'Store'], axis=1)"
      ]
    },
    {
      "cell_type": "markdown",
      "metadata": {
        "id": "r3t8ATahyVig"
      },
      "source": [
        "to again marging"
      ]
    },
    {
      "cell_type": "code",
      "execution_count": null,
      "metadata": {
        "id": "uXrbm-57hXw6"
      },
      "outputs": [],
      "source": [
        "df1 = pd.merge(df1, cust, how=\"left\", on=('cust_key'))"
      ]
    },
    {
      "cell_type": "markdown",
      "metadata": {
        "id": "1b4Psk_xy1_3"
      },
      "source": [
        "tranform variable stateholidy  0 means not stateholidy 1 means stateholidy"
      ]
    },
    {
      "cell_type": "code",
      "execution_count": null,
      "metadata": {
        "id": "zfQ6iliEhX0G"
      },
      "outputs": [],
      "source": [
        "df1['StateHoliday'] = df1.StateHoliday.map({'0':0, 'a':1 ,'b' : 1,'c': 1})"
      ]
    },
    {
      "cell_type": "code",
      "execution_count": null,
      "metadata": {
        "id": "F__WoeqlhX3C"
      },
      "outputs": [],
      "source": [
        "df1 = df1.drop(['cust_key','sales_key','Store','Date'], axis=1)# droping extra columns"
      ]
    },
    {
      "cell_type": "markdown",
      "source": [
        "# Exploratory data analysis & Correlation"
      ],
      "metadata": {
        "id": "Y2j04yN4JLET"
      }
    },
    {
      "cell_type": "markdown",
      "metadata": {
        "id": "DIVVr1DuWWlB"
      },
      "source": [
        "Store Sales Prediction"
      ]
    },
    {
      "cell_type": "code",
      "source": [
        "df1.head()"
      ],
      "metadata": {
        "colab": {
          "base_uri": "https://localhost:8080/",
          "height": 206
        },
        "id": "LNYQOGHYJvgD",
        "outputId": "32852efb-b430-4ef1-8bfe-3f4a33811830"
      },
      "execution_count": null,
      "outputs": [
        {
          "output_type": "execute_result",
          "data": {
            "text/plain": [
              "   DayOfWeek  Sales  Promo  StateHoliday  SchoolHoliday  year  month  day  \\\n",
              "0          5   5263      1             0              1  2015      7   31   \n",
              "1          5   6064      1             0              1  2015      7   31   \n",
              "2          5   8314      1             0              1  2015      7   31   \n",
              "3          5  13995      1             0              1  2015      7   31   \n",
              "4          5   4822      1             0              1  2015      7   31   \n",
              "\n",
              "  StoreType Assortment  CompetitionDistance  Promo2      AvgSales  AvgCustomer  \n",
              "0         c          a               1270.0       0   4491.333333   519.407407  \n",
              "1         a          a                570.0       1   4954.259259   621.222222  \n",
              "2         a          a              14130.0       1   6797.592593   682.888889  \n",
              "3         c          c                620.0       0  10256.851852  1294.259259  \n",
              "4         a          a              29910.0       0   4599.629630   521.703704  "
            ],
            "text/html": [
              "\n",
              "  <div id=\"df-04f12abe-fb8d-4127-a1e8-456230e7bf0c\">\n",
              "    <div class=\"colab-df-container\">\n",
              "      <div>\n",
              "<style scoped>\n",
              "    .dataframe tbody tr th:only-of-type {\n",
              "        vertical-align: middle;\n",
              "    }\n",
              "\n",
              "    .dataframe tbody tr th {\n",
              "        vertical-align: top;\n",
              "    }\n",
              "\n",
              "    .dataframe thead th {\n",
              "        text-align: right;\n",
              "    }\n",
              "</style>\n",
              "<table border=\"1\" class=\"dataframe\">\n",
              "  <thead>\n",
              "    <tr style=\"text-align: right;\">\n",
              "      <th></th>\n",
              "      <th>DayOfWeek</th>\n",
              "      <th>Sales</th>\n",
              "      <th>Promo</th>\n",
              "      <th>StateHoliday</th>\n",
              "      <th>SchoolHoliday</th>\n",
              "      <th>year</th>\n",
              "      <th>month</th>\n",
              "      <th>day</th>\n",
              "      <th>StoreType</th>\n",
              "      <th>Assortment</th>\n",
              "      <th>CompetitionDistance</th>\n",
              "      <th>Promo2</th>\n",
              "      <th>AvgSales</th>\n",
              "      <th>AvgCustomer</th>\n",
              "    </tr>\n",
              "  </thead>\n",
              "  <tbody>\n",
              "    <tr>\n",
              "      <th>0</th>\n",
              "      <td>5</td>\n",
              "      <td>5263</td>\n",
              "      <td>1</td>\n",
              "      <td>0</td>\n",
              "      <td>1</td>\n",
              "      <td>2015</td>\n",
              "      <td>7</td>\n",
              "      <td>31</td>\n",
              "      <td>c</td>\n",
              "      <td>a</td>\n",
              "      <td>1270.0</td>\n",
              "      <td>0</td>\n",
              "      <td>4491.333333</td>\n",
              "      <td>519.407407</td>\n",
              "    </tr>\n",
              "    <tr>\n",
              "      <th>1</th>\n",
              "      <td>5</td>\n",
              "      <td>6064</td>\n",
              "      <td>1</td>\n",
              "      <td>0</td>\n",
              "      <td>1</td>\n",
              "      <td>2015</td>\n",
              "      <td>7</td>\n",
              "      <td>31</td>\n",
              "      <td>a</td>\n",
              "      <td>a</td>\n",
              "      <td>570.0</td>\n",
              "      <td>1</td>\n",
              "      <td>4954.259259</td>\n",
              "      <td>621.222222</td>\n",
              "    </tr>\n",
              "    <tr>\n",
              "      <th>2</th>\n",
              "      <td>5</td>\n",
              "      <td>8314</td>\n",
              "      <td>1</td>\n",
              "      <td>0</td>\n",
              "      <td>1</td>\n",
              "      <td>2015</td>\n",
              "      <td>7</td>\n",
              "      <td>31</td>\n",
              "      <td>a</td>\n",
              "      <td>a</td>\n",
              "      <td>14130.0</td>\n",
              "      <td>1</td>\n",
              "      <td>6797.592593</td>\n",
              "      <td>682.888889</td>\n",
              "    </tr>\n",
              "    <tr>\n",
              "      <th>3</th>\n",
              "      <td>5</td>\n",
              "      <td>13995</td>\n",
              "      <td>1</td>\n",
              "      <td>0</td>\n",
              "      <td>1</td>\n",
              "      <td>2015</td>\n",
              "      <td>7</td>\n",
              "      <td>31</td>\n",
              "      <td>c</td>\n",
              "      <td>c</td>\n",
              "      <td>620.0</td>\n",
              "      <td>0</td>\n",
              "      <td>10256.851852</td>\n",
              "      <td>1294.259259</td>\n",
              "    </tr>\n",
              "    <tr>\n",
              "      <th>4</th>\n",
              "      <td>5</td>\n",
              "      <td>4822</td>\n",
              "      <td>1</td>\n",
              "      <td>0</td>\n",
              "      <td>1</td>\n",
              "      <td>2015</td>\n",
              "      <td>7</td>\n",
              "      <td>31</td>\n",
              "      <td>a</td>\n",
              "      <td>a</td>\n",
              "      <td>29910.0</td>\n",
              "      <td>0</td>\n",
              "      <td>4599.629630</td>\n",
              "      <td>521.703704</td>\n",
              "    </tr>\n",
              "  </tbody>\n",
              "</table>\n",
              "</div>\n",
              "      <button class=\"colab-df-convert\" onclick=\"convertToInteractive('df-04f12abe-fb8d-4127-a1e8-456230e7bf0c')\"\n",
              "              title=\"Convert this dataframe to an interactive table.\"\n",
              "              style=\"display:none;\">\n",
              "        \n",
              "  <svg xmlns=\"http://www.w3.org/2000/svg\" height=\"24px\"viewBox=\"0 0 24 24\"\n",
              "       width=\"24px\">\n",
              "    <path d=\"M0 0h24v24H0V0z\" fill=\"none\"/>\n",
              "    <path d=\"M18.56 5.44l.94 2.06.94-2.06 2.06-.94-2.06-.94-.94-2.06-.94 2.06-2.06.94zm-11 1L8.5 8.5l.94-2.06 2.06-.94-2.06-.94L8.5 2.5l-.94 2.06-2.06.94zm10 10l.94 2.06.94-2.06 2.06-.94-2.06-.94-.94-2.06-.94 2.06-2.06.94z\"/><path d=\"M17.41 7.96l-1.37-1.37c-.4-.4-.92-.59-1.43-.59-.52 0-1.04.2-1.43.59L10.3 9.45l-7.72 7.72c-.78.78-.78 2.05 0 2.83L4 21.41c.39.39.9.59 1.41.59.51 0 1.02-.2 1.41-.59l7.78-7.78 2.81-2.81c.8-.78.8-2.07 0-2.86zM5.41 20L4 18.59l7.72-7.72 1.47 1.35L5.41 20z\"/>\n",
              "  </svg>\n",
              "      </button>\n",
              "      \n",
              "  <style>\n",
              "    .colab-df-container {\n",
              "      display:flex;\n",
              "      flex-wrap:wrap;\n",
              "      gap: 12px;\n",
              "    }\n",
              "\n",
              "    .colab-df-convert {\n",
              "      background-color: #E8F0FE;\n",
              "      border: none;\n",
              "      border-radius: 50%;\n",
              "      cursor: pointer;\n",
              "      display: none;\n",
              "      fill: #1967D2;\n",
              "      height: 32px;\n",
              "      padding: 0 0 0 0;\n",
              "      width: 32px;\n",
              "    }\n",
              "\n",
              "    .colab-df-convert:hover {\n",
              "      background-color: #E2EBFA;\n",
              "      box-shadow: 0px 1px 2px rgba(60, 64, 67, 0.3), 0px 1px 3px 1px rgba(60, 64, 67, 0.15);\n",
              "      fill: #174EA6;\n",
              "    }\n",
              "\n",
              "    [theme=dark] .colab-df-convert {\n",
              "      background-color: #3B4455;\n",
              "      fill: #D2E3FC;\n",
              "    }\n",
              "\n",
              "    [theme=dark] .colab-df-convert:hover {\n",
              "      background-color: #434B5C;\n",
              "      box-shadow: 0px 1px 3px 1px rgba(0, 0, 0, 0.15);\n",
              "      filter: drop-shadow(0px 1px 2px rgba(0, 0, 0, 0.3));\n",
              "      fill: #FFFFFF;\n",
              "    }\n",
              "  </style>\n",
              "\n",
              "      <script>\n",
              "        const buttonEl =\n",
              "          document.querySelector('#df-04f12abe-fb8d-4127-a1e8-456230e7bf0c button.colab-df-convert');\n",
              "        buttonEl.style.display =\n",
              "          google.colab.kernel.accessAllowed ? 'block' : 'none';\n",
              "\n",
              "        async function convertToInteractive(key) {\n",
              "          const element = document.querySelector('#df-04f12abe-fb8d-4127-a1e8-456230e7bf0c');\n",
              "          const dataTable =\n",
              "            await google.colab.kernel.invokeFunction('convertToInteractive',\n",
              "                                                     [key], {});\n",
              "          if (!dataTable) return;\n",
              "\n",
              "          const docLinkHtml = 'Like what you see? Visit the ' +\n",
              "            '<a target=\"_blank\" href=https://colab.research.google.com/notebooks/data_table.ipynb>data table notebook</a>'\n",
              "            + ' to learn more about interactive tables.';\n",
              "          element.innerHTML = '';\n",
              "          dataTable['output_type'] = 'display_data';\n",
              "          await google.colab.output.renderOutput(dataTable, element);\n",
              "          const docLink = document.createElement('div');\n",
              "          docLink.innerHTML = docLinkHtml;\n",
              "          element.appendChild(docLink);\n",
              "        }\n",
              "      </script>\n",
              "    </div>\n",
              "  </div>\n",
              "  "
            ]
          },
          "metadata": {},
          "execution_count": 54
        }
      ]
    },
    {
      "cell_type": "code",
      "source": [
        "data=df1"
      ],
      "metadata": {
        "id": "giv8w2UsJvcb"
      },
      "execution_count": null,
      "outputs": []
    },
    {
      "cell_type": "code",
      "source": [
        "data.info()"
      ],
      "metadata": {
        "colab": {
          "base_uri": "https://localhost:8080/"
        },
        "id": "x7ueDKTdJvYV",
        "outputId": "a004be24-830e-4584-8419-6faae9ce6b30"
      },
      "execution_count": null,
      "outputs": [
        {
          "output_type": "stream",
          "name": "stdout",
          "text": [
            "<class 'pandas.core.frame.DataFrame'>\n",
            "Int64Index: 904206 entries, 0 to 904205\n",
            "Data columns (total 14 columns):\n",
            " #   Column               Non-Null Count   Dtype  \n",
            "---  ------               --------------   -----  \n",
            " 0   DayOfWeek            904206 non-null  int64  \n",
            " 1   Sales                904206 non-null  int64  \n",
            " 2   Promo                904206 non-null  int64  \n",
            " 3   StateHoliday         904206 non-null  int64  \n",
            " 4   SchoolHoliday        904206 non-null  int64  \n",
            " 5   year                 904206 non-null  int64  \n",
            " 6   month                904206 non-null  int64  \n",
            " 7   day                  904206 non-null  int64  \n",
            " 8   StoreType            904206 non-null  object \n",
            " 9   Assortment           904206 non-null  object \n",
            " 10  CompetitionDistance  904206 non-null  float64\n",
            " 11  Promo2               904206 non-null  int64  \n",
            " 12  AvgSales             904206 non-null  float64\n",
            " 13  AvgCustomer          904206 non-null  float64\n",
            "dtypes: float64(3), int64(9), object(2)\n",
            "memory usage: 103.5+ MB\n"
          ]
        }
      ]
    },
    {
      "cell_type": "code",
      "source": [
        "data.shape"
      ],
      "metadata": {
        "colab": {
          "base_uri": "https://localhost:8080/"
        },
        "id": "V4Xe811UJvUr",
        "outputId": "39462b9a-b05b-411f-b310-ee286bd0c5e6"
      },
      "execution_count": null,
      "outputs": [
        {
          "output_type": "execute_result",
          "data": {
            "text/plain": [
              "(904206, 14)"
            ]
          },
          "metadata": {},
          "execution_count": 59
        }
      ]
    },
    {
      "cell_type": "code",
      "source": [
        "plt.figure(figsize=(7,7))\n",
        "sns.distplot(data['Sales'],color=\"y\")"
      ],
      "metadata": {
        "colab": {
          "base_uri": "https://localhost:8080/",
          "height": 459
        },
        "id": "0Gix4gxSJvLL",
        "outputId": "846aac7c-285f-4510-f4cf-547d46f915d9"
      },
      "execution_count": null,
      "outputs": [
        {
          "output_type": "execute_result",
          "data": {
            "text/plain": [
              "<matplotlib.axes._subplots.AxesSubplot at 0x7fa90ef39650>"
            ]
          },
          "metadata": {},
          "execution_count": 61
        },
        {
          "output_type": "display_data",
          "data": {
            "text/plain": [
              "<Figure size 504x504 with 1 Axes>"
            ],
            "image/png": "[encoded data removed]"
          },
          "metadata": {
            "needs_background": "light"
          }
        }
      ]
    },
    {
      "cell_type": "code",
      "source": [
        "plt.figure(figsize=(7,7))\n",
        "sns.distplot(df['Customers'],color=\"y\")"
      ],
      "metadata": {
        "colab": {
          "base_uri": "https://localhost:8080/",
          "height": 459
        },
        "id": "7hu26rSngCed",
        "outputId": "8cb7d3df-ff40-4cc9-8bb6-bfe8017af108"
      },
      "execution_count": null,
      "outputs": [
        {
          "output_type": "execute_result",
          "data": {
            "text/plain": [
              "<matplotlib.axes._subplots.AxesSubplot at 0x7fa90d05a550>"
            ]
          },
          "metadata": {},
          "execution_count": 109
        },
        {
          "output_type": "display_data",
          "data": {
            "text/plain": [
              "<Figure size 504x504 with 1 Axes>"
            ],
            "image/png": "[encoded data removed]"
          },
          "metadata": {}
        }
      ]
    },
    {
      "cell_type": "code",
      "source": [
        "numeric_features = data.describe().columns"
      ],
      "metadata": {
        "id": "0vFBu-kRRzD8"
      },
      "execution_count": null,
      "outputs": []
    },
    {
      "cell_type": "code",
      "source": [
        "for col in numeric_features[1:-1]:\n",
        "    fig = plt.figure(figsize=(9, 9))\n",
        "    ax = fig.gca()\n",
        "    feature = data[col]\n",
        "    label = data['Sales']\n",
        "    correlation = feature.corr(label)\n",
        "    plt.scatter(x=feature, y=label)\n",
        "    plt.xlabel(col)\n",
        "    plt.ylabel('Sales')\n",
        "    ax.set_title('sales vs ' + col + '- correlation: ' + str(correlation))\n",
        "    z = np.polyfit(data[col], data['Sales'], 1)\n",
        "    y_hat = np.poly1d(z)(data[col])\n",
        "\n",
        "    plt.plot(data[col], y_hat, \"r--\", lw=1)\n",
        "\n",
        "plt.show()"
      ],
      "metadata": {
        "colab": {
          "base_uri": "https://localhost:8080/",
          "height": 1000
        },
        "id": "s66qlhzrJt2O",
        "outputId": "7aa9048d-f495-4ed0-9c2b-ae38fb9c0f16"
      },
      "execution_count": null,
      "outputs": [
        {
          "output_type": "display_data",
          "data": {
            "text/plain": [
              "<Figure size 648x648 with 1 Axes>"
            ],
            "image/png": "[encoded data removed]"
          },
          "metadata": {
            "needs_background": "light"
          }
        },
        {
          "output_type": "display_data",
          "data": {
            "text/plain": [
              "<Figure size 648x648 with 1 Axes>"
            ],
            "image/png": "[encoded data removed]"
          },
          "metadata": {
            "needs_background": "light"
          }
        },
        {
          "output_type": "display_data",
          "data": {
            "text/plain": [
              "<Figure size 648x648 with 1 Axes>"
            ],
            "image/png": "[encoded data removed]"
          },
          "metadata": {
            "needs_background": "light"
          }
        },
        {
          "output_type": "display_data",
          "data": {
            "text/plain": [
              "<Figure size 648x648 with 1 Axes>"
            ],
            "image/png": "[encoded data removed]"
          },
          "metadata": {
            "needs_background": "light"
          }
        },
        {
          "output_type": "display_data",
          "data": {
            "text/plain": [
              "<Figure size 648x648 with 1 Axes>"
            ],
            "image/png": "[encoded data removed]"
          },
          "metadata": {
            "needs_background": "light"
          }
        },
        {
          "output_type": "display_data",
          "data": {
            "text/plain": [
              "<Figure size 648x648 with 1 Axes>"
            ],
            "image/png": "[encoded data removed]"
          },
          "metadata": {
            "needs_background": "light"
          }
        },
        {
          "output_type": "display_data",
          "data": {
            "text/plain": [
              "<Figure size 648x648 with 1 Axes>"
            ],
            "image/png": "[encoded data removed]"
          },
          "metadata": {
            "needs_background": "light"
          }
        },
        {
          "output_type": "display_data",
          "data": {
            "text/plain": [
              "<Figure size 648x648 with 1 Axes>"
            ],
            "image/png": "[encoded data removed]"
          },
          "metadata": {
            "needs_background": "light"
          }
        },
        {
          "output_type": "display_data",
          "data": {
            "text/plain": [
              "<Figure size 648x648 with 1 Axes>"
            ],
            "image/png": "[encoded data removed]"
          },
          "metadata": {
            "needs_background": "light"
          }
        },
        {
          "output_type": "display_data",
          "data": {
            "text/plain": [
              "<Figure size 648x648 with 1 Axes>"
            ],
            "image/png": "[encoded data removed]"
          },
          "metadata": {
            "needs_background": "light"
          }
        }
      ]
    },
    {
      "cell_type": "code",
      "source": [
        " ## Correlation\n",
        "plt.figure(figsize=(15,8))\n",
        "correlation = dataset.corr()\n",
        "sns.heatmap(abs(correlation), annot=True, cmap='coolwarm')"
      ],
      "metadata": {
        "colab": {
          "base_uri": "https://localhost:8080/",
          "height": 504
        },
        "id": "9ca76EdCJsOV",
        "outputId": "cf5cf2c1-b11b-4f32-e611-cdb3e076f44d"
      },
      "execution_count": null,
      "outputs": [
        {
          "output_type": "execute_result",
          "data": {
            "text/plain": [
              "<matplotlib.axes._subplots.AxesSubplot at 0x7fa90cea8190>"
            ]
          },
          "metadata": {},
          "execution_count": 73
        },
        {
          "output_type": "display_data",
          "data": {
            "text/plain": [
              "<Figure size 1080x576 with 2 Axes>"
            ],
            "image/png": "[encoded data removed]"
          },
          "metadata": {
            "needs_background": "light"
          }
        }
      ]
    },
    {
      "cell_type": "code",
      "source": [
        "store1_2015 = df.query('Store == 1 and year == 2015')\n",
        "store1_2013 = df.query('Store == 1 and year == 2013')\n",
        "store1_2014 = df.query('Store == 1 and year == 2014')"
      ],
      "metadata": {
        "id": "4NAsWNe_YHhc"
      },
      "execution_count": null,
      "outputs": []
    },
    {
      "cell_type": "code",
      "source": [
        "trace_2013 = go.Scatter(\n",
        "                x=store1_2013.Date,\n",
        "                y=store1_2013.Sales,\n",
        "                name = \"2013\",\n",
        "                opacity = 0.8)\n",
        "\n",
        "trace_2014 = go.Scatter(\n",
        "                x=store1_2014.Date,\n",
        "                y=store1_2014.Sales,\n",
        "                name = \"2014\",\n",
        "                opacity = 0.8)\n",
        "\n",
        "trace_2015 = go.Scatter(\n",
        "                x=store1_2015.Date,\n",
        "                y=store1_2015.Sales,\n",
        "                name = \"2015\",\n",
        "                opacity = 0.8)\n",
        "\n",
        "data = [trace_2013,trace_2014, trace_2015]\n",
        "layout = go.Layout(title='Sales Over Time', \n",
        "                   xaxis=dict(title='Date'), yaxis=dict(title='Sales'))\n",
        "fig = go.Figure(data=data, layout=layout)\n",
        "fig"
      ],
      "metadata": {
        "colab": {
          "base_uri": "https://localhost:8080/",
          "height": 542
        },
        "id": "S4ATkofoaEdc",
        "outputId": "dd3eee35-77be-4710-8332-f5f62ad76308"
      },
      "execution_count": null,
      "outputs": [
        {
          "output_type": "display_data",
          "data": {
            "text/html": [
              "<html>\n",
              "<head><meta charset=\"utf-8\" /></head>\n",
              "<body>\n",
              "    <div>            <script src=\"https://cdnjs.cloudflare.com/ajax/libs/mathjax/2.7.5/MathJax.js?config=TeX-AMS-MML_SVG\"></script><script type=\"text/javascript\">if (window.MathJax) {MathJax.Hub.Config({SVG: {font: \"STIX-Web\"}});}</script>                <script type=\"text/javascript\">window.PlotlyConfig = {MathJaxConfig: 'local'};</script>\n",
              "        <script src=\"https://cdn.plot.ly/plotly-2.8.3.min.js\"></script>                <div id=\"dcda4477-9a83-41e3-bc3d-ac3551a82d85\" class=\"plotly-graph-div\" style=\"height:525px; width:100%;\"></div>            <script type=\"text/javascript\">                                    window.PLOTLYENV=window.PLOTLYENV || {};                                    if (document.getElementById(\"dcda4477-9a83-41e3-bc3d-ac3551a82d85\")) {                    Plotly.newPlot(                        \"dcda4477-9a83-41e3-bc3d-ac3551a82d85\",                        [{\"name\":\"2013\",\"opacity\":0.8,\"x\":[\"2013-12-31\",\"2013-12-30\",\"2013-12-28\",\"2013-12-27\",\"2013-12-24\",\"2013-12-23\",\"2013-12-21\",\"2013-12-20\",\"2013-12-19\",\"2013-12-18\",\"2013-12-17\",\"2013-12-16\",\"2013-12-14\",\"2013-12-13\",\"2013-12-12\",\"2013-12-11\",\"2013-12-10\",\"2013-12-09\",\"2013-12-07\",\"2013-12-06\",\"2013-12-05\",\"2013-12-04\",\"2013-12-03\",\"2013-12-02\",\"2013-11-30\",\"2013-11-29\",\"2013-11-28\",\"2013-11-27\",\"2013-11-26\",\"2013-11-25\",\"2013-11-23\",\"2013-11-22\",\"2013-11-21\",\"2013-11-20\",\"2013-11-19\",\"2013-11-18\",\"2013-11-16\",\"2013-11-15\",\"2013-11-14\",\"2013-11-13\",\"2013-11-12\",\"2013-11-11\",\"2013-11-09\",\"2013-11-08\",\"2013-11-07\",\"2013-11-06\",\"2013-11-05\",\"2013-11-04\",\"2013-11-02\",\"2013-11-01\",\"2013-10-31\",\"2013-10-30\",\"2013-10-29\",\"2013-10-28\",\"2013-10-26\",\"2013-10-25\",\"2013-10-24\",\"2013-10-23\",\"2013-10-22\",\"2013-10-21\",\"2013-10-19\",\"2013-10-18\",\"2013-10-17\",\"2013-10-16\",\"2013-10-15\",\"2013-10-14\",\"2013-10-12\",\"2013-10-11\",\"2013-10-10\",\"2013-10-09\",\"2013-10-08\",\"2013-10-07\",\"2013-10-05\",\"2013-10-04\",\"2013-10-02\",\"2013-10-01\",\"2013-09-30\",\"2013-09-28\",\"2013-09-27\",\"2013-09-26\",\"2013-09-25\",\"2013-09-24\",\"2013-09-23\",\"2013-09-21\",\"2013-09-20\",\"2013-09-19\",\"2013-09-18\",\"2013-09-17\",\"2013-09-16\",\"2013-09-14\",\"2013-09-13\",\"2013-09-12\",\"2013-09-11\",\"2013-09-10\",\"2013-09-09\",\"2013-09-07\",\"2013-09-06\",\"2013-09-05\",\"2013-09-04\",\"2013-09-03\",\"2013-09-02\",\"2013-08-31\",\"2013-08-30\",\"2013-08-29\",\"2013-08-28\",\"2013-08-27\",\"2013-08-26\",\"2013-08-24\",\"2013-08-23\",\"2013-08-22\",\"2013-08-21\",\"2013-08-20\",\"2013-08-19\",\"2013-08-17\",\"2013-08-16\",\"2013-08-15\",\"2013-08-14\",\"2013-08-13\",\"2013-08-12\",\"2013-08-10\",\"2013-08-09\",\"2013-08-08\",\"2013-08-07\",\"2013-08-06\",\"2013-08-05\",\"2013-08-03\",\"2013-08-02\",\"2013-08-01\",\"2013-07-31\",\"2013-07-30\",\"2013-07-29\",\"2013-07-27\",\"2013-07-26\",\"2013-07-25\",\"2013-07-24\",\"2013-07-23\",\"2013-07-22\",\"2013-07-20\",\"2013-07-19\",\"2013-07-18\",\"2013-07-17\",\"2013-07-16\",\"2013-07-15\",\"2013-07-13\",\"2013-07-12\",\"2013-07-11\",\"2013-07-10\",\"2013-07-09\",\"2013-07-08\",\"2013-07-06\",\"2013-07-05\",\"2013-07-04\",\"2013-07-03\",\"2013-07-02\",\"2013-07-01\",\"2013-06-29\",\"2013-06-28\",\"2013-06-27\",\"2013-06-26\",\"2013-06-25\",\"2013-06-24\",\"2013-06-22\",\"2013-06-21\",\"2013-06-20\",\"2013-06-19\",\"2013-06-18\",\"2013-06-17\",\"2013-06-15\",\"2013-06-14\",\"2013-06-13\",\"2013-06-12\",\"2013-06-11\",\"2013-06-10\",\"2013-06-08\",\"2013-06-07\",\"2013-06-06\",\"2013-06-05\",\"2013-06-04\",\"2013-06-03\",\"2013-06-01\",\"2013-05-31\",\"2013-05-29\",\"2013-05-28\",\"2013-05-27\",\"2013-05-25\",\"2013-05-24\",\"2013-05-23\",\"2013-05-22\",\"2013-05-21\",\"2013-05-18\",\"2013-05-17\",\"2013-05-16\",\"2013-05-15\",\"2013-05-14\",\"2013-05-13\",\"2013-05-11\",\"2013-05-10\",\"2013-05-08\",\"2013-05-07\",\"2013-05-06\",\"2013-05-04\",\"2013-05-03\",\"2013-05-02\",\"2013-04-30\",\"2013-04-29\",\"2013-04-27\",\"2013-04-26\",\"2013-04-25\",\"2013-04-24\",\"2013-04-23\",\"2013-04-22\",\"2013-04-20\",\"2013-04-19\",\"2013-04-18\",\"2013-04-17\",\"2013-04-16\",\"2013-04-15\",\"2013-04-13\",\"2013-04-12\",\"2013-04-11\",\"2013-04-10\",\"2013-04-09\",\"2013-04-08\",\"2013-04-06\",\"2013-04-05\",\"2013-04-04\",\"2013-04-03\",\"2013-04-02\",\"2013-03-30\",\"2013-03-28\",\"2013-03-27\",\"2013-03-26\",\"2013-03-25\",\"2013-03-23\",\"2013-03-22\",\"2013-03-21\",\"2013-03-20\",\"2013-03-19\",\"2013-03-18\",\"2013-03-16\",\"2013-03-15\",\"2013-03-14\",\"2013-03-13\",\"2013-03-12\",\"2013-03-11\",\"2013-03-09\",\"2013-03-08\",\"2013-03-07\",\"2013-03-06\",\"2013-03-05\",\"2013-03-04\",\"2013-03-02\",\"2013-03-01\",\"2013-02-28\",\"2013-02-27\",\"2013-02-26\",\"2013-02-25\",\"2013-02-23\",\"2013-02-22\",\"2013-02-21\",\"2013-02-20\",\"2013-02-19\",\"2013-02-18\",\"2013-02-16\",\"2013-02-15\",\"2013-02-14\",\"2013-02-13\",\"2013-02-12\",\"2013-02-11\",\"2013-02-09\",\"2013-02-08\",\"2013-02-07\",\"2013-02-06\",\"2013-02-05\",\"2013-02-04\",\"2013-02-02\",\"2013-02-01\",\"2013-01-31\",\"2013-01-30\",\"2013-01-29\",\"2013-01-28\",\"2013-01-26\",\"2013-01-25\",\"2013-01-24\",\"2013-01-23\",\"2013-01-22\",\"2013-01-21\",\"2013-01-19\",\"2013-01-18\",\"2013-01-17\",\"2013-01-16\",\"2013-01-15\",\"2013-01-14\",\"2013-01-12\",\"2013-01-11\",\"2013-01-10\",\"2013-01-09\",\"2013-01-08\",\"2013-01-07\",\"2013-01-05\",\"2013-01-04\",\"2013-01-03\",\"2013-01-02\"],\"y\":[2362,7193,5659,6110,3204,9528,8043,8414,6788,7821,7356,8277,6119,4703,4074,4301,4228,4462,5799,6112,5691,5688,6293,6943,6373,5623,4614,4561,4201,4600,5297,5058,4623,4936,5143,5927,5071,4016,3795,3310,4017,4014,4681,5242,5009,5572,5348,5861,5233,5471,4035,4119,3737,3557,4347,4573,4044,4612,4068,5055,3667,3566,3223,3383,3355,3773,4954,5896,5286,4957,5452,6004,5352,5447,4001,4178,4088,4175,4669,4481,4212,4274,4770,3909,3516,3717,3946,3685,4249,4663,5187,5079,5103,5403,5893,4663,3836,3883,3343,3928,4195,5317,5469,4804,4583,5156,5482,4752,3493,3703,3096,3492,3954,4078,4552,4575,4724,5299,5326,3768,3257,3680,4143,3582,4086,4461,4494,4994,5572,5773,6290,3352,4221,3502,3849,3937,4149,4421,4275,4904,4946,5643,6377,4015,4134,4053,3963,4047,4475,4090,4986,5701,5875,5868,5614,5804,4407,3593,3827,4536,3549,4341,5173,5011,4180,4633,5337,4766,4150,3661,3563,3784,4291,4262,4315,4881,5012,5220,5422,5693,7893,5784,4995,5519,4408,4232,4030,3559,4789,4413,4856,4448,4790,5083,6106,5064,5409,5230,4624,4568,5912,6027,6486,5925,5821,5726,4841,3939,4309,4492,5672,4350,4303,2952,3649,3357,3941,4773,5263,4366,4903,5514,6046,5075,4390,4293,4625,5484,7132,7285,6660,6686,6729,5603,5506,5179,5598,6563,7072,5003,4925,5108,4341,3853,4949,5578,5853,5637,5973,6300,7675,5350,4611,4676,4558,3794,4038,5237,5000,5261,5660,5386,6407,6154,4809,4241,4252,4015,4409,5370,5681,5499,6140,6049,7032,5970,5633,4709,4601,3725,4055,5598,5586,5195,5578,5720,5394,5182,4127,4044,4008,3900,4717,4952,4881,4892,5471,5580,7176,4997,4486,4327,5530],\"type\":\"scatter\"},{\"name\":\"2014\",\"opacity\":0.8,\"x\":[\"2014-12-31\",\"2014-12-30\",\"2014-12-29\",\"2014-12-27\",\"2014-12-24\",\"2014-12-23\",\"2014-12-22\",\"2014-12-20\",\"2014-12-19\",\"2014-12-18\",\"2014-12-17\",\"2014-12-16\",\"2014-12-15\",\"2014-12-13\",\"2014-12-12\",\"2014-12-11\",\"2014-12-10\",\"2014-12-09\",\"2014-12-08\",\"2014-12-06\",\"2014-12-05\",\"2014-12-04\",\"2014-12-03\",\"2014-12-02\",\"2014-12-01\",\"2014-11-29\",\"2014-11-28\",\"2014-11-27\",\"2014-11-26\",\"2014-11-25\",\"2014-11-24\",\"2014-11-22\",\"2014-11-21\",\"2014-11-20\",\"2014-11-19\",\"2014-11-18\",\"2014-11-17\",\"2014-11-15\",\"2014-11-14\",\"2014-11-13\",\"2014-11-12\",\"2014-11-11\",\"2014-11-10\",\"2014-11-08\",\"2014-11-07\",\"2014-11-06\",\"2014-11-05\",\"2014-11-04\",\"2014-11-03\",\"2014-11-01\",\"2014-10-31\",\"2014-10-30\",\"2014-10-29\",\"2014-10-28\",\"2014-10-27\",\"2014-10-25\",\"2014-10-24\",\"2014-10-23\",\"2014-10-22\",\"2014-10-21\",\"2014-10-20\",\"2014-10-18\",\"2014-10-17\",\"2014-10-16\",\"2014-10-15\",\"2014-10-14\",\"2014-10-13\",\"2014-10-11\",\"2014-10-10\",\"2014-10-09\",\"2014-10-08\",\"2014-10-07\",\"2014-10-06\",\"2014-10-04\",\"2014-10-02\",\"2014-10-01\",\"2014-09-30\",\"2014-09-29\",\"2014-09-27\",\"2014-09-26\",\"2014-09-25\",\"2014-09-24\",\"2014-09-23\",\"2014-09-22\",\"2014-09-20\",\"2014-09-19\",\"2014-09-18\",\"2014-09-17\",\"2014-09-16\",\"2014-09-15\",\"2014-09-13\",\"2014-09-12\",\"2014-09-11\",\"2014-09-10\",\"2014-09-09\",\"2014-09-08\",\"2014-09-06\",\"2014-09-05\",\"2014-09-04\",\"2014-09-03\",\"2014-09-02\",\"2014-09-01\",\"2014-08-30\",\"2014-08-29\",\"2014-08-28\",\"2014-08-27\",\"2014-08-26\",\"2014-08-25\",\"2014-08-23\",\"2014-08-22\",\"2014-08-21\",\"2014-08-20\",\"2014-08-19\",\"2014-08-18\",\"2014-08-16\",\"2014-08-15\",\"2014-08-14\",\"2014-08-13\",\"2014-08-12\",\"2014-08-11\",\"2014-08-09\",\"2014-08-08\",\"2014-08-07\",\"2014-08-06\",\"2014-08-05\",\"2014-08-04\",\"2014-08-02\",\"2014-08-01\",\"2014-07-31\",\"2014-07-30\",\"2014-07-29\",\"2014-07-28\",\"2014-07-26\",\"2014-07-25\",\"2014-07-24\",\"2014-07-23\",\"2014-07-22\",\"2014-07-21\",\"2014-07-19\",\"2014-07-18\",\"2014-07-17\",\"2014-07-16\",\"2014-07-15\",\"2014-07-14\",\"2014-07-12\",\"2014-07-11\",\"2014-07-10\",\"2014-07-09\",\"2014-07-08\",\"2014-07-07\",\"2014-07-05\",\"2014-07-04\",\"2014-07-03\",\"2014-07-02\",\"2014-07-01\",\"2014-06-30\",\"2014-06-28\",\"2014-06-27\",\"2014-06-26\",\"2014-06-25\",\"2014-06-24\",\"2014-06-23\",\"2014-06-21\",\"2014-06-20\",\"2014-06-18\",\"2014-06-17\",\"2014-06-16\",\"2014-06-14\",\"2014-06-13\",\"2014-06-12\",\"2014-06-11\",\"2014-06-10\",\"2014-06-07\",\"2014-06-06\",\"2014-06-05\",\"2014-06-04\",\"2014-06-03\",\"2014-06-02\",\"2014-05-31\",\"2014-05-30\",\"2014-05-28\",\"2014-05-27\",\"2014-05-26\",\"2014-05-24\",\"2014-05-23\",\"2014-05-22\",\"2014-05-21\",\"2014-05-20\",\"2014-05-19\",\"2014-05-17\",\"2014-05-16\",\"2014-05-15\",\"2014-05-14\",\"2014-05-13\",\"2014-05-12\",\"2014-05-10\",\"2014-05-09\",\"2014-05-08\",\"2014-05-07\",\"2014-05-06\",\"2014-05-05\",\"2014-05-03\",\"2014-05-02\",\"2014-04-30\",\"2014-04-29\",\"2014-04-28\",\"2014-04-26\",\"2014-04-25\",\"2014-04-24\",\"2014-04-23\",\"2014-04-22\",\"2014-04-19\",\"2014-04-17\",\"2014-04-16\",\"2014-04-15\",\"2014-04-14\",\"2014-04-12\",\"2014-04-11\",\"2014-04-10\",\"2014-04-09\",\"2014-04-08\",\"2014-04-07\",\"2014-04-05\",\"2014-04-04\",\"2014-04-03\",\"2014-04-02\",\"2014-04-01\",\"2014-03-31\",\"2014-03-29\",\"2014-03-28\",\"2014-03-27\",\"2014-03-26\",\"2014-03-25\",\"2014-03-24\",\"2014-03-22\",\"2014-03-21\",\"2014-03-20\",\"2014-03-19\",\"2014-03-18\",\"2014-03-17\",\"2014-03-15\",\"2014-03-14\",\"2014-03-13\",\"2014-03-12\",\"2014-03-11\",\"2014-03-10\",\"2014-03-08\",\"2014-03-07\",\"2014-03-06\",\"2014-03-05\",\"2014-03-04\",\"2014-03-03\",\"2014-03-01\",\"2014-02-28\",\"2014-02-27\",\"2014-02-26\",\"2014-02-25\",\"2014-02-24\",\"2014-02-22\",\"2014-02-21\",\"2014-02-20\",\"2014-02-19\",\"2014-02-18\",\"2014-02-17\",\"2014-02-15\",\"2014-02-14\",\"2014-02-13\",\"2014-02-12\",\"2014-02-11\",\"2014-02-10\",\"2014-02-08\",\"2014-02-07\",\"2014-02-06\",\"2014-02-05\",\"2014-02-04\",\"2014-02-03\",\"2014-02-01\",\"2014-01-31\",\"2014-01-30\",\"2014-01-29\",\"2014-01-28\",\"2014-01-27\",\"2014-01-25\",\"2014-01-24\",\"2014-01-23\",\"2014-01-22\",\"2014-01-21\",\"2014-01-20\",\"2014-01-18\",\"2014-01-17\",\"2014-01-16\",\"2014-01-15\",\"2014-01-14\",\"2014-01-13\",\"2014-01-11\",\"2014-01-10\",\"2014-01-09\",\"2014-01-08\",\"2014-01-07\",\"2014-01-06\",\"2014-01-04\",\"2014-01-03\",\"2014-01-02\"],\"y\":[2605,6466,6463,6057,3659,7959,9331,8367,7558,7785,7523,7739,8069,7263,5269,5060,4915,4345,4884,6185,6207,7016,6454,6467,7380,7066,7195,6144,5328,5815,6527,5849,4594,4963,3894,3890,3582,4967,5334,3869,4677,4479,5474,4720,5220,4785,4838,5253,5857,6532,4161,4042,3761,3364,4260,4596,4196,4466,4868,4678,4652,4169,3720,3430,3775,3681,4033,4743,4396,4654,4944,5439,5402,5355,5400,4712,4919,5280,3914,3518,2462,3405,3407,3982,3911,4128,3740,4383,4381,4611,4270,3906,3392,3275,3377,3676,3959,4706,4346,4978,5008,5464,4094,3869,3920,3148,3396,3414,3582,3971,4327,4280,5190,5623,4425,3746,3906,4069,3185,3886,4174,4451,4154,5337,5433,5655,4731,5038,5106,5487,5252,5372,4266,3858,3557,3806,3933,4507,4084,4609,4685,5424,5298,5083,4409,4020,3741,3547,4081,4223,5176,4025,4756,5161,5138,5738,5162,4019,2749,3727,3351,3755,3982,6362,5256,5770,4788,4757,3901,3702,4207,4607,4923,4957,5278,5229,5614,6071,4985,5407,4616,3971,3912,4574,4968,3801,4298,4909,5637,3785,3863,3589,3710,3535,3957,5996,5237,5222,5075,5055,5325,5498,6790,5870,5923,5488,3989,3710,3376,3482,4133,5871,6160,6381,6196,6803,4435,3733,3948,3919,3990,3751,4599,4738,4556,4834,5407,6008,4583,3987,3847,3225,3136,3850,5241,4510,4023,4036,5200,5563,5042,3883,3224,3805,3588,3573,4400,5340,4585,4916,5397,6198,5307,5031,3826,4108,3499,3826,4820,4727,4563,4935,4602,5393,5258,4647,3638,3662,3461,3591,4726,5596,4823,5031,5540,5839,5292,4906,4549,3789,3581,3601,4546,5098,4597,4562,5151,6148,5128,3803,3632,3776,3621,3994,4454,4486,4396,4931,5539,6194,5173,4190,4969],\"type\":\"scatter\"},{\"name\":\"2015\",\"opacity\":0.8,\"x\":[\"2015-07-31\",\"2015-07-30\",\"2015-07-29\",\"2015-07-28\",\"2015-07-27\",\"2015-07-25\",\"2015-07-24\",\"2015-07-23\",\"2015-07-22\",\"2015-07-21\",\"2015-07-20\",\"2015-07-18\",\"2015-07-17\",\"2015-07-16\",\"2015-07-15\",\"2015-07-14\",\"2015-07-13\",\"2015-07-11\",\"2015-07-10\",\"2015-07-09\",\"2015-07-08\",\"2015-07-07\",\"2015-07-06\",\"2015-07-04\",\"2015-07-03\",\"2015-07-02\",\"2015-07-01\",\"2015-06-30\",\"2015-06-29\",\"2015-06-27\",\"2015-06-26\",\"2015-06-25\",\"2015-06-24\",\"2015-06-23\",\"2015-06-22\",\"2015-06-20\",\"2015-06-19\",\"2015-06-18\",\"2015-06-17\",\"2015-06-16\",\"2015-06-15\",\"2015-06-13\",\"2015-06-12\",\"2015-06-11\",\"2015-06-10\",\"2015-06-09\",\"2015-06-08\",\"2015-06-06\",\"2015-06-05\",\"2015-06-03\",\"2015-06-02\",\"2015-06-01\",\"2015-05-30\",\"2015-05-29\",\"2015-05-28\",\"2015-05-27\",\"2015-05-26\",\"2015-05-23\",\"2015-05-22\",\"2015-05-21\",\"2015-05-20\",\"2015-05-19\",\"2015-05-18\",\"2015-05-16\",\"2015-05-15\",\"2015-05-13\",\"2015-05-12\",\"2015-05-11\",\"2015-05-09\",\"2015-05-08\",\"2015-05-07\",\"2015-05-06\",\"2015-05-05\",\"2015-05-04\",\"2015-05-02\",\"2015-04-30\",\"2015-04-29\",\"2015-04-28\",\"2015-04-27\",\"2015-04-25\",\"2015-04-24\",\"2015-04-23\",\"2015-04-22\",\"2015-04-21\",\"2015-04-20\",\"2015-04-18\",\"2015-04-17\",\"2015-04-16\",\"2015-04-15\",\"2015-04-14\",\"2015-04-13\",\"2015-04-11\",\"2015-04-10\",\"2015-04-09\",\"2015-04-08\",\"2015-04-07\",\"2015-04-04\",\"2015-04-02\",\"2015-04-01\",\"2015-03-31\",\"2015-03-30\",\"2015-03-28\",\"2015-03-27\",\"2015-03-26\",\"2015-03-25\",\"2015-03-24\",\"2015-03-23\",\"2015-03-21\",\"2015-03-20\",\"2015-03-19\",\"2015-03-18\",\"2015-03-17\",\"2015-03-16\",\"2015-03-14\",\"2015-03-13\",\"2015-03-12\",\"2015-03-11\",\"2015-03-10\",\"2015-03-09\",\"2015-03-07\",\"2015-03-06\",\"2015-03-05\",\"2015-03-04\",\"2015-03-03\",\"2015-03-02\",\"2015-02-28\",\"2015-02-27\",\"2015-02-26\",\"2015-02-25\",\"2015-02-24\",\"2015-02-23\",\"2015-02-21\",\"2015-02-20\",\"2015-02-19\",\"2015-02-18\",\"2015-02-17\",\"2015-02-16\",\"2015-02-14\",\"2015-02-13\",\"2015-02-12\",\"2015-02-11\",\"2015-02-10\",\"2015-02-09\",\"2015-02-07\",\"2015-02-06\",\"2015-02-05\",\"2015-02-04\",\"2015-02-03\",\"2015-02-02\",\"2015-01-31\",\"2015-01-30\",\"2015-01-29\",\"2015-01-28\",\"2015-01-27\",\"2015-01-26\",\"2015-01-24\",\"2015-01-23\",\"2015-01-22\",\"2015-01-21\",\"2015-01-20\",\"2015-01-19\",\"2015-01-17\",\"2015-01-16\",\"2015-01-15\",\"2015-01-14\",\"2015-01-13\",\"2015-01-12\",\"2015-01-10\",\"2015-01-09\",\"2015-01-08\",\"2015-01-07\",\"2015-01-06\",\"2015-01-05\",\"2015-01-03\",\"2015-01-02\"],\"y\":[5263,5020,4782,5011,6102,4364,3706,3769,3464,3558,4395,4406,4852,4427,4767,5042,5054,3530,3808,3897,3797,3650,4359,4797,4665,5558,5223,5735,5197,4019,3317,3533,3346,3762,3846,4097,4202,4645,4000,4852,5518,4256,3695,3627,3591,4102,4071,4183,5384,5809,5450,5774,5592,4656,4111,4083,4211,4276,4459,3755,4735,5235,5280,4431,4178,3998,3547,3551,4945,4683,4529,4960,4564,5591,5850,6228,5775,5199,5575,4318,3198,3076,3319,3037,3722,4594,4718,4116,4110,4648,5377,4173,3549,3467,4194,4163,6709,6574,6816,6206,6714,5208,4005,3932,3531,3547,3565,3909,4057,4748,3858,4806,5695,5225,3725,3141,4170,3805,3701,4592,5397,4419,5568,5451,5942,5289,4708,4042,3875,4054,3598,4475,4651,4460,4180,4833,4303,5015,4726,3900,3735,3136,3965,4663,5022,4394,4672,4901,6038,5363,5577,5171,4310,4806,4781,4840,3586,3492,3299,3680,3721,5255,4161,4295,4541,4924,5346,4599,3998,3716,4796,4574,6239,5023,5509],\"type\":\"scatter\"}],                        {\"title\":{\"text\":\"Sales Over Time\"},\"xaxis\":{\"title\":{\"text\":\"Date\"}},\"yaxis\":{\"title\":{\"text\":\"Sales\"}},\"template\":{\"data\":{\"bar\":[{\"error_x\":{\"color\":\"#2a3f5f\"},\"error_y\":{\"color\":\"#2a3f5f\"},\"marker\":{\"line\":{\"color\":\"#E5ECF6\",\"width\":0.5},\"pattern\":{\"fillmode\":\"overlay\",\"size\":10,\"solidity\":0.2}},\"type\":\"bar\"}],\"barpolar\":[{\"marker\":{\"line\":{\"color\":\"#E5ECF6\",\"width\":0.5},\"pattern\":{\"fillmode\":\"overlay\",\"size\":10,\"solidity\":0.2}},\"type\":\"barpolar\"}],\"carpet\":[{\"aaxis\":{\"endlinecolor\":\"#2a3f5f\",\"gridcolor\":\"white\",\"linecolor\":\"white\",\"minorgridcolor\":\"white\",\"startlinecolor\":\"#2a3f5f\"},\"baxis\":{\"endlinecolor\":\"#2a3f5f\",\"gridcolor\":\"white\",\"linecolor\":\"white\",\"minorgridcolor\":\"white\",\"startlinecolor\":\"#2a3f5f\"},\"type\":\"carpet\"}],\"choropleth\":[{\"colorbar\":{\"outlinewidth\":0,\"ticks\":\"\"},\"type\":\"choropleth\"}],\"contour\":[{\"colorbar\":{\"outlinewidth\":0,\"ticks\":\"\"},\"colorscale\":[[0.0,\"#0d0887\"],[0.1111111111111111,\"#46039f\"],[0.2222222222222222,\"#7201a8\"],[0.3333333333333333,\"#9c179e\"],[0.4444444444444444,\"#bd3786\"],[0.5555555555555556,\"#d8576b\"],[0.6666666666666666,\"#ed7953\"],[0.7777777777777778,\"#fb9f3a\"],[0.8888888888888888,\"#fdca26\"],[1.0,\"#f0f921\"]],\"type\":\"contour\"}],\"contourcarpet\":[{\"colorbar\":{\"outlinewidth\":0,\"ticks\":\"\"},\"type\":\"contourcarpet\"}],\"heatmap\":[{\"colorbar\":{\"outlinewidth\":0,\"ticks\":\"\"},\"colorscale\":[[0.0,\"#0d0887\"],[0.1111111111111111,\"#46039f\"],[0.2222222222222222,\"#7201a8\"],[0.3333333333333333,\"#9c179e\"],[0.4444444444444444,\"#bd3786\"],[0.5555555555555556,\"#d8576b\"],[0.6666666666666666,\"#ed7953\"],[0.7777777777777778,\"#fb9f3a\"],[0.8888888888888888,\"#fdca26\"],[1.0,\"#f0f921\"]],\"type\":\"heatmap\"}],\"heatmapgl\":[{\"colorbar\":{\"outlinewidth\":0,\"ticks\":\"\"},\"colorscale\":[[0.0,\"#0d0887\"],[0.1111111111111111,\"#46039f\"],[0.2222222222222222,\"#7201a8\"],[0.3333333333333333,\"#9c179e\"],[0.4444444444444444,\"#bd3786\"],[0.5555555555555556,\"#d8576b\"],[0.6666666666666666,\"#ed7953\"],[0.7777777777777778,\"#fb9f3a\"],[0.8888888888888888,\"#fdca26\"],[1.0,\"#f0f921\"]],\"type\":\"heatmapgl\"}],\"histogram\":[{\"marker\":{\"pattern\":{\"fillmode\":\"overlay\",\"size\":10,\"solidity\":0.2}},\"type\":\"histogram\"}],\"histogram2d\":[{\"colorbar\":{\"outlinewidth\":0,\"ticks\":\"\"},\"colorscale\":[[0.0,\"#0d0887\"],[0.1111111111111111,\"#46039f\"],[0.2222222222222222,\"#7201a8\"],[0.3333333333333333,\"#9c179e\"],[0.4444444444444444,\"#bd3786\"],[0.5555555555555556,\"#d8576b\"],[0.6666666666666666,\"#ed7953\"],[0.7777777777777778,\"#fb9f3a\"],[0.8888888888888888,\"#fdca26\"],[1.0,\"#f0f921\"]],\"type\":\"histogram2d\"}],\"histogram2dcontour\":[{\"colorbar\":{\"outlinewidth\":0,\"ticks\":\"\"},\"colorscale\":[[0.0,\"#0d0887\"],[0.1111111111111111,\"#46039f\"],[0.2222222222222222,\"#7201a8\"],[0.3333333333333333,\"#9c179e\"],[0.4444444444444444,\"#bd3786\"],[0.5555555555555556,\"#d8576b\"],[0.6666666666666666,\"#ed7953\"],[0.7777777777777778,\"#fb9f3a\"],[0.8888888888888888,\"#fdca26\"],[1.0,\"#f0f921\"]],\"type\":\"histogram2dcontour\"}],\"mesh3d\":[{\"colorbar\":{\"outlinewidth\":0,\"ticks\":\"\"},\"type\":\"mesh3d\"}],\"parcoords\":[{\"line\":{\"colorbar\":{\"outlinewidth\":0,\"ticks\":\"\"}},\"type\":\"parcoords\"}],\"pie\":[{\"automargin\":true,\"type\":\"pie\"}],\"scatter\":[{\"marker\":{\"colorbar\":{\"outlinewidth\":0,\"ticks\":\"\"}},\"type\":\"scatter\"}],\"scatter3d\":[{\"line\":{\"colorbar\":{\"outlinewidth\":0,\"ticks\":\"\"}},\"marker\":{\"colorbar\":{\"outlinewidth\":0,\"ticks\":\"\"}},\"type\":\"scatter3d\"}],\"scattercarpet\":[{\"marker\":{\"colorbar\":{\"outlinewidth\":0,\"ticks\":\"\"}},\"type\":\"scattercarpet\"}],\"scattergeo\":[{\"marker\":{\"colorbar\":{\"outlinewidth\":0,\"ticks\":\"\"}},\"type\":\"scattergeo\"}],\"scattergl\":[{\"marker\":{\"colorbar\":{\"outlinewidth\":0,\"ticks\":\"\"}},\"type\":\"scattergl\"}],\"scattermapbox\":[{\"marker\":{\"colorbar\":{\"outlinewidth\":0,\"ticks\":\"\"}},\"type\":\"scattermapbox\"}],\"scatterpolar\":[{\"marker\":{\"colorbar\":{\"outlinewidth\":0,\"ticks\":\"\"}},\"type\":\"scatterpolar\"}],\"scatterpolargl\":[{\"marker\":{\"colorbar\":{\"outlinewidth\":0,\"ticks\":\"\"}},\"type\":\"scatterpolargl\"}],\"scatterternary\":[{\"marker\":{\"colorbar\":{\"outlinewidth\":0,\"ticks\":\"\"}},\"type\":\"scatterternary\"}],\"surface\":[{\"colorbar\":{\"outlinewidth\":0,\"ticks\":\"\"},\"colorscale\":[[0.0,\"#0d0887\"],[0.1111111111111111,\"#46039f\"],[0.2222222222222222,\"#7201a8\"],[0.3333333333333333,\"#9c179e\"],[0.4444444444444444,\"#bd3786\"],[0.5555555555555556,\"#d8576b\"],[0.6666666666666666,\"#ed7953\"],[0.7777777777777778,\"#fb9f3a\"],[0.8888888888888888,\"#fdca26\"],[1.0,\"#f0f921\"]],\"type\":\"surface\"}],\"table\":[{\"cells\":{\"fill\":{\"color\":\"#EBF0F8\"},\"line\":{\"color\":\"white\"}},\"header\":{\"fill\":{\"color\":\"#C8D4E3\"},\"line\":{\"color\":\"white\"}},\"type\":\"table\"}]},\"layout\":{\"annotationdefaults\":{\"arrowcolor\":\"#2a3f5f\",\"arrowhead\":0,\"arrowwidth\":1},\"autotypenumbers\":\"strict\",\"coloraxis\":{\"colorbar\":{\"outlinewidth\":0,\"ticks\":\"\"}},\"colorscale\":{\"diverging\":[[0,\"#8e0152\"],[0.1,\"#c51b7d\"],[0.2,\"#de77ae\"],[0.3,\"#f1b6da\"],[0.4,\"#fde0ef\"],[0.5,\"#f7f7f7\"],[0.6,\"#e6f5d0\"],[0.7,\"#b8e186\"],[0.8,\"#7fbc41\"],[0.9,\"#4d9221\"],[1,\"#276419\"]],\"sequential\":[[0.0,\"#0d0887\"],[0.1111111111111111,\"#46039f\"],[0.2222222222222222,\"#7201a8\"],[0.3333333333333333,\"#9c179e\"],[0.4444444444444444,\"#bd3786\"],[0.5555555555555556,\"#d8576b\"],[0.6666666666666666,\"#ed7953\"],[0.7777777777777778,\"#fb9f3a\"],[0.8888888888888888,\"#fdca26\"],[1.0,\"#f0f921\"]],\"sequentialminus\":[[0.0,\"#0d0887\"],[0.1111111111111111,\"#46039f\"],[0.2222222222222222,\"#7201a8\"],[0.3333333333333333,\"#9c179e\"],[0.4444444444444444,\"#bd3786\"],[0.5555555555555556,\"#d8576b\"],[0.6666666666666666,\"#ed7953\"],[0.7777777777777778,\"#fb9f3a\"],[0.8888888888888888,\"#fdca26\"],[1.0,\"#f0f921\"]]},\"colorway\":[\"#636efa\",\"#EF553B\",\"#00cc96\",\"#ab63fa\",\"#FFA15A\",\"#19d3f3\",\"#FF6692\",\"#B6E880\",\"#FF97FF\",\"#FECB52\"],\"font\":{\"color\":\"#2a3f5f\"},\"geo\":{\"bgcolor\":\"white\",\"lakecolor\":\"white\",\"landcolor\":\"#E5ECF6\",\"showlakes\":true,\"showland\":true,\"subunitcolor\":\"white\"},\"hoverlabel\":{\"align\":\"left\"},\"hovermode\":\"closest\",\"mapbox\":{\"style\":\"light\"},\"paper_bgcolor\":\"white\",\"plot_bgcolor\":\"#E5ECF6\",\"polar\":{\"angularaxis\":{\"gridcolor\":\"white\",\"linecolor\":\"white\",\"ticks\":\"\"},\"bgcolor\":\"#E5ECF6\",\"radialaxis\":{\"gridcolor\":\"white\",\"linecolor\":\"white\",\"ticks\":\"\"}},\"scene\":{\"xaxis\":{\"backgroundcolor\":\"#E5ECF6\",\"gridcolor\":\"white\",\"gridwidth\":2,\"linecolor\":\"white\",\"showbackground\":true,\"ticks\":\"\",\"zerolinecolor\":\"white\"},\"yaxis\":{\"backgroundcolor\":\"#E5ECF6\",\"gridcolor\":\"white\",\"gridwidth\":2,\"linecolor\":\"white\",\"showbackground\":true,\"ticks\":\"\",\"zerolinecolor\":\"white\"},\"zaxis\":{\"backgroundcolor\":\"#E5ECF6\",\"gridcolor\":\"white\",\"gridwidth\":2,\"linecolor\":\"white\",\"showbackground\":true,\"ticks\":\"\",\"zerolinecolor\":\"white\"}},\"shapedefaults\":{\"line\":{\"color\":\"#2a3f5f\"}},\"ternary\":{\"aaxis\":{\"gridcolor\":\"white\",\"linecolor\":\"white\",\"ticks\":\"\"},\"baxis\":{\"gridcolor\":\"white\",\"linecolor\":\"white\",\"ticks\":\"\"},\"bgcolor\":\"#E5ECF6\",\"caxis\":{\"gridcolor\":\"white\",\"linecolor\":\"white\",\"ticks\":\"\"}},\"title\":{\"x\":0.05},\"xaxis\":{\"automargin\":true,\"gridcolor\":\"white\",\"linecolor\":\"white\",\"ticks\":\"\",\"title\":{\"standoff\":15},\"zerolinecolor\":\"white\",\"zerolinewidth\":2},\"yaxis\":{\"automargin\":true,\"gridcolor\":\"white\",\"linecolor\":\"white\",\"ticks\":\"\",\"title\":{\"standoff\":15},\"zerolinecolor\":\"white\",\"zerolinewidth\":2}}}},                        {\"responsive\": true}                    ).then(function(){\n",
              "                            \n",
              "var gd = document.getElementById('dcda4477-9a83-41e3-bc3d-ac3551a82d85');\n",
              "var x = new MutationObserver(function (mutations, observer) {{\n",
              "        var display = window.getComputedStyle(gd).display;\n",
              "        if (!display || display === 'none') {{\n",
              "            console.log([gd, 'removed!']);\n",
              "            Plotly.purge(gd);\n",
              "            observer.disconnect();\n",
              "        }}\n",
              "}});\n",
              "\n",
              "// Listen for the removal of the full notebook cells\n",
              "var notebookContainer = gd.closest('#notebook-container');\n",
              "if (notebookContainer) {{\n",
              "    x.observe(notebookContainer, {childList: true});\n",
              "}}\n",
              "\n",
              "// Listen for the clearing of the current output cell\n",
              "var outputEl = gd.closest('.output');\n",
              "if (outputEl) {{\n",
              "    x.observe(outputEl, {childList: true});\n",
              "}}\n",
              "\n",
              "                        })                };                            </script>        </div>\n",
              "</body>\n",
              "</html>"
            ]
          },
          "metadata": {}
        }
      ]
    },
    {
      "cell_type": "code",
      "source": [
        "distance_s = [go.Scatter(x=dfv.CompetitionDistance, y=dfv.Sales, mode='markers', \n",
        "                     marker=dict(size=20,color=dfv.Customers,\n",
        "                                 colorbar=dict(title='Number Of Customers'),colorscale='Jet'))]\n",
        "layout10 = go.Layout(title='Sales vs. Competition Distance', \n",
        "                   xaxis=dict(title='Competition Distance'), yaxis=dict(title='Sales'))\n",
        "fig2 = go.Figure(data=distance_s, layout=layout10)\n",
        "fig2\n"
      ],
      "metadata": {
        "colab": {
          "base_uri": "https://localhost:8080/",
          "height": 542
        },
        "id": "FcDjvlcAJxlj",
        "outputId": "317afa05-ce58-47eb-83c6-c1c299b5fc02"
      },
      "execution_count": null,
      "outputs": [
        {
          "output_type": "display_data",
          "data": {
            "text/html": [
              "<html>\n",
              "<head><meta charset=\"utf-8\" /></head>\n",
              "<body>\n",
              "    <div>            <script src=\"https://cdnjs.cloudflare.com/ajax/libs/mathjax/2.7.5/MathJax.js?config=TeX-AMS-MML_SVG\"></script><script type=\"text/javascript\">if (window.MathJax) {MathJax.Hub.Config({SVG: {font: \"STIX-Web\"}});}</script>                <script type=\"text/javascript\">window.PlotlyConfig = {MathJaxConfig: 'local'};</script>\n",
              "        <script src=\"https://cdn.plot.ly/plotly-2.8.3.min.js\"></script>                <div id=\"e2dd928b-ca71-4ad7-ae87-8ab28fbc4a4f\" class=\"plotly-graph-div\" style=\"height:525px; width:100%;\"></div>            <script type=\"text/javascript\">                                    window.PLOTLYENV=window.PLOTLYENV || {};                                    if (document.getElementById(\"e2dd928b-ca71-4ad7-ae87-8ab28fbc4a4f\")) {                    Plotly.newPlot(                        \"e2dd928b-ca71-4ad7-ae87-8ab28fbc4a4f\",                        [{\"marker\":{\"color\":[369,224,828,888,674,372,3042,366,1176,633,429,244,954,1042,1126,1021,1070,496,710,822,1012,711,429,431,848,732,940,500,509,588,552,678,802,560,791,1019,678,439,520,710,708,841,871,610,578,328,758,1569,1306,721,544,898,957,544,730,834,776,805,749,828,533,812,377,675,850,399,1188,598,868,743,895,973,636,591,635,438,845,1551,855,677,353,668,318,985,1176,435,846,1328,719,693,565,587,410,1109,910,905,523,1473,1161,564,1539,791,319,221,961,308,1265,990,670,3268,600,716,281,594,602,1369,1607,495,696,1328,535,2753,839,946,497,941,1011,1118,1643,523,572,356,480,952,1588,593,443,426,196,460,772,425,402,496,780,408,677,908,482,471,598,394,1327,593,880,676,640,1003,1645,593,881,2716,1231,450,572,786,971,578,442,734,917,1151,665,445,383,565,2441,1685,583,507,480,721,1244,586,588,1027,495,1014,459,469,510,883,611,562,776,1323,1007,296,395,1416,722,607,403,715,520,682,768,673,352,747,924,1021,1000,740,742,788,794,542,494,1000,1544,1243,1222,864,797,304,984,532,756,837,584,644,688,493,550,507,1005,2882,651,737,499,708,761,702,998,1188,571,577,527,841,682,888,255,480,633,550,489,665,484,749,778,657,550,1118,1596,957,689,802,830,1000,930,571,957,674,548,548,721,914,743,514,1070,609,984,1085,568,1441,1130,660,688,548,524,894,838,511,1231,498,309,519,629,565,1096,743,1263,682,420,705,620,1300,642,456,960,941,977,1011,713,657,613,757,1477,555,769,652,477,341,544,818,625,391,681,1657,469,675,580,363,567,2288,507,418,350,631,1094,1234,790,701,297,673,509,994,558,765,710,834,1179,497,629,603,1151,682,401,588,349,1164,576,467,1002,625,450,802,522,1042,695,1107,708,311,665,630,644,594,1013,662,997,791,1331,716,1002,650,512,426,618,829,1169,485,335,836,493,826,619,557,705,903,636,360,727,626,896,538,447,473,261,701,421,636,914,656,609,796,522,677,479,617,486,575,1582,646,566,1123,283,726,866,700,485,973,512,1138,555,797,1396,861,416,571,539,1754,975,533,598,280,364,887,757,543,713,608,478,223,857,575,746,642,569,858,394,909,1142,376,512,1022,685,827,722,675,921,530,681,448,995,348,989,902,753,510,458,689,535,1186,310,632,405,307,533,540,657,492,1776,475,576,1090,442,1005,1449,780,643,1171,1108,906,942,755,447,694,331,600,537,412,651,1515,345,796,997,453,399,559,886,497,1447,502,902,469,659,1166,442,844,760,1046,1096,583,859,1348,448,697,615,775,642,634,1401,3029,814,687,338,740,823,634,630,421,673,535,355,618,732,138,487,555,601,722,654,777,466,332,747,664,1936,472,1022,810,1318,832,591,604,954,1125,839,688,612,860,696,432,975,670,635,433,1268,361,1591,1209,659,1252,353,511,894,492,818,578,3236,416,514,550,796,812,782,845,993,995,2814,700,651,774,802,3327,744,695,593,1418,820,1147,696,353,415,714,706,394,556,1186,957,367,289,622,379,500,920,826,780,533,609,1095,533,641,662,2446,349,635,1815,353,300,417,710,977,1347,1025,668,471,436,1046,848,727,1121,646,512,672,1150,496,994,1020,865,738,807,472,586,1203,435,587,646,442,438,1076,628,455,360,491,711,376,496,618,1134,608,902,335,923,898,952,350,827,1104,739,357,744,790,819,297,1189,579,852,599,852,636,877,1071,702,595,615,603,704,587,550,1288,1248,847,478,735,678,597,1108,813,381,895,339,496,536,816,1059,646,2045,391,460,3613,560,1434,617,780,743,786,1086,588,737,732,977,1035,1080,857,552,640,603,452,350,1064,1022,523,752,917,468,598,1219,507,309,312,528,1172,602,576,710,386,635,791,365,381,754,600,620,2206,654,723,658,867,514,1914,443,745,810,141,962,836,544,915,705,1202,781,958,603,371,462,1563,1065,808,2258,744,700,1011,333,571,392,646,1306,491,1876,802,859,1062,1497,3879,743,414,761,1359,651,668,818,517,732,985,887,610,560,977,584,466,881,633,329,423,579,452,462,329,486,661,368,513,810,1001,689,743,702,1235,641,1258,607,437,376,531,600,397,636,619,897,646,678,381,516,676,920,799,429,496,3361,663,672,458,280,1060,469,760,576,702,890,551,400,784,1937,859,601,512,576,507,662,715,1348,1295,421,477,819,1422,358,933,597,949,1518,1944,1009,1257,912,1654,1362,1124,594,861,517,543,749,852,1191,926,599,807,832,449,813,515,461,591,794,605,727,689,458,599,937,726,480,949,412,749,423,523,617,1349,863,685,761,926,422,528,1227,324,399,1123,663,325,898,633,1925,333,1462,1996,552,1008,403,906,495,950,439,405,1157,1281,796,292,718,2670,494,582,310,1533,683,431,762,515,3200,612,458,762,607,312,2214,2710,412,686,292,591,1311,1539,497,588,630,559,1867,1027,563,1203,858,376,263,1494,1090,2134,744,375,1048,556,765,563,657,774,464,1090,852,1077,535,818,633,1329,1117,820,674,904,292,1309,517,386,335,984,453,1367,667,171,435,549,652,1923,566,680,786,1215,287,697,529,1196,808,568,797,721,389,721,890,476,492,614,663,210,738,764,1162,641,659,645,1270,1061,551,721,627,1381,496,508,780,744,528,660,1020,579,891,930,578,636,958,3831,519,549,480,618,484,911,863,522,308,480,788,1248,1014,544,468,616,588,587,548,875,824,576,513,277,640,857,376,523,937,699,689,448,888,776,758,533,871,668,674,535,542,348,606,1540,1300,512,504,759,632,536,674,463,2268,746,1066,683,322,577,657,291,683,610,1783,560,389,199,864,992,727,522,668,458,602,1670,596,721,889,1856,544,748,694,597,1149,663,322,828,485,324,424,839,289,824,850,1128,689,641,611,817,489,703,501,358,625,394,509,432,565,424,343,1066,619,791,361,449,1054,1133,533,675,582,1070,491,480,286,447,579,474,1366,475,537,986,1296,727,544,566,696,512,943,710,863,487,914,1690,703,479,784,924,916,762,463,858,932,575,314,532,1037,469,550,723,609,501,1124,675,914,809,687,330,532,560,399,581,515,1169,675,533,632,324,569,650,356,758,687,748,401,370,678,682,771,951,1311,560,556,820,663,698,310,1561,1150,1065,555,951,604,525,833,1171,780,685,768,637,635,504,993,781,999,1055,797,848,599,1485,705,605,395,601,909,703,945,626,507,909,442,448,626,550,839,330,399,601,544,651,831,511,825,475,472,494,699,896,587,1080,787,337,937,637,666,680,514,609,823,594,517,2661,505,757,822,818,513,861,632,483,680,629,802,704,602,424,1259,1176,728,1042,604,613,354,861,614,639,518,788,398,788,487,1876,700,1157,2210,1149,714,591,599,837,952,425,394,611,412,545,934,1100,795,610,583,519,555,1101,941,383,466,1066,340,561,730,553,1025,475,658,457,926,2324,1520,675,722,895,777,596,580,473,1587,712,948,501,691,315,644,630,1524,632,1149,335,646,1350,693,871,548,1235,608,751,332,1202,651,780,914,712,482,406,1127,826,367,1543,667,522,657,785,1043,614,664,537,552,1148,777,2125,845,724,540,424,1169,2891,499,2813,668,373,912,769,1186,1329,1175,419,901,1484,410,708,527,1397,581,254,452,701,541,709,416,548,587,710,611,1109,1117,504,485,382,759,1030,554,997,921,791,480,762,378,819,946,522,844,1081,1027,486,572,648,807,906,946,1213,1209,946,221,482,1147,611,743,657,670,1261,1131,774,817,805,730,847,876,677,834,482,708,841,442,496,1137,1102,609,3655,506,543,608,618,659,2059,284,689,992,405,181,1340,1156,657,298,770,578,294,936,558,461,3160,544,695,1388,538,535,540,894,499,465,997,517,406,877,571,1814,995,538,802,293,390,924,546,837,476,703,1379,628,1134,345,415,548,1260,368,438,483,925,452,1331,527,697,688,1134,1045,507,428,864,730,713,812,951,815,457,589,293,1343,507,889,493,3306,736,512,836,815,491,1360,592,2483,560,556,1379,542,800,844,924,949,1127,890,504,227,584,891,415,2971,676,630,809,607,429,630,1296,528,617,301,1054,1414,562,1205,1011,962,1472,678,616,1079,740,1441,417,465,1922,255,304,861,1099,591,684,428,620,737,544,1053,291,858,647,567,1018,378,375,546,1140,631,556,848,590,631,719,844,973,1099,426,730,700,1216,1015,673,363,531,487,487,1122,928,442,488,210,1316,702,1408,872,670,627,614,694,584,732,451,748,551,244,556,436,353,480,794,1392,635,634,399,850,918,796,712,293,1129,1059,1373,406,946,652,627,1027,609,1199,1063,475,464,400,1667,625,1247,612,679,519,590,828,862,1090,844,495,566,416,648,1530,811,792,838,224,331,630,876,478,946,295,534,555,527,331,882,1322,1409,549,699,1072,1236,935,558,217,758,803,456,513,602,706,692,1309,2351,1300,417,510,429,599,231,448,560,590,365,446,596,852,678,608,496,656,488,511,877,360,849,387,1137,684,753,465,1042,772,887,924,330,427,480,477,666,331,308,1199,871,855,660,500,643,609,446,593,890,684,681,376,834,585,712,572,366,739,813,1007,1014,1079,544,507,263,619,743,460,528,1261,801,683,1092,491,791,449,343,1295,160,992,995,3177,196,630,559,254,949,281,383,1041,542,1601,574,348,503,1370,442,955,592,625,835,282,474,1018,701,858,620,426,738,458,351,584,920,453,427,2276,197,696,577,832,476,482,538,485,425,3193,443,1009,582,549,551,555,338,239,677,584,843,1467,292,680,1100,2115,699,903,644,687,1959,1110,887,871,1006,509,635,450,1040,276,1036,704,460,641,692,728,1133,480,451,343,415,682,753,492,1185,768,633,1453,572,345,1191,733,594,880,1074,376,493,536,711,593,855,592,834,543,641,347,1099,660,586,453,1054,432,1519,806,672,865,688,1770,1350,657,1188,827,507,517,303,894,484,667,500,246,1159,1027,1697,664,589,2895,1084,1381,295,542,605,656,1072,438,739,1381,1127,587,773,560,603,469,325,750,382,837,327,670,522,588,678,570,915,1108,875,641,1017,968,936,938,475,883,692,394,1043,724,1418,458,688,700,517,585,597,542,2294,444,1190,951,810,291,721,780,590,1356,684,748,720,576,807,562,395,605,623,290,594,903,577,635,346,483,968,763,1077,998,547,609,979,891,432,365,1078,550,1096,590,379,584,1206,3718,414,1501,924,911,3215,625,642,446,1333,711,794,384,736,535,556,751,1046,830,373,921,1208,875,627,854,810,1054,781,1513,370,702,1504,1321,598,619,1515,659,1514,1836,769,759,520,540,509,428,609,517,405,739,2480,1107,1011,492,747,643,877,436,337,3022,555,1991,583,478,394,610,472,952,646,602,714,698,265,968,393,1453,453,833,347,359,463,684,814,1571,571,584,726,848,270,1304,862,619,734,694,258,445,283,630,592,586,550,880,1102,709,436,844,1307,1366,524,549,529,588,570,633,713,551,1123,1085,281,473,497,501,864,385,416,831,576,663,732,383,720,417,334,932,751,550,686,499,276,1507,378,791,710,709,576,708,798,775,971,2239,319,513,423,885,449,803,844,398,317,1099,641,444,453,646,287,459,630,911,356,1398,2134,415,516,795,835,1499,700,414,779,554,1750,965,440,707,855,433,471,818,772,830,1042,906,748,995,533,649,543,757,946,687,907,784,1499,421,550,689,415,749,808,641,1032,904,599,1354,844,713,379,685,924,287,866,206,566,742,619,560,676,753,680,819,1030,700,631,491,680,649,784,403,822,670,507,522,643,834,498,540,457,579,1172,741,981,278,443,1045,853,671,786,1137,539,913,566,1328,780,881,912,436,385,520,2533,371,477,388,496,572,304,500,582,3440,1320,905,657,915,379,878,962,826,1095,656,533,517,583,430,737,1145,879,384,662,743,1193,806,517,480,819,1204,1200,391,1154,952,691,506,236,901,920,603,366,675,424,641,1085,691,743,636,766,415,906,673,577,825,798,910,705,414,555,656,533,574,386,783,1571,789,920,850,532,609,783,2558,562,839,348,1010,837,424,595,549,892,436,599,646,1300,1140,743,656,750,537,807,652,733,523,512,598,1081,480,859,710,810,379,697,902,866,734,806,428,868,1052,660,757,844,1330,441,844,1086,834,566,560,462,887,405,1328,442,799,1062,1247,812,565,1225,693,663,730,764,432,603,584,1056,492,421,359,964,399,705,1168,434,1354,601,669,893,644,1627,348,709,671,644,483,478,981,405,968,511,910,890,1040,446,164,930,484,1789,978,674,512,489,691,671,990,1193,2991,1070,857,880,1188,985,393,568,750,896,292,497,929,703,582,748,1039,565,620,501,689,1000,866,510,1734,559,265,790,619,1381,1002,446,778,550,400,1034,1040,421,701,991,488,1924,668,478,613,865,374,953,872,552,510,449,530,507,396,375,742,937,448,470,621,447,414,597,693,582,635,1105,481,605,517,427,614,416,517,1244,406,1005,357,383,999,1031,577,608,607,845,852,947,507,895,547,608,394,294,707,410,1233,658,760,448,290,224,662,810,512,533,501,3242,623,653,808,479,734,517,1311,477,652,1075,879,1123,1247,531,995,652,906,991,939,1109,984,647,909,737,710,453,679,401,746,914,740,804,698,783,998,973,738,645,380,1072,895,394,1713,823,583,212,470,776,390,617,1134,694,571,450,315,604,930,664,958,1085,394,240,684,665,2121,726,362,788,561,575,587,844,506,1023,764,397,571,2323,1064,401,377,756,716,1447,524,1365,659,1017,481,803,646,458,666,502,492,612,807,416,721,255,513,677,621,1282,566,775,810,622,413,828,885,1025,568,460,396,1487,470,559,724,1693,1143,322,684,742,625,405,743,1010,507,416,404,780,828,753,1015,2147,918,503,459,585,1142,991,324,803,494,604,909,751,925,837,798,442,292,1637,693,357,1061,462,675,904,1021,478,512,289,633,511,772,1003,632,1043,828,872,682,553,1901,765,589,756,475,423,427,466,662,525,956,415,509,659,978,806,403,619,518,693,551,437,406,617,1106,539,245,853,959,692,353,926,477,664,1969,712,469,932,657,694,1008,711,576,187,780,1424,765,584,427,580,295,868,560,453,720,584,722,495,670,467,698,3294,913,464,254,652,756,650,338,884,403,697,739,1380,1099,942,710,399,908,720,496,396,1027,483,427,982,239,518,729,768,516,329,427,474,580,410,1218,801,391,749,998,968,782,628,1025,346,509,1115,639,1016,1070,824,929,628,1902,518,581,460,898,769,1215,947,566,420,532,644,1126,1861,571,798,725,823,392,350,1422,747,420,779,960,687,685,545,1485,1341,584,717,774,690,665,367,824,654,834,480,797,483,793,745,517,355,849,884,898,501,812,527,601,201,331,1137,195,486,582,504,896,779,346,582,626,679,618,445,635,500,474,930,413,898,1153,341,623,1386,559,491,591,667,554,703,349,482,661,1176,593,928,709,862,534,592,542,564,740,625,844,608,963,681,1066,844,401,293,331,771,281,545,657,1398,558,577,651,422,518,767,1061,940,279,292,576,842,551,1700,501,500,805,537,601,614,341,342,396,693,562,905,453,580,406,487,897,601,1243,704,952,755,665,561,279,482,418,477,2785,746,419,415,253,364,549,779,1342,929,892,482,584,1720,712,603,915,531,657,402,576,989,657,528,285,688,450,885,1110,850,680,524,501,617,513,809,791,739,857,882,936,260,744,287,840,742,496,542,639,428,440,716,517,405,348,577,566,548,938,946,403,544,700,443,306,519,420,868,710,558,546,464,604,776,467,461,737,1160,304,385,487,713,344,300,813,682,857,764,871,834,1185,628,1275,415,1114,1002,582,609,570,447,814,466,863,1011,681,876,457,888,430,631,563,790,685,1343,607,375,447,1008,1496,507,578,276,929,561,433,974,781,861,333,513,668,635,356,592,868,770,538,1279,502,664,550,836,818,899,694,1055,583,965,578,898,1728,1404,692,1007,364,439,708,555,721,544,524,953,1652,624,1745,619,625,529,682,758,1820,695,741,249,663,788,552,614,598,1166,323,938,644,1003,351,769,891,1012,584,320,342,2289,622,474,942,303,453,812,758,492,759,514,692,477,1038,1136,1054,768,477,1072,562,1134,1152,1044,831,220,501,798,1611,345,513,654,1227,663,660,710,459,688,941,617,542,1053,554,1531,360,411,1439,448,1113,1718,558,1191,2482,993,574,611,741,3096,164,531,980,517,772,1520,796,1442,444,532,839,1274,415,1400,605,856,432,862,828,462,415,741,680,725,304,885,390,2323,427,778,684,897,724,752,620,641,675,728,1051,775,1331,1153,513,410,525,969,640,399,1207,729,983,511,814,704,560,418,750,433,757,606,361,1789,380,653,529,512,727,791,1373,704,678,409,1024,680,902,944,461,667,709,603,307,1091,1018,346,939,732,935,624,503,569,528,850,510,731,843,814,590,918,684,430,742,432,1198,356,528,902,566,870,491,731,2037,551,512,821,587,467,586,383,469,828,401,1247,534,412,719,597,485,1270,567,576,498,1039,979,501,1225,2952,736,918,704,399,917,469,869,592,468,753,468,851,513,441,2070,394,1610,758,557,401,331,621,798,1134,609,662,523,847,1299,807,2012,999,694,616,560,740,345,651,694,876,1458,744,528,533,705,1360,607,557,945,632,581,397,683,516,487,684,608,1750,1064,927,657,1134,589,635,553,1068,186,686,566,600,769,427,1016,765,1267,619,992,1561,362,1669,604,979,549,826,437,416,653,900,505,857,416,914,1333,357,683,608,988,551,759,837,764,556,566,1059,1114,1121,898,463,516,387,841,3001,764,780,593,936,710,590,383,1965,648,447,795,1633,452,960,904,926,381,986,1072,507,970,504,743,452,640,961,491,360,796,641,1209,508,637,778,567,577,407,802,165,878,773,550,753,478,1242,637,534,903,619,2015,453,542,830,470,1168,416,510,430,396,366,664,497,763,974,642,881,588,750,1215,553,398,649,323,623,911,544,431,724,703,1148,576,704,544,390,328,1080,310,743,292,435,476,1233,3466,1608,430,618,835,515,542,925,777,292,1098,600,786,504,401,285,414,915,1209,910,392,495,473,664,1102,458,551,1043,630,936,1204,281,1140,508,625,1285,733,511,1148,436,448,638,326,587,374,764,360,757,512,797,559,463,608,1015,970,1291,513,442,1163,442,847,622,972,1059,597,770,761,703,500,848,513,501,779,1059,458,651,1381,318,759,909,325,766,333,1365,789,449,692,693,637,1810,818,648,560,674,373,709,378,689,501,848,581,981,240,448,592,807,867,499,530,659,818,488,469,504,996,549,3171,1231,495,781,611,289,606,891,705,734,671,853,672,215,293,394,898,507,881,326,1088,1901,751,1174,871,343,819,353,610,678,743,577,446,609,671,985,777,572,752,888,1106,805,911,642,518,706,563,489,666,674,958,488,308,636,527,450,857,1932,583,779,708,699,463,907,1003,1144,859,489,856,460,458,1157,371,489,488,530,891,1050,846,587,604,665,538,1339,657,753,537,878,907,629,539,701,610,649,759,549,619,727,891,796,563,498,463,805,516,903,1273,1204,714,378,384,863,452,456,668,547,550,1225,475,546,490,553,834,1185,874,598,1341,310,354,775,871,1258,1227,625,1303,417,1746,1899,1018,1209,552,698,730,942,464,826,410,531,942,1538,480,853,1036,430,612,916,501,298,595,497,340,731,987,922,896,711,450,269,731,542,647,941,944,299,635,475,620,772,821,645,748,1053,655,596,1692,584,1073,400,431,607,762,550,686,468,775,775,720,1572,1139,528,922,871,558,546,1270,497,799,537,599,883,781,668,529,856,477,668,893,750,520,635,2871,373,393,619,2433,571,566,614,948,405,705,637,811,1012,879,701,385,453,619,1007,523,819,747,477,455,891,597,847,641,1002,469,627,666,804,1080,687,596,668,866,941,658,634,584,455,622,1005,1099,545,651,1048,501,708,404,555,1708,1888,1745,1368,792,1252,681,242,899,696,432,854,1092,1484,662,511,3240,491,787,1014,526,1038,894,913,679,532,1115,468,1048,804,331,488,829,609,854,982,476,609,631,631,490,541,462,708,319,1065,855,469,618,544,1206,181,879,890,731,1206,1399,1130,369,695,1287,334,329,509,783,726,739,789,1307,746,786,3053,436,766,1307,891,382,871,946,382,1684,660,520,1599,502,896,779,468,298,605,471,738,835,415,915,968,571,676,678,1040,422,445,1355,1059,696,3178,598,989,1977,753,662,792,657,521,641,411,767,1626,826,527,945,678,351,958,571,700,1553,527,451,607,1021,846,732,440,497,713,422,885,372,344,832,1062,801,687,665,480,757,956,1382,359,538,394,705,925,460,303,313,977,539,469,882,1061,440,684,493,549,464,769,593,721,690,556,3099,339,850,607,387,461,568,444,392,462,367,469,429,1211,1163,469,635,349,1767,1342,565,687,497,679,2894,958,989,652,714,586,483,561,514,574,1618,1505,508,841,385,696,590,651,875,682,290,854,957,426,979,469,400,729,689,240,481,988,1509,383,532,297,934,804,273,635,552,591,957,701,1032,884,769,1349,672,677,591,558,795,1101,292,560,902,848,504,828,486,313,705,1113,570,173,827,709,335,448,621,754,773,364,905,437,510,420,453,435,651,2030,732,530,940,768,558,213,657,323,714,1093,883,687,592,942,576,550,407,566,321,291,526,1003,758,623,681,865,894,413,371,486,911,826,676,968,810,352,876,677,707,625,1697,721,467,538,407,770,497,1281,871,789,4380,1246,2614,469,816,637,1659,667,831,434,495,420,556,892,442,609,534,873,627,460,902,975,877,958,907,1022,786,635,1870,1483,955,377,584,859,602,757,898,534,1345,892,558,728,539,618,651,588,550,696,777,747,823,2506,1217,953,607,563,743,651,1142,1014,473,471,1377,350,802,1395,532,1311,485,850,373,559,1912,526,485,655,445,748,825,751,342,378,504,380,544,815,506,772,744,686,569,587,755,580,493,526,624,590,898,1343,504,1092,407,2190,607,807,1048,764,765,1193,456,485,506,651,845,663,2497,579,1133,525,1091,813,782,780,1081,600,1756,453,673,538,680,334,646,587,563,899,1011,680,1016,753,496,480,734,558,839,882,484,462,704,281,340,707,735,1100,251,952,846,852,523,368,630,522,438,870,1617,786,876,550,571,1332,946,660,795,853,312,526,1177,646,486,397,909,1485,303,443,827,781,840,851,399,1003,432,355,469,389,543,352,651,414,520,1791,1378,795,605,1050,660,1199,903,292,782,788,685,1803,739,1092,373,596,528,747,713,646,514,1112,518,674,1035,1221,644,1201,604,866,469,759,1708,656,299,713,1343,784,571,518,558,558,662,907,352,474,396,734,1342,813,555,444,924,403,705,571,881,807,548,548,488,542,846,955,1126,1732,920,795,764,302,360,468,807,604,550,932,1205,576,571,732,849,3092,1112,1024,763,437,459,290,903,718,649,512,531,1544,645,1080,799,544,646,1032,765,254,827,439,619,539,662,895,676,500,725,491,1043,403,566,833,429,624,975,732,568,626,807,491,476,602,389,615,574,455,635,1188,770,591,936,380,1087,745,755,1254,769,585,578,488,410,685,350,991,378,946,554,333,208,1677,367,539,995,761,480,760,517,421,422,834,1210,826,646,2495,542,489,610,333,592,625,501,711,864,654,647,1006,914,544,287,373,839,389,718,1295,532,969,649,844,1844,535,382,662,535,4080,308,578,694,1193,708,772,867,1152,571,531,968,1132,689,721,716,658,775,425,700,484,368,535,1483,811,635,1123,1108,584,538,786,524,1211,1855,1376,813,877,535,678,373,973,694,365,1111,1081,402,539,580,546,567,560,2229,502,1327,892,888,293,542,619,461,1135,541,721,581,491,608,504,464,491,724,709,880,410,1233,699,1038,828,275,900,688,362,628,1582,679,675,1048,1144,2189,991,443,577,466,1125,717,915,562,1048,731,625,968,720,532,556,451,534,496,877,309,786,614,1038,491,1222,956,519,659,639,666,797,658,402,651,538,716,481,810,292,514,899,880,374,625,1019,1009,359,590,667,463,458,258,1016,771,474,448,396,384,545,771,521,606,578,790],\"colorbar\":{\"title\":{\"text\":\"Number Of Customers\"}},\"colorscale\":[[0.0,\"rgb(0,0,131)\"],[0.2,\"rgb(0,60,170)\"],[0.4,\"rgb(5,255,255)\"],[0.6,\"rgb(255,255,0)\"],[0.8,\"rgb(250,0,0)\"],[1.0,\"rgb(128,0,0)\"]],\"size\":20},\"mode\":\"markers\",\"x\":[250.0,970.0,450.0,14160.0,210.0,1900.0,1210.0,7660.0,8980.0,1120.0,10890.0,5350.0,490.0,3020.0,8860.0,420.0,90.0,3370.0,4740.0,4130.0,2440.0,260.0,410.0,1250.0,3230.0,260.0,1270.0,550.0,10180.0,4180.0,32330.0,680.0,8540.0,180.0,230.0,5780.0,6560.0,910.0,6910.0,8480.0,3900.0,900.0,3970.0,1710.0,2140.0,2380.0,310.0,810.0,440.0,290.0,550.0,250.0,3270.0,910.0,3050.0,8480.0,190.0,2640.0,6480.0,1000.0,7250.0,5780.0,1390.0,540.0,680.0,13090.0,340.0,7890.0,5760.0,2020.0,13840.0,7980.0,680.0,1450.0,2550.0,2890.0,2870.0,150.0,25360.0,15040.0,2260.0,3510.0,3720.0,17500.0,200.0,550.0,2590.0,140.0,15700.0,8140.0,18160.0,4880.0,510.0,5020.0,1100.0,4520.0,1850.0,760.0,16570.0,2590.0,2550.0,580.0,5840.0,2290.0,330.0,970.0,520.0,1980.0,3620.0,1180.0,180.0,2640.0,18160.0,58260.0,21810.0,270.0,1070.0,50.0,1130.0,4060.0,4330.0,1210.0,15710.0,2770.0,8880.0,4030.0,3040.0,4030.0,70.0,6970.0,1600.0,970.0,910.0,520.0,150.0,6190.0,2960.0,8110.0,26450.0,6860.0,540.0,910.0,1900.0,6910.0,5950.0,850.0,40.0,2870.0,3460.0,1650.0,660.0,9770.0,4650.0,13190.0,6480.0,2060.0,980.0,2460.0,170.0,9910.0,9630.0,90.0,1260.0,4520.0,1280.0,15700.0,120.0,370.0,1360.0,75860.0,440.0,560.0,4130.0,13530.0,9770.0,1100.0,720.0,1270.0,2870.0,8880.0,12020.0,1860.0,120.0,17570.0,40.0,140.0,6360.0,2460.0,1250.0,4510.0,1740.0,3720.0,17280.0,240.0,16680.0,200.0,220.0,1850.0,13080.0,580.0,15770.0,680.0,9680.0,22330.0,190.0,2280.0,9580.0,12430.0,450.0,760.0,4150.0,730.0,210.0,200.0,190.0,310.0,240.0,620.0,2640.0,3640.0,50.0,60.0,1200.0,2950.0,31830.0,13990.0,190.0,420.0,3460.0,2280.0,12480.0,15340.0,2710.0,1290.0,120.0,2325.0,1650.0,870.0,11640.0,7980.0,2020.0,4740.0,340.0,4970.0,1880.0,470.0,3210.0,3130.0,2640.0,3170.0,4130.0,420.0,1690.0,26130.0,360.0,32240.0,5210.0,1860.0,4030.0,16990.0,8460.0,3100.0,12700.0,380.0,18160.0,70.0,640.0,1490.0,1070.0,470.0,2460.0,920.0,4180.0,6210.0,18010.0,3850.0,4820.0,130.0,14160.0,1200.0,380.0,260.0,330.0,3210.0,440.0,220.0,170.0,15710.0,5030.0,1590.0,38710.0,12770.0,6930.0,2130.0,20390.0,2640.0,5890.0,1460.0,2370.0,250.0,20970.0,630.0,1260.0,920.0,1300.0,230.0,770.0,3780.0,1560.0,8110.0,12540.0,3110.0,2060.0,40.0,190.0,230.0,1860.0,850.0,250.0,7250.0,1080.0,1510.0,26490.0,18660.0,1590.0,4610.0,840.0,2890.0,6470.0,4650.0,5070.0,17650.0,1100.0,18010.0,4680.0,720.0,5070.0,8670.0,910.0,3440.0,2640.0,250.0,190.0,6560.0,3200.0,12480.0,3160.0,2140.0,250.0,4210.0,1340.0,3530.0,390.0,19830.0,4630.0,4820.0,1140.0,20.0,2290.0,4300.0,5350.0,300.0,6420.0,1850.0,29190.0,21930.0,11840.0,2300.0,2070.0,1450.0,1070.0,17570.0,15430.0,10690.0,3470.0,1200.0,10800.0,12480.0,1710.0,3470.0,210.0,1590.0,270.0,1610.0,1950.0,2120.0,3370.0,2330.0,3460.0,32330.0,4520.0,3570.0,310.0,8980.0,8740.0,560.0,18620.0,3040.0,5300.0,1710.0,1480.0,9560.0,1250.0,2410.0,1200.0,6900.0,1680.0,4060.0,3290.0,1520.0,16240.0,310.0,1320.0,9990.0,19640.0,8260.0,3450.0,3860.0,740.0,3300.0,8650.0,12480.0,3640.0,5080.0,27150.0,120.0,5840.0,1090.0,8040.0,5150.0,590.0,420.0,1460.0,1800.0,3520.0,5760.0,560.0,780.0,540.0,1640.0,4510.0,350.0,540.0,4300.0,4110.0,13570.0,7660.0,130.0,620.0,1900.0,22330.0,2710.0,18670.0,960.0,190.0,3040.0,1630.0,14300.0,870.0,310.0,3840.0,2740.0,840.0,5090.0,6970.0,2630.0,620.0,440.0,10850.0,8460.0,440.0,22350.0,19360.0,660.0,1070.0,5470.0,440.0,14620.0,40.0,2140.0,10620.0,100.0,1850.0,14040.0,2325.0,9070.0,2325.0,18160.0,2460.0,19700.0,640.0,230.0,1700.0,30.0,330.0,250.0,1640.0,1800.0,210.0,190.0,8480.0,60.0,70.0,670.0,22390.0,1010.0,2030.0,2540.0,4270.0,1090.0,4420.0,6420.0,2070.0,130.0,1480.0,270.0,210.0,1690.0,2325.0,1790.0,210.0,5390.0,6690.0,5830.0,1850.0,6710.0,2120.0,1490.0,4680.0,14300.0,400.0,15140.0,4160.0,3440.0,2550.0,2325.0,38710.0,690.0,480.0,330.0,2130.0,8050.0,250.0,870.0,10740.0,620.0,3750.0,1420.0,670.0,1360.0,27530.0,230.0,1350.0,6910.0,6900.0,270.0,4610.0,35280.0,15140.0,1090.0,3140.0,3570.0,4210.0,2440.0,690.0,1200.0,2960.0,780.0,800.0,1270.0,8980.0,340.0,730.0,3300.0,480.0,3560.0,140.0,9560.0,260.0,3860.0,420.0,3860.0,550.0,23620.0,1610.0,1090.0,660.0,900.0,590.0,1290.0,190.0,210.0,12430.0,26450.0,2190.0,2900.0,2340.0,380.0,26450.0,440.0,1180.0,30030.0,13080.0,650.0,17930.0,8460.0,5980.0,340.0,1100.0,8480.0,860.0,15770.0,3030.0,29190.0,680.0,140.0,1710.0,13020.0,2120.0,90.0,19640.0,70.0,1090.0,2890.0,8990.0,1350.0,490.0,9360.0,13170.0,90.0,8260.0,13080.0,1900.0,260.0,13840.0,9910.0,5000.0,710.0,10170.0,3390.0,3140.0,1610.0,9910.0,2070.0,310.0,50.0,2710.0,5390.0,50.0,3570.0,4270.0,2325.0,410.0,770.0,70.0,2050.0,2700.0,1250.0,1040.0,40.0,6890.0,260.0,400.0,6250.0,1290.0,490.0,3640.0,350.0,170.0,720.0,5800.0,2740.0,680.0,3330.0,11300.0,2260.0,6620.0,3160.0,1200.0,1900.0,5070.0,620.0,14160.0,15720.0,1390.0,2470.0,2550.0,570.0,4510.0,1200.0,4140.0,4030.0,460.0,610.0,1090.0,300.0,40.0,3440.0,30.0,3020.0,1090.0,1060.0,4820.0,240.0,820.0,34050.0,21790.0,3620.0,1360.0,16350.0,320.0,7830.0,1070.0,110.0,840.0,1250.0,8990.0,550.0,130.0,13620.0,11840.0,380.0,60.0,670.0,2325.0,2040.0,460.0,250.0,540.0,15140.0,2050.0,17410.0,7930.0,10800.0,8110.0,1310.0,160.0,450.0,9720.0,5350.0,11400.0,840.0,640.0,390.0,2640.0,570.0,2190.0,12920.0,1080.0,6360.0,13840.0,240.0,3870.0,140.0,1200.0,1590.0,22390.0,1590.0,3100.0,10620.0,6190.0,2770.0,5540.0,15140.0,8650.0,3250.0,1200.0,3560.0,390.0,780.0,590.0,10600.0,3210.0,3350.0,620.0,19700.0,1090.0,5210.0,5100.0,7520.0,420.0,1020.0,5760.0,3620.0,1390.0,340.0,340.0,260.0,21370.0,2290.0,2200.0,400.0,7340.0,9230.0,10890.0,34050.0,7240.0,1100.0,11300.0,50.0,570.0,180.0,2140.0,330.0,6970.0,3200.0,18670.0,1410.0,120.0,9990.0,250.0,14130.0,270.0,2510.0,2380.0,1040.0,8250.0,4030.0,1910.0,1010.0,220.0,16490.0,640.0,2390.0,120.0,1180.0,2770.0,530.0,3890.0,4650.0,3390.0,3900.0,4030.0,19700.0,1830.0,1300.0,100.0,1830.0,7520.0,1600.0,3150.0,1310.0,29190.0,9580.0,14570.0,14810.0,1200.0,22490.0,650.0,970.0,50.0,5830.0,13170.0,17110.0,40.0,4660.0,10690.0,8650.0,1120.0,2190.0,2370.0,270.0,710.0,15430.0,5380.0,32330.0,10850.0,15140.0,1350.0,490.0,110.0,12920.0,2100.0,36410.0,190.0,21770.0,6890.0,29910.0,9680.0,6540.0,840.0,1740.0,690.0,38630.0,13570.0,580.0,17290.0,130.0,7520.0,1060.0,11900.0,5540.0,3000.0,1090.0,350.0,10450.0,7420.0,6630.0,550.0,5870.0,1100.0,2190.0,1980.0,190.0,2330.0,6710.0,20050.0,1910.0,6900.0,21370.0,19830.0,2060.0,220.0,710.0,590.0,290.0,720.0,760.0,150.0,1600.0,330.0,3300.0,70.0,5140.0,1070.0,13750.0,650.0,24000.0,40.0,2060.0,4370.0,6630.0,1420.0,14600.0,2130.0,760.0,540.0,1920.0,1340.0,1020.0,10170.0,3620.0,3870.0,4490.0,27530.0,510.0,10690.0,1320.0,350.0,3200.0,190.0,590.0,5760.0,8110.0,12430.0,45740.0,10600.0,6420.0,2640.0,1850.0,260.0,320.0,22330.0,18620.0,14040.0,3560.0,400.0,5010.0,33060.0,190.0,12430.0,160.0,1480.0,4180.0,1290.0,2300.0,26490.0,3000.0,2890.0,390.0,2480.0,410.0,2260.0,250.0,3750.0,6360.0,6260.0,140.0,45740.0,1290.0,19370.0,650.0,870.0,6710.0,720.0,1100.0,360.0,8550.0,1790.0,400.0,2200.0,22350.0,1980.0,1680.0,520.0,6870.0,850.0,180.0,13840.0,3580.0,430.0,1620.0,14160.0,190.0,130.0,3270.0,1600.0,220.0,1410.0,50.0,22440.0,3270.0,30.0,2610.0,1000.0,15140.0,440.0,1560.0,2170.0,2840.0,200.0,14040.0,6970.0,19960.0,10850.0,390.0,190.0,18160.0,8460.0,1070.0,8550.0,30.0,4260.0,20260.0,18670.0,14810.0,910.0,320.0,9800.0,27650.0,5070.0,1070.0,380.0,300.0,1070.0,1170.0,150.0,770.0,2190.0,840.0,40540.0,340.0,220.0,1100.0,14300.0,600.0,4680.0,980.0,840.0,2880.0,1200.0,7470.0,2280.0,290.0,3350.0,2840.0,1650.0,8300.0,2870.0,5330.0,60.0,380.0,1160.0,5260.0,740.0,1910.0,3230.0,18640.0,1350.0,29190.0,2020.0,140.0,3560.0,6860.0,2870.0,200.0,7550.0,430.0,580.0,860.0,1600.0,1110.0,840.0,2810.0,480.0,23130.0,190.0,260.0,6630.0,3620.0,490.0,200.0,16760.0,5260.0,180.0,780.0,1340.0,8050.0,180.0,420.0,2060.0,1300.0,5870.0,2190.0,1060.0,16570.0,3840.0,1200.0,6270.0,1520.0,850.0,18620.0,480.0,7290.0,540.0,3330.0,110.0,2550.0,3570.0,7280.0,2220.0,3720.0,330.0,120.0,240.0,3450.0,2340.0,550.0,970.0,1290.0,9070.0,10950.0,350.0,1690.0,2630.0,11260.0,1980.0,1540.0,480.0,1460.0,420.0,290.0,50.0,9710.0,1080.0,26490.0,120.0,230.0,4820.0,1110.0,7520.0,2490.0,4150.0,150.0,680.0,3250.0,170.0,60.0,3270.0,510.0,460.0,3700.0,140.0,70.0,1200.0,380.0,2260.0,2030.0,5070.0,9630.0,970.0,14810.0,1320.0,230.0,530.0,420.0,150.0,1620.0,10890.0,1070.0,780.0,5890.0,30030.0,7660.0,15050.0,10310.0,1470.0,6250.0,2490.0,50.0,10310.0,15700.0,410.0,11640.0,1730.0,1650.0,7660.0,16210.0,4110.0,1600.0,7470.0,2590.0,2325.0,20930.0,3560.0,50.0,2240.0,20260.0,9070.0,4160.0,2640.0,12540.0,2870.0,22490.0,2060.0,380.0,100.0,2180.0,9260.0,450.0,6870.0,400.0,2060.0,5460.0,1480.0,22560.0,1600.0,1870.0,2100.0,3430.0,2290.0,3330.0,19700.0,2290.0,2950.0,1560.0,870.0,17930.0,9200.0,3290.0,6690.0,420.0,4060.0,1100.0,4130.0,300.0,13090.0,1700.0,13990.0,720.0,590.0,140.0,110.0,5460.0,18160.0,2020.0,45740.0,250.0,8670.0,1390.0,290.0,4180.0,1900.0,1560.0,3300.0,1310.0,1070.0,8040.0,110.0,3440.0,990.0,20930.0,330.0,460.0,12070.0,6270.0,1930.0,14040.0,18710.0,2110.0,700.0,24770.0,640.0,100.0,22350.0,12700.0,50.0,780.0,7180.0,2020.0,21790.0,1340.0,23620.0,3110.0,12700.0,180.0,3370.0,800.0,170.0,11260.0,5070.0,1510.0,4150.0,350.0,6680.0,2300.0,12480.0,440.0,21810.0,21810.0,2260.0,8080.0,820.0,10070.0,2300.0,410.0,3580.0,3560.0,30030.0,27190.0,2090.0,500.0,58260.0,3210.0,620.0,1310.0,3150.0,3380.0,3300.0,300.0,20970.0,4400.0,4260.0,9260.0,1510.0,22350.0,1700.0,330.0,5290.0,720.0,2170.0,2090.0,30.0,3890.0,9070.0,4060.0,5980.0,5350.0,630.0,19840.0,2970.0,7290.0,550.0,150.0,320.0,8980.0,1460.0,6270.0,29070.0,6400.0,4520.0,110.0,2410.0,30360.0,20390.0,4180.0,16240.0,16690.0,3440.0,350.0,3920.0,2640.0,350.0,6270.0,670.0,2070.0,3000.0,540.0,3270.0,540.0,1980.0,6250.0,910.0,4520.0,10740.0,60.0,25430.0,2200.0,2270.0,1060.0,2280.0,4700.0,720.0,1760.0,6540.0,1410.0,2840.0,1500.0,1250.0,12430.0,180.0,700.0,1120.0,14130.0,3860.0,210.0,1410.0,4400.0,2920.0,420.0,26450.0,2530.0,2330.0,50.0,1270.0,11400.0,310.0,9820.0,3470.0,7860.0,290.0,17110.0,1130.0,4880.0,8860.0,1280.0,1320.0,3720.0,5440.0,370.0,1000.0,210.0,14960.0,20640.0,1280.0,190.0,4450.0,260.0,21930.0,4450.0,2330.0,200.0,4380.0,6270.0,2325.0,500.0,990.0,6920.0,1200.0,1840.0,2050.0,10800.0,6920.0,480.0,6250.0,18050.0,700.0,170.0,1870.0,1410.0,520.0,3200.0,340.0,190.0,5870.0,90.0,3580.0,11120.0,470.0,12480.0,210.0,520.0,260.0,1360.0,420.0,120.0,6900.0,1200.0,5090.0,90.0,10690.0,5010.0,11640.0,2290.0,5390.0,4210.0,4270.0,2070.0,46590.0,3370.0,13840.0,440.0,6690.0,260.0,2900.0,2410.0,30.0,10450.0,610.0,250.0,8040.0,3890.0,700.0,7170.0,18710.0,1780.0,11900.0,4870.0,1870.0,70.0,14810.0,1280.0,1080.0,17340.0,180.0,16760.0,540.0,2840.0,60.0,24000.0,3290.0,3000.0,430.0,410.0,18620.0,3240.0,4880.0,120.0,1140.0,450.0,540.0,330.0,840.0,13130.0,4210.0,580.0,430.0,6860.0,1220.0,320.0,2710.0,18710.0,450.0,220.0,8780.0,840.0,27190.0,5070.0,5830.0,780.0,6360.0,90.0,1650.0,3970.0,330.0,1060.0,34050.0,320.0,330.0,7520.0,13570.0,140.0,2140.0,2380.0,230.0,1460.0,5070.0,1180.0,6470.0,5380.0,250.0,510.0,18160.0,3390.0,430.0,1760.0,120.0,22390.0,1080.0,6880.0,3230.0,620.0,810.0,1160.0,15170.0,2120.0,970.0,960.0,110.0,590.0,670.0,150.0,1600.0,2820.0,510.0,590.0,150.0,570.0,2140.0,2850.0,1190.0,1480.0,4680.0,6480.0,8080.0,1700.0,150.0,3860.0,2100.0,2240.0,60.0,480.0,2710.0,3040.0,340.0,30.0,30030.0,260.0,3270.0,2325.0,4820.0,13140.0,33060.0,9580.0,460.0,1280.0,1180.0,1200.0,210.0,110.0,2550.0,1200.0,75860.0,1690.0,210.0,5070.0,9070.0,350.0,3580.0,1460.0,21790.0,1130.0,350.0,3270.0,5030.0,3510.0,30030.0,5870.0,3300.0,1080.0,1180.0,6560.0,1020.0,440.0,2300.0,2200.0,210.0,4160.0,4770.0,4450.0,50.0,4210.0,500.0,19640.0,450.0,320.0,70.0,50.0,5030.0,4360.0,1080.0,4210.0,150.0,10070.0,680.0,150.0,15710.0,4270.0,590.0,1690.0,170.0,4210.0,7520.0,5460.0,2620.0,9910.0,2120.0,2770.0,140.0,10740.0,570.0,560.0,450.0,3330.0,13080.0,350.0,1300.0,4970.0,2970.0,1790.0,5260.0,370.0,140.0,70.0,410.0,2640.0,1420.0,100.0,240.0,16420.0,15170.0,410.0,3900.0,2910.0,8190.0,13140.0,1420.0,16970.0,3200.0,2310.0,250.0,3520.0,33060.0,58260.0,2550.0,570.0,2140.0,6300.0,650.0,16690.0,12020.0,21930.0,3110.0,1060.0,4770.0,910.0,1340.0,2030.0,44320.0,90.0,30.0,410.0,180.0,2120.0,2640.0,1150.0,2740.0,150.0,18370.0,820.0,390.0,2880.0,2060.0,6470.0,170.0,25430.0,400.0,3720.0,140.0,350.0,410.0,510.0,720.0,4510.0,290.0,960.0,4150.0,2290.0,330.0,2550.0,5760.0,730.0,300.0,2910.0,710.0,6210.0,8980.0,150.0,1870.0,1390.0,5760.0,18540.0,3750.0,7470.0,4580.0,3330.0,1160.0,9710.0,540.0,19830.0,8220.0,8650.0,7420.0,70.0,210.0,1920.0,5070.0,1100.0,2640.0,3350.0,300.0,2325.0,40.0,2290.0,260.0,18010.0,3560.0,15320.0,19830.0,6690.0,170.0,710.0,3490.0,8670.0,20930.0,17340.0,8250.0,8220.0,4400.0,2210.0,10600.0,38710.0,1110.0,2260.0,510.0,740.0,5360.0,1090.0,740.0,4030.0,100.0,5350.0,5440.0,23620.0,9720.0,30.0,9820.0,6400.0,1070.0,9430.0,4150.0,1700.0,3290.0,850.0,1110.0,7660.0,620.0,250.0,2190.0,80.0,560.0,15700.0,21770.0,5470.0,740.0,1600.0,2880.0,2480.0,2820.0,270.0,3040.0,330.0,410.0,17110.0,1320.0,3450.0,2050.0,330.0,17500.0,540.0,3640.0,2390.0,18620.0,6970.0,970.0,690.0,2060.0,970.0,1760.0,2550.0,7180.0,900.0,31830.0,18020.0,7860.0,960.0,2090.0,250.0,18160.0,1280.0,900.0,1180.0,1460.0,8050.0,1200.0,1460.0,270.0,2190.0,6210.0,490.0,2640.0,50.0,2030.0,3760.0,2030.0,1070.0,1420.0,6920.0,24000.0,17540.0,340.0,3450.0,9560.0,3430.0,1000.0,780.0,1860.0,4680.0,2180.0,3970.0,3720.0,1700.0,1260.0,8250.0,10890.0,250.0,1840.0,3000.0,4520.0,490.0,8190.0,4370.0,3750.0,350.0,1290.0,860.0,7860.0,70.0,2070.0,1700.0,13530.0,4510.0,6710.0,25360.0,15720.0,340.0,4970.0,500.0,18660.0,8300.0,4140.0,250.0,110.0,6690.0,3030.0,1690.0,1700.0,520.0,2970.0,650.0,17500.0,2130.0,350.0,2100.0,40860.0,9710.0,2240.0,2470.0,1360.0,680.0,2260.0,130.0,150.0,20930.0,8140.0,2380.0,7780.0,7290.0,1090.0,9560.0,2340.0,3150.0,420.0,150.0,780.0,410.0,6690.0,9580.0,3700.0,320.0,4700.0,27650.0,2170.0,11470.0,1900.0,4460.0,3430.0,18710.0,1280.0,7470.0,6470.0,17080.0,170.0,1890.0,1560.0,1850.0,1680.0,2090.0,1130.0,1140.0,21770.0,350.0,9430.0,150.0,80.0,21930.0,710.0,1480.0,1970.0,3200.0,2200.0,520.0,350.0,4460.0,120.0,14960.0,1450.0,3870.0,190.0,31830.0,4580.0,90.0,1700.0,180.0,2710.0,940.0,5150.0,6920.0,350.0,10310.0,780.0,330.0,1140.0,1540.0,1060.0,6250.0,1790.0,5740.0,3720.0,3030.0,18660.0,6560.0,17080.0,4590.0,5090.0,1510.0,1540.0,1000.0,2410.0,1260.0,1930.0,2640.0,100.0,100.0,720.0,1080.0,2020.0,450.0,15710.0,7660.0,340.0,3590.0,130.0,16350.0,3750.0,1160.0,18640.0,12480.0,540.0,240.0,140.0,1060.0,2640.0,990.0,10890.0,7660.0,240.0,1980.0,9800.0,7680.0,140.0,710.0,2290.0,370.0,2970.0,1090.0,10600.0,2300.0,1680.0,6260.0,4840.0,4260.0,5870.0,3900.0,8250.0,4580.0,1160.0,2130.0,270.0,290.0,380.0,3160.0,110.0,1100.0,6860.0,3770.0,1980.0,280.0,1670.0,4400.0,18610.0,590.0,3560.0,1210.0,2220.0,1950.0,1980.0,5830.0,1210.0,490.0,12430.0,7280.0,250.0,26450.0,19360.0,8880.0,1830.0,3440.0,13090.0,1620.0,6680.0,640.0,5710.0,650.0,2840.0,3100.0,2370.0,22560.0,180.0,320.0,300.0,580.0,3760.0,4610.0,90.0,2840.0,2170.0,12480.0,350.0,460.0,23620.0,1430.0,2950.0,1470.0,240.0,1700.0,6250.0,18010.0,2330.0,8240.0,4580.0,5330.0,50.0,21370.0,270.0,360.0,3040.0,1100.0,580.0,310.0,330.0,140.0,760.0,170.0,1340.0,17290.0,500.0,10890.0,6630.0,50.0,8480.0,410.0,2380.0,5080.0,11540.0,4030.0,27650.0,590.0,14570.0,3430.0,2510.0,1180.0,32240.0,1130.0,170.0,810.0,5740.0,1200.0,6470.0,1300.0,420.0,1070.0,200.0,13530.0,100.0,370.0,3570.0,48330.0,240.0,2810.0,8050.0,27150.0,18010.0,1100.0,21790.0,14810.0,330.0,7240.0,210.0,960.0,780.0,35280.0,5710.0,13190.0,1220.0,12430.0,210.0,13190.0,5950.0,1100.0,360.0,1340.0,11840.0,380.0,1890.0,1290.0,2200.0,18160.0,1710.0,13620.0,1590.0,18610.0,3270.0,6970.0,2710.0,320.0,15140.0,6250.0,7170.0,2930.0,6320.0,90.0,2380.0,8110.0,21770.0,450.0,1340.0,4510.0,2170.0,610.0,3040.0,170.0,250.0,1200.0,9770.0,190.0,15430.0,12700.0,3350.0,1390.0,48330.0,1910.0,15040.0,2380.0,18050.0,1120.0,44320.0,13080.0,5460.0,560.0,610.0,1530.0,170.0,5710.0,4580.0,110.0,2280.0,170.0,2060.0,800.0,7290.0,840.0,75860.0,30.0,3750.0,540.0,4180.0,3570.0,810.0,760.0,1140.0,990.0,650.0,380.0,2740.0,490.0,920.0,7470.0,960.0,50.0,2890.0,540.0,420.0,2770.0,1700.0,6620.0,520.0,1340.0,550.0,15270.0,270.0,1470.0,12770.0,180.0,7840.0,20620.0,20.0,220.0,3490.0,9260.0,120.0,6880.0,2260.0,21810.0,2590.0,9070.0,7910.0,1100.0,1450.0,190.0,6470.0,13020.0,3350.0,12430.0,680.0,8080.0,2590.0,600.0,2960.0,23620.0,8090.0,580.0,12480.0,350.0,11260.0,1710.0,3560.0,20930.0,7840.0,2890.0,6270.0,3410.0,50.0,9360.0,18010.0,21370.0,110.0,15770.0,24530.0,15270.0,2200.0,2390.0,100.0,3720.0,480.0,4150.0,7470.0,740.0,5210.0,8260.0,720.0,13840.0,13990.0,12070.0,570.0,3370.0,2470.0,26130.0,5070.0,860.0,580.0,5980.0,680.0,3350.0,1010.0,400.0,250.0,250.0,100.0,250.0,5650.0,1560.0,6710.0,410.0,1850.0,21790.0,21370.0,1560.0,1420.0,110.0,6680.0,9070.0,17570.0,910.0,560.0,1160.0,4370.0,1140.0,4140.0,1680.0,1700.0,480.0,8240.0,2410.0,8250.0,1160.0,10620.0,7930.0,4680.0,1340.0,120.0,180.0,5000.0,250.0,670.0,2030.0,40540.0,900.0,7840.0,270.0,12610.0,3240.0,4180.0,330.0,12700.0,240.0,23130.0,4510.0,16970.0,140.0,240.0,990.0,15710.0,4210.0,6400.0,27150.0,560.0,210.0,15170.0,720.0,18620.0,4520.0,820.0,10070.0,16570.0,650.0,2240.0,1590.0,610.0,10180.0,7680.0,18370.0,180.0,350.0,4590.0,18010.0,110.0,2960.0,1590.0,1340.0,720.0,440.0,110.0,6250.0,9560.0,2180.0,3530.0,5380.0,1480.0,1070.0,75860.0,180.0,2900.0,3270.0,760.0,1980.0,13530.0,16690.0,1640.0,70.0,2260.0,5800.0,90.0,4520.0,300.0,10310.0,9910.0,1870.0,18610.0,390.0,1360.0,2620.0,22330.0,1670.0,150.0,1560.0,420.0,150.0,390.0,25430.0,1200.0,5630.0,970.0,1300.0,1910.0,510.0,4270.0,850.0,6480.0,50.0,14160.0,2460.0,14300.0,20390.0,6540.0,130.0,1320.0,630.0,1910.0,8970.0,2120.0,1490.0,5030.0,530.0,5350.0,23620.0,1480.0,18160.0,350.0,15430.0,370.0,21930.0,8970.0,350.0,100.0,6630.0,900.0,22350.0,3850.0,12870.0,2330.0,110.0,18010.0,960.0,1100.0,860.0,1320.0,15270.0,150.0,9720.0,820.0,12070.0,3920.0,8080.0,13020.0,540.0,740.0,110.0,4360.0,630.0,26130.0,2460.0,29070.0,21930.0,3160.0,22350.0,2950.0,4510.0,2840.0,220.0,21930.0,1190.0,370.0,8740.0,150.0,1070.0,7780.0,2920.0,13170.0,660.0,1690.0,2390.0,2960.0,5950.0,650.0,10950.0,150.0,460.0,7830.0,2380.0,340.0,4270.0,200.0,1690.0,5360.0,11640.0,18010.0,1970.0,530.0,850.0,4260.0,340.0,13140.0,4680.0,330.0,3030.0,5210.0,1080.0,3130.0,3900.0,16210.0,8400.0,330.0,32240.0,1200.0,1850.0,1360.0,18620.0,5350.0,3740.0,1910.0,5710.0,1410.0,1360.0,36410.0,3470.0,10740.0,2100.0,2100.0,1540.0,200.0,450.0,390.0,8880.0,240.0,3200.0,2300.0,2470.0,16690.0,22490.0,660.0,490.0,2640.0,4140.0,2460.0,13140.0,2290.0,13530.0,9200.0,2300.0,4060.0,16570.0,870.0,5440.0,13020.0,6360.0,1200.0,600.0,1680.0,220.0,10180.0,2770.0,130.0,3390.0,3430.0,1270.0,1850.0,5020.0,5870.0,180.0,2320.0,110.0,250.0,21790.0,1680.0,16490.0,700.0,4570.0,12480.0,2380.0,1920.0,10950.0,5800.0,2190.0,1480.0,5760.0,4590.0,1060.0,50.0,2100.0,450.0,24770.0,450.0,2700.0,3330.0,290.0,4450.0,290.0,1250.0,670.0,9560.0,610.0,70.0,2410.0,420.0,1450.0,7860.0,3200.0,1850.0,18050.0,980.0,1730.0,170.0,13620.0,1250.0,490.0,110.0,50.0,3230.0,50.0,4180.0,1840.0,2050.0,22440.0,640.0,1280.0,3570.0,2480.0,3900.0,18710.0,840.0,1890.0,290.0,450.0,1940.0,90.0,2640.0,600.0,330.0,3330.0,200.0,3450.0,2740.0,2960.0,1130.0,420.0,310.0,780.0,1100.0,19360.0,910.0,14810.0,26450.0,3520.0,2590.0,4450.0,1670.0,1780.0,29190.0,720.0,4580.0,350.0,2620.0,3570.0,3350.0,4420.0,8240.0,8990.0,50.0,550.0,24530.0,940.0,120.0,340.0,12070.0,8740.0,3590.0,15490.0,18610.0,1850.0,430.0,10070.0,2030.0,350.0,2410.0,360.0,4030.0,1600.0,340.0,150.0,8980.0,32330.0,2960.0,1430.0,1320.0,5350.0,2090.0,2880.0,2270.0,5380.0,230.0,470.0,4030.0,10690.0,6190.0,34050.0,1430.0,8140.0,9560.0,20.0,7240.0,2770.0,2480.0,16760.0,9560.0,5830.0,8550.0,360.0,46590.0,3170.0,340.0,4330.0,250.0,8050.0,170.0,17500.0,3130.0,20390.0,1360.0,19700.0,640.0,5840.0,1110.0,9360.0,2470.0,4510.0,6860.0,2740.0,16970.0,180.0,4180.0,2320.0,1150.0,180.0,1270.0,440.0,24000.0,450.0,6210.0,610.0,1340.0,250.0,2460.0,2840.0,290.0,2640.0,2270.0,11540.0,250.0,1130.0,1340.0,120.0,2040.0,1900.0,3210.0,4110.0,100.0,180.0,3580.0,2170.0,30030.0,2700.0,220.0,22490.0,3560.0,6300.0,3510.0,1140.0,1520.0,1640.0,3620.0,670.0,1740.0,2120.0,12430.0,1590.0,910.0,8480.0,1180.0,140.0,8740.0,26450.0,1620.0,2970.0,5360.0,19370.0,2870.0,3290.0,15430.0,4420.0,3640.0,1890.0,13840.0,1200.0,240.0,4060.0,9630.0,720.0,10170.0,1730.0,1860.0,1080.0,4180.0,540.0,510.0,40.0,5780.0,12610.0,1190.0,8220.0,1690.0,18610.0,6710.0,300.0,17500.0,3270.0,940.0,960.0,5830.0,2710.0,620.0,40540.0,3290.0,1920.0,480.0,32330.0,1730.0,190.0,1890.0,1190.0,350.0,150.0,13080.0,1020.0,2050.0,3050.0,2620.0,5830.0,3430.0,3560.0,550.0,480.0,6620.0,1270.0,210.0,3140.0,4260.0,150.0,2100.0,3450.0,1180.0,40540.0,2270.0,7240.0,1490.0,3780.0,2270.0,1150.0,3620.0,620.0,4650.0,2410.0,4490.0,1850.0,190.0,1510.0,810.0,1630.0,6320.0,460.0,4770.0,180.0,13170.0,5780.0,17540.0,1420.0,3000.0,1800.0,2020.0,5220.0,1150.0,380.0,1200.0,4820.0,330.0,1500.0,50.0,14570.0,6540.0,3750.0,11680.0,3530.0,9580.0,5470.0,4820.0,770.0,8480.0,4820.0,14600.0,26130.0,29910.0,2325.0,540.0,1560.0,140.0,70.0,3290.0,390.0,3570.0,840.0,2320.0,1200.0,8400.0,1090.0,280.0,8550.0,830.0,2040.0,21370.0,2210.0,1700.0,3410.0,3780.0,8860.0,30.0,4490.0,13020.0,1090.0,40540.0,5800.0,2870.0,22560.0,29910.0,960.0,3040.0,9710.0,11120.0,2710.0,1100.0,11120.0,2610.0,2870.0,390.0,250.0,310.0,2510.0,2610.0,5350.0,310.0,120.0,3380.0,3490.0,5010.0,3770.0,4180.0,4820.0,500.0,900.0,5300.0,780.0,8400.0,3700.0,330.0,36410.0,27650.0,2960.0,1310.0,40.0,2970.0,50.0,6360.0,26490.0,11840.0,5000.0,2610.0,420.0,2050.0,3910.0,2090.0,900.0,10170.0,5890.0,1760.0,17080.0,26990.0,860.0,2310.0,2880.0,50.0,290.0,1290.0,3750.0,820.0,4140.0,4180.0,13840.0,50.0,4370.0,70.0,7980.0,90.0,8260.0,1700.0,520.0,9910.0,1130.0,3860.0,1510.0,2280.0,7520.0,180.0,6710.0,2390.0,14040.0,9000.0,6690.0,2050.0,13840.0,300.0,380.0,16690.0,300.0,100.0,5980.0,5950.0,8650.0,4300.0,1280.0,36410.0,14810.0,20640.0,17110.0,16680.0,2310.0,3970.0,4330.0,150.0,5070.0,19640.0,8140.0,8080.0,5340.0,11640.0,580.0,24000.0,300.0,1860.0,240.0,2090.0,11120.0,4030.0,290.0,3890.0,1730.0,18710.0,2270.0,50.0,18020.0,200.0,7660.0,13080.0,3620.0,14040.0,1500.0,180.0,290.0,3100.0,1410.0,2200.0,170.0,6920.0,5800.0,7170.0,2240.0,990.0,270.0,1310.0,14300.0,230.0,70.0,6680.0,3290.0,1200.0,35280.0,6540.0,9260.0,290.0,1450.0,2700.0,26130.0,1830.0,250.0,58260.0,2220.0,4180.0,450.0,370.0,18650.0,350.0,2200.0,9360.0,10570.0,170.0,2460.0,2270.0,660.0,1480.0,60.0,18650.0,6250.0,40.0,30.0,3780.0,1140.0,4370.0,4570.0,2110.0,2890.0,3330.0,3780.0,4110.0,6300.0,7680.0,9640.0,1630.0,1850.0,110.0,1890.0,8540.0,7420.0,6270.0,29910.0,13130.0,30360.0,4230.0,2240.0,1430.0,22490.0,22330.0,13140.0,1290.0,2100.0,1280.0,9670.0,5900.0,11300.0,60.0,1530.0,610.0,210.0,16210.0,8250.0,190.0,3170.0,8080.0,7680.0,170.0,650.0,30030.0,2090.0,38630.0,1220.0,1280.0,24530.0,2190.0,990.0,9720.0,1890.0,1710.0,18670.0,5950.0,540.0,2290.0,2930.0,19370.0,1460.0,250.0,7980.0,830.0,2300.0,2100.0,1290.0,46590.0,70.0,10070.0,4970.0,770.0,3440.0,5150.0,1890.0,250.0,1870.0,1100.0,2000.0,4130.0,3330.0,9720.0,1710.0,490.0,2700.0,6420.0,2100.0,3210.0,23130.0,5070.0,21810.0,16210.0,2630.0,2280.0,300.0,4210.0,15050.0,6320.0,6480.0,1150.0,510.0,26450.0,350.0,18160.0,80.0,3720.0,450.0,8240.0,5220.0,90.0,1860.0,3780.0,840.0,3910.0,1170.0,3150.0,5900.0,860.0,1080.0,1650.0,1350.0,770.0,2060.0,20390.0,150.0,23130.0,960.0,2180.0,6680.0,800.0,1600.0,15340.0,9430.0,110.0,6900.0,1190.0,1690.0,4420.0,6900.0,4880.0,16490.0,26450.0,18710.0,1700.0,770.0,250.0,12020.0,1400.0,5710.0,680.0,3410.0,20970.0,170.0,4770.0,4820.0,570.0,1420.0,8540.0,1070.0,70.0,770.0,2380.0,8740.0,1310.0,1420.0,970.0,1950.0,3350.0,2300.0,2320.0,13140.0,6890.0,3470.0,2200.0,4490.0,3370.0,1690.0,70.0,970.0,1270.0,9710.0,700.0,1640.0,11640.0,990.0,200.0,1700.0,5980.0,1120.0,3620.0,100.0,850.0,340.0,680.0,4680.0,160.0,2640.0,8110.0,1980.0,150.0,2700.0,2380.0,100.0,1140.0,18650.0,44320.0,26490.0,4580.0,3370.0,2300.0,1590.0,14620.0,2190.0,5020.0,14810.0,1890.0,3030.0,14570.0,3160.0,770.0,120.0,970.0,2530.0,100.0,220.0,1690.0,2490.0,460.0,800.0,18710.0,22390.0,1880.0,3320.0,6860.0,16180.0,2590.0,3370.0,5380.0,3270.0,12770.0,11400.0,5840.0,19640.0,1600.0,770.0,300.0,3150.0,13530.0,1200.0,330.0,1400.0,15140.0,16760.0,340.0,1280.0,640.0,2260.0,1790.0,2970.0,9770.0,2390.0,3130.0,7520.0,2000.0,6420.0,4660.0,3290.0,1280.0,400.0,1180.0,1790.0,1070.0,2330.0,1340.0,14570.0,6540.0,10690.0,3380.0,4370.0,3330.0,1200.0,820.0,330.0,3100.0,20390.0,1270.0,3770.0,2060.0,9670.0,15040.0,4740.0,15490.0,1140.0,2890.0,240.0,3640.0,14620.0,170.0,620.0,300.0,13140.0,2930.0,840.0,7420.0,46590.0,2710.0,3850.0,2870.0,9680.0,1320.0,9820.0,760.0,460.0,4080.0,450.0,5830.0,4080.0,18650.0,1270.0,270.0,17500.0,22350.0,2410.0,960.0,1250.0,6540.0,340.0,390.0,180.0,19640.0,70.0,760.0,5470.0,1130.0,870.0,1650.0,900.0,1650.0,5070.0,2320.0,1280.0,4210.0,840.0,6970.0,7780.0,130.0,1410.0,14960.0,5710.0,120.0,3210.0,1850.0,20930.0,1160.0,7840.0,6300.0,34050.0,40.0,2820.0,1070.0,150.0,8550.0,3750.0,10690.0,5980.0,140.0,180.0,2410.0,1200.0,90.0,280.0,17280.0,2380.0,1430.0,4490.0,2120.0,1520.0,760.0,8990.0,14300.0,110.0,6680.0,5010.0,580.0,3020.0,300.0,270.0,1900.0,9430.0,700.0,4330.0,16680.0,5070.0,1060.0,2120.0,180.0,1730.0,610.0,18710.0,16490.0,1560.0,1200.0,2890.0,16680.0,18760.0,270.0,150.0,6420.0,10450.0,9710.0,90.0,2640.0,2200.0,270.0,30360.0,210.0,2880.0,1200.0,2300.0,1090.0,110.0,38630.0,1200.0,17080.0,590.0,7340.0,20930.0,26130.0,1280.0,1320.0,9070.0,420.0,180.0,38630.0,14040.0,9580.0,1560.0,2260.0,11120.0,5080.0,18540.0,570.0,8250.0,330.0,14300.0,140.0,1920.0,24530.0,1270.0,13990.0,8970.0,1930.0,8250.0,680.0,290.0,180.0,1110.0,4650.0,1180.0,50.0,11400.0,290.0,19640.0,1460.0,2300.0,2180.0,3160.0,1900.0,23620.0,4490.0,9260.0,8970.0,18610.0,5210.0,550.0,180.0,7680.0,480.0,1020.0,650.0,1420.0,4880.0,220.0,13090.0,14600.0,30.0,6470.0,2240.0,2325.0,2325.0,1130.0,810.0,6620.0,1700.0,110.0,650.0,1740.0,3000.0,3850.0,30.0,7780.0,4840.0,3470.0,150.0,14600.0,1470.0,1360.0,620.0,2270.0,3370.0,680.0,1390.0,200.0,770.0,2300.0,1760.0,5020.0,18050.0,10450.0,6300.0,18540.0,40540.0,13190.0,690.0,15320.0,850.0,3450.0,7290.0,540.0,14620.0,3910.0,340.0,5350.0,22490.0,90.0,3720.0,1070.0,3330.0,8250.0,22440.0,9560.0,1200.0,560.0,18020.0,1320.0,180.0,40.0,140.0,320.0,1360.0,510.0,1480.0,16350.0,490.0,7520.0,1090.0,1090.0,5080.0,3970.0,2900.0,13140.0,1600.0,16210.0,490.0,5540.0,16210.0,650.0,440.0,1150.0,26490.0,1200.0,18010.0,40.0,2380.0,860.0,70.0,2000.0,1260.0,1790.0,4580.0,44320.0,2550.0,630.0,22330.0,6930.0,2700.0,3300.0,2290.0,300.0,3290.0,270.0,16970.0,4080.0,1180.0,400.0,270.0,1780.0,960.0,560.0,2380.0,4130.0,80.0,13190.0,120.0,1220.0,7550.0,5710.0,290.0,4210.0,170.0,2120.0,4370.0,8460.0,960.0,1070.0,1780.0,50.0,2930.0,920.0,540.0,220.0,900.0,18640.0,1510.0,9000.0,7830.0,3130.0,3370.0,360.0,17080.0,2300.0,1410.0,490.0,22560.0,3590.0,6930.0,3750.0,1350.0,110.0,620.0,3470.0,680.0,110.0,1200.0,540.0,8040.0,3560.0,4740.0,760.0,290.0,8980.0,1390.0,560.0,590.0,90.0,1480.0,370.0,4140.0,12700.0,3770.0,3030.0,270.0,3530.0,5090.0,10310.0,70.0,300.0,20930.0,1590.0,1200.0,3290.0,3150.0,1730.0,1340.0,9070.0,38630.0,970.0,1100.0,1070.0,4770.0,3110.0,1130.0,1350.0,1900.0,10310.0,2020.0,12070.0,7520.0,300.0,7840.0,2320.0,70.0,620.0,2210.0,13620.0,3900.0,19960.0,6690.0,230.0,7180.0,8980.0,18710.0,3760.0,11260.0,2740.0,1680.0,4650.0,1290.0,4650.0,1340.0,250.0,1130.0,150.0,2630.0,1590.0,4360.0,2920.0,1600.0,240.0,400.0,1640.0,1920.0,1130.0,900.0,370.0,680.0,13140.0,9560.0,310.0,1990.0,290.0,1140.0,3620.0,260.0,910.0,1100.0,350.0,3350.0,380.0,620.0,2020.0,12070.0,1100.0,980.0,40540.0,2770.0,1730.0,1980.0,6210.0,3160.0,280.0,4580.0,5030.0,2140.0,21770.0,3350.0,3100.0,4870.0,580.0,430.0,1740.0,9680.0,220.0,40540.0,160.0,6630.0,8080.0,3040.0,1630.0,700.0,40860.0,50.0,420.0,45740.0,100.0,2700.0,13170.0,2610.0,23620.0,2040.0,140.0,1200.0,1990.0,4970.0,4140.0,4880.0,4360.0,400.0,2460.0,100.0,4610.0,2840.0,1060.0,46590.0,840.0,16970.0,6250.0,2910.0,870.0,19360.0,7520.0,3170.0,4180.0,1800.0,4260.0,46590.0,14300.0,8540.0,14130.0,370.0,1070.0,310.0,600.0,490.0,250.0,14160.0,190.0,10570.0,3290.0,2410.0,3130.0,2190.0,1200.0,5800.0,300.0,9580.0,1700.0,1650.0,380.0,1830.0,290.0,16990.0,1140.0,5220.0,700.0,22440.0,4110.0,2325.0,2110.0,1800.0,5000.0,910.0,4400.0,5950.0,1200.0,190.0,6710.0,6540.0,50.0,1530.0,50.0,1710.0,580.0,240.0,690.0,8970.0,6270.0,17930.0,2470.0,170.0,8260.0,8040.0,1680.0,1420.0,1210.0,18640.0,250.0,1700.0,1040.0,2340.0,90.0,3350.0,2000.0,4680.0,2640.0,11400.0,5780.0,450.0,2380.0,5630.0,4140.0,7180.0,4080.0,1730.0,18610.0,14160.0,1120.0,2330.0,520.0,4820.0,380.0,330.0,21790.0,4140.0,120.0,360.0,2810.0,760.0,80.0,14810.0,15710.0,20050.0,2530.0,2240.0,1130.0,4160.0,80.0,1340.0,800.0,660.0,6190.0,2900.0,13140.0,5900.0,8480.0,15340.0,320.0,2810.0,620.0,90.0,600.0,14130.0,220.0,1870.0,250.0,3560.0,990.0,4060.0,800.0,6400.0,600.0,1410.0,3510.0,960.0,2090.0,17110.0,970.0,520.0,510.0,5460.0,16420.0,10620.0,1990.0,1350.0,630.0,1000.0,190.0,2140.0,80.0,6210.0,2460.0,1090.0,130.0,140.0,2440.0,4230.0,1270.0,580.0,1360.0,4180.0,24770.0,5090.0,25360.0,550.0,1420.0,4650.0,1310.0,2070.0,1190.0,380.0,1360.0,380.0,670.0,4610.0,1270.0,4870.0,6710.0,19640.0,2870.0,990.0,1870.0,9710.0,27190.0,2780.0,23620.0,2950.0,4520.0,2710.0,5070.0,3350.0,310.0,580.0,410.0,670.0,11680.0,8650.0,140.0,2190.0,660.0,7340.0,970.0,1470.0,6190.0,230.0,7860.0,290.0,7840.0,9640.0,70.0,620.0,12070.0,2100.0,2330.0,340.0,1850.0,1600.0,1420.0,8480.0,1300.0,5650.0,1210.0,1290.0,320.0,7890.0,10620.0,2170.0,11260.0,3000.0,1980.0,990.0,1850.0,970.0,3210.0,100.0,14040.0,15050.0,8460.0,11470.0,810.0,420.0,2270.0,10690.0,3620.0,1860.0,1180.0,1420.0,20620.0,1940.0,1780.0,650.0,720.0,440.0,720.0,6470.0,210.0,300.0,11840.0,2440.0,6260.0,620.0,40.0,11260.0,15270.0,30.0,8550.0,1140.0,19960.0,360.0,4370.0,780.0,6860.0,16490.0,190.0,1600.0,2020.0,160.0,560.0,8460.0,1790.0,2890.0,7660.0,24000.0,8550.0,840.0,2100.0,4510.0,420.0,7240.0,15320.0,1730.0,2870.0,40540.0,150.0,260.0,900.0,1090.0,590.0,170.0,3290.0,20930.0,4880.0,420.0,4300.0,4230.0,4230.0,2540.0,2470.0,170.0,2960.0,14960.0,540.0,290.0,2200.0,1090.0,850.0,2060.0,2930.0,870.0,4450.0,450.0,3150.0,2050.0,570.0,590.0,4880.0,250.0,280.0,8140.0,5260.0,15320.0,350.0,27650.0,15140.0,590.0,330.0,1600.0,3350.0,4400.0,3340.0,1070.0,2140.0,9770.0,2890.0,2030.0,5890.0,9710.0,640.0,1870.0,2770.0,5380.0,1200.0,1520.0,2020.0,5840.0,590.0,2180.0,2950.0,30030.0,4420.0,2590.0,18050.0,11470.0,100.0,1130.0,14620.0,6970.0,430.0,3150.0,6860.0,2300.0,870.0,720.0,270.0,7680.0,2460.0,16570.0,250.0,210.0,50.0,990.0,490.0,19840.0,800.0,3300.0,5220.0,830.0,970.0,5290.0,350.0,4150.0,9910.0,5080.0,2470.0,3890.0,5980.0,80.0,270.0,4230.0,2870.0,16490.0,4370.0,2640.0,200.0,1540.0,350.0,150.0,20620.0,1640.0,2910.0,2460.0,16690.0,12920.0,18620.0,2210.0,8980.0,1070.0,7660.0,1640.0,14130.0,2100.0,2000.0,1850.0,17110.0,100.0,2700.0,80.0,760.0,710.0,40.0,1950.0,9430.0,20930.0,2840.0,3570.0,6270.0,540.0,6330.0,20260.0,800.0,16350.0,70.0,50.0,450.0,110.0,360.0,7660.0,3200.0,2270.0,60.0,90.0,6320.0,26450.0,9910.0,3780.0,26130.0,26990.0,1280.0,2710.0,2640.0,26490.0,7980.0,270.0,2110.0,35280.0,40.0,14300.0,1290.0,5330.0,16680.0,1270.0,2325.0,4450.0,6970.0,3170.0,1520.0,140.0,14300.0,170.0,1780.0,710.0,1340.0,1370.0,2190.0,17280.0,2090.0,840.0,7780.0,5100.0,10620.0,2230.0,630.0,5350.0,840.0,480.0,5220.0,9910.0,3300.0,2270.0,19360.0,1250.0,270.0,4260.0,1130.0,2320.0,2050.0,1970.0,1500.0,8240.0,16210.0,250.0,5290.0,5760.0,250.0,3100.0,3890.0,16990.0,1170.0,410.0,10450.0,240.0,5030.0,17410.0,6910.0,510.0,2000.0,1980.0,2710.0,5080.0,2380.0,190.0,1650.0,3020.0,140.0,5980.0,240.0,34050.0,190.0,7240.0,520.0,80.0,140.0,6920.0,340.0,1590.0,3520.0,4030.0,480.0,12870.0,1710.0,2240.0,2325.0,5900.0,140.0,5190.0,27530.0,1690.0,1390.0,1130.0,310.0,4820.0,2770.0,640.0,190.0,1150.0,9710.0,320.0,8990.0,960.0,17110.0,3370.0,240.0,11540.0,290.0,1060.0,3320.0,90.0,4650.0,4370.0,14960.0,180.0,2810.0,8040.0,560.0,6470.0,230.0,5900.0,2260.0,400.0,2540.0,590.0,4270.0,3470.0,17110.0,7980.0,1250.0,13080.0,1350.0,1910.0,1480.0,25360.0,120.0,3570.0,4400.0,800.0,3290.0,2870.0,10890.0,190.0,150.0,17930.0,9200.0,40.0,390.0,780.0,560.0,3290.0,46590.0,13080.0,3430.0,300.0,40.0,1110.0,330.0,600.0,11810.0,18650.0,1270.0,5150.0,330.0,16970.0,4210.0,2810.0,380.0,6890.0,680.0,9710.0,3230.0,1760.0,5080.0,3020.0,18160.0,760.0,110.0,7420.0,4610.0,1850.0,8220.0,1420.0,8650.0,2470.0,35280.0,440.0,50.0,150.0,180.0,10450.0,7290.0,50.0,90.0,70.0,2820.0,9910.0,1200.0,13750.0,9430.0,1200.0,2230.0,8140.0,50.0,90.0,700.0,4180.0,29190.0,1290.0,3580.0,220.0,150.0,330.0,110.0,7910.0,6360.0,4680.0,700.0,11260.0,3590.0,9910.0,4080.0,90.0,24000.0,310.0,22350.0,180.0,3620.0,1600.0,2900.0,4820.0,9990.0,1090.0,970.0,18660.0,900.0,8080.0,3240.0,2180.0,35280.0,610.0,1620.0,1620.0,20.0,1940.0,11680.0,10180.0,1130.0,7290.0,100.0,280.0,11840.0,2410.0,17340.0,770.0,5390.0,4180.0,3840.0,8460.0,990.0,670.0,13190.0,7860.0,27530.0,1270.0,610.0,16690.0,2390.0,1300.0,1600.0,14810.0,590.0,870.0,650.0,1090.0,390.0,3430.0,100.0,350.0,3270.0,3340.0,6970.0,1610.0,3330.0,1070.0,2020.0,540.0,2060.0,4360.0,3370.0,1140.0,26990.0,1200.0,410.0,10620.0,20.0,2020.0,2780.0,460.0,2290.0,290.0,5030.0,22490.0,210.0,350.0,540.0,2060.0,1100.0,860.0,80.0,3560.0,340.0,2240.0,260.0,330.0,3250.0,1710.0,360.0,960.0,580.0,100.0,17410.0,980.0,3030.0,70.0,3330.0,15170.0,6470.0,6710.0,2710.0,4450.0,1530.0,4260.0,340.0,770.0,22330.0,1100.0,4870.0,15430.0,450.0,1950.0,430.0,1260.0,16570.0,3150.0,1130.0,540.0,14960.0,15770.0,160.0,6710.0,60.0,6270.0,11540.0,15490.0,7910.0,180.0,5300.0,5330.0,210.0,2050.0,120.0,330.0,20620.0,3290.0,2325.0,10170.0,9910.0,1650.0,150.0,6540.0,3230.0,2710.0,10890.0,10950.0,14570.0,3750.0,29190.0,310.0,300.0,530.0,2900.0,12540.0,3270.0,580.0,410.0,1480.0,80.0,16970.0,15320.0,1130.0,20.0,1100.0,3640.0,4140.0,1430.0,2290.0,9560.0,330.0,8090.0,340.0,1350.0,29190.0,260.0,150.0,2780.0,670.0,140.0,2410.0,990.0,2090.0,7890.0,540.0,3000.0,110.0,1850.0,9260.0,1560.0,1480.0,27650.0,1700.0,450.0,2870.0,1640.0,190.0,960.0,5080.0,110.0,2100.0,1800.0,20260.0,2870.0,6320.0,13190.0,6900.0,250.0,200.0,4030.0,1040.0,4150.0,3210.0,19370.0,16350.0,2030.0,900.0,5190.0,310.0,14600.0,520.0,16990.0,13020.0,1300.0,3490.0,2330.0,6540.0,5340.0,24770.0,6360.0,3920.0,340.0],\"y\":[4116,2277,8336,10274,4294,3993,15700,4951,11939,5994,4976,2824,7268,8282,12832,11287,7850,4967,10017,7654,10737,10449,4883,3031,9093,10242,5994,6377,5011,4679,6110,6034,6986,3904,5780,8486,7409,3550,6042,7707,6022,7448,9451,5767,7460,3986,6304,11279,8415,4911,4953,6447,9344,7305,7011,8684,5666,7113,4713,5741,4120,8394,5024,6239,9383,4637,9604,6483,8349,7134,9533,12318,6711,6592,5286,4233,9856,11306,9137,5543,3360,5909,2864,13423,9703,3591,7099,12063,6799,6779,3859,6793,3449,11104,8347,7983,6093,10454,15852,4516,20430,6373,3413,2467,7460,3383,9918,8284,5706,18877,4898,5605,1853,4909,6924,9283,13993,5199,6000,16417,5998,13679,9837,13380,6870,9417,12441,9823,14061,7050,5711,3483,4564,7749,10530,6625,5056,5570,1553,5663,7884,3565,4101,5834,8713,4455,4496,8198,4654,4999,4708,3313,9819,6631,5266,5995,6249,7332,11869,7330,8779,17400,9072,3550,6000,8589,8682,3268,5711,6955,5550,7726,6068,4731,2304,5992,8682,8789,4219,5826,5644,10509,7630,4452,4147,9319,5697,8660,3877,4380,6032,6390,5166,6947,10205,11239,7732,2753,5590,10729,8883,5404,5393,8468,5567,4983,7376,7128,3967,6234,9848,7651,7384,4825,5509,7638,5046,3620,5257,3616,10005,11033,21991,7270,7755,3041,7381,3878,7719,7428,6040,7034,7119,5567,5308,4597,8133,17559,7822,8549,5077,9255,5318,6806,12388,6951,4338,5662,5012,10298,6426,8756,2036,5363,6577,6234,6128,8229,4314,7570,10026,4937,5503,9828,8870,6291,5018,7300,6350,5283,7158,5818,7308,9464,4764,4244,5397,8048,7272,4836,10219,4648,8461,9223,4551,12069,7274,7007,5232,5105,5253,10878,8942,5666,9834,4504,4387,6045,8172,3019,11948,5419,9790,7301,3663,4527,9531,14261,5579,5343,11055,9926,6810,6625,8446,4031,8608,7922,11174,4036,8364,5812,4294,2448,6015,8637,6217,3626,6277,14884,4452,6974,4965,4631,6956,7997,6086,4881,2394,5497,11388,8650,5800,7210,2309,6759,4416,6155,7085,5855,4773,7948,8433,4557,6569,5473,11770,4775,3878,5947,5012,10378,7351,4048,6856,7176,6324,8481,4560,7648,6612,9229,6994,3840,5463,6279,8874,4375,9214,5860,7560,5076,14434,6169,6864,6328,5940,4457,5774,10511,10837,3681,4871,9030,5207,6717,7867,5577,9542,6636,5757,3226,7715,6351,9816,5685,3515,5793,2840,5592,4285,5180,10013,7243,5148,7014,4353,8088,3334,4982,5964,6552,7479,5282,5432,9077,3193,6491,11785,11613,6322,9149,5939,9874,6446,8315,8412,7856,3545,4260,4823,15870,7431,6123,5027,2678,4946,6874,5632,7368,8699,6365,4984,2214,6271,5929,5853,5667,6500,5594,4310,10567,11215,2032,4624,8958,4391,5778,8936,7970,5483,4599,5915,3118,5922,3776,7392,11372,4388,6187,6253,4015,4391,12350,2852,6066,3578,2087,6804,6461,4863,5833,14260,3719,7111,9108,4014,8858,12573,5573,5318,9257,6780,6557,10349,6363,5172,5341,3838,7734,6670,3467,6210,14658,3170,5776,6511,4170,3842,5589,7430,5404,14477,4264,8431,4511,5911,11362,4868,7876,6146,15428,8456,4269,7794,15613,4010,4841,3926,4927,7005,5890,9538,20458,9416,5105,2714,5973,5775,9708,4970,3684,6141,6650,3184,5353,7146,1148,5006,5386,6581,6377,5123,6947,3072,3636,6197,6039,16953,4057,10190,5395,10809,7179,4242,5115,6734,9047,12293,6135,5342,9714,7923,4469,8483,7465,4547,3191,5420,3123,10107,9481,7003,11953,4630,4954,8505,3752,6200,4051,19051,3202,8677,3909,8847,9396,6602,6857,10249,11416,12419,8127,8985,5147,8285,23839,5784,8278,5746,8905,8460,10254,6998,3655,5520,5730,6211,5013,7690,9891,7546,4414,3748,4923,3970,6565,8877,8789,10216,5088,5670,8451,7526,5634,7985,17176,3515,6773,15949,3810,3031,4423,6480,9147,10179,9898,7280,3718,3474,8820,9093,4416,7698,6152,4166,6563,3857,5230,6636,9525,7003,7604,8047,4660,5774,11530,5934,4968,6568,4772,4494,7589,5898,3836,4443,4904,6570,3891,3897,6192,10934,4750,7627,3404,11761,8618,6293,2320,7358,8354,9270,3138,6096,5716,7276,2982,9229,4094,12902,7843,5339,6389,9551,10858,7282,6264,8462,6022,5404,4263,10104,11339,12048,6402,4565,6302,5337,3547,9257,12805,4112,11926,4836,7150,7112,7438,10179,7988,19181,5787,4783,12554,4607,11366,7595,6261,9200,8420,9131,6541,9625,5838,9825,7326,17530,6101,5799,7390,3885,6293,2039,15182,12572,6063,9217,8421,5315,5996,8616,4236,3260,3729,5278,10992,4187,7447,8026,4089,6809,7419,3152,2565,6950,4977,9230,16843,4775,5307,5391,11070,4992,15257,4573,8903,12484,1374,9644,7170,5071,6687,5152,12790,4557,6671,5510,4234,4929,6221,8740,9406,21284,7194,6599,12556,3794,5833,4597,8177,10124,5468,18157,10064,6624,9515,10473,24198,9528,3501,5215,10795,6856,6017,7284,6143,4920,10520,5604,3846,7405,9642,4182,4817,6482,5181,2712,4277,6977,3976,4473,3136,3345,6126,5896,6935,5016,7385,6375,8745,6411,8390,7129,8215,6400,3921,3565,5485,7635,4290,4954,5668,5922,5870,6071,4017,5113,6850,9362,8758,5199,6148,9979,9509,3877,4087,2907,9155,5047,5666,6887,7488,7311,6613,2306,9936,14806,7699,4712,4405,5695,6363,5184,8792,11855,10319,3133,4081,6953,11103,3170,8970,5385,6805,10077,17331,4120,12571,8409,12970,8007,12722,8415,8011,6144,6512,6445,8215,11240,8399,4287,6004,7257,3881,6583,3678,4851,4425,6480,6234,8296,5336,4770,4989,8302,7753,4079,12585,5187,6815,2987,4461,4067,5549,9080,10685,8301,12100,5111,6269,8772,2268,5010,7746,7142,3733,7241,5918,16365,5182,10125,13885,5800,9870,2875,8314,6711,10921,4386,2821,10880,10982,6861,2610,7532,21514,4186,7147,3028,13391,7184,3730,7317,6098,18844,7077,5514,7464,5824,3994,16773,25119,4707,6139,2892,4851,10008,13694,4382,4128,4991,6379,13833,7550,5434,10421,7070,3759,2873,13253,10885,15462,7504,4108,8094,6846,5807,7357,5214,7408,4672,7608,6455,9657,6700,7665,6980,10474,9883,5211,8725,8410,3660,10552,4839,5274,2839,10601,3437,11691,6809,1285,4604,4582,6338,18591,4993,7889,6728,11131,3431,6065,5114,9737,9640,6014,8673,7206,4441,7525,11520,4493,6650,7553,5310,1307,5743,7817,9383,4926,5104,5860,12380,8611,4961,6024,4310,14260,4838,5831,5591,5313,5070,4095,9941,8029,9772,7085,6325,5683,7631,16074,6104,5267,6090,8424,2993,7633,6065,7137,2455,3061,5789,10877,9097,4247,3466,4807,5497,6749,3630,9065,8253,4609,6063,3195,5377,8806,4871,4306,7027,5002,6473,5069,7001,11730,5818,6121,6823,5411,5517,5977,4373,3140,3930,11976,8642,4052,5698,5869,8828,6765,9582,6662,17525,5097,9154,8354,3439,5669,4230,2016,5962,3665,12806,6929,3140,1736,7023,7568,5962,4866,8503,7531,6006,9940,4732,5742,8343,16051,5171,8605,5070,6672,10148,6347,3579,6714,4861,3477,4774,8813,3245,7216,8321,7727,5177,4871,3757,4411,5629,4911,4011,4436,4827,6738,5324,5020,5848,3131,5198,7505,9808,8320,2919,5176,8974,11109,6056,7080,5529,11346,5215,4345,2976,4702,5038,5562,14252,6005,5695,5232,11683,8486,4454,4569,6324,3644,6838,6346,7268,6325,7271,14820,5970,4730,5460,12089,9538,9530,4312,8326,12360,5149,3534,6029,12838,4827,5624,8644,5953,5791,9265,6506,8110,7418,5884,2386,5813,6970,4697,6883,6080,9212,5641,5276,4589,3253,5659,4396,4177,7706,4180,6696,4822,3054,5508,9535,9541,13131,11467,5524,3455,8218,5397,4152,5103,13011,9492,9608,5102,11327,5227,6330,7131,12152,8310,7310,5084,5687,6268,5342,8801,5591,10153,11393,7635,7049,6564,10393,6267,7601,3760,5044,9320,7383,7034,7721,3886,4900,5171,4940,5584,4581,5321,3871,4417,7505,6124,5633,8516,6196,8678,4767,3706,3877,4607,6974,3872,7057,6903,2307,7758,8026,6467,6468,4887,5246,6134,7630,6175,10428,3817,8230,6582,5742,5733,8727,7628,6835,6905,6621,7066,10597,7088,4099,9359,12134,9704,8231,6768,9132,4894,6299,5610,6122,4470,8353,3828,7152,4453,13237,7889,8311,17689,10181,5732,5753,4382,5616,7770,3122,5618,4865,3066,4173,10399,10129,10259,5669,4894,4782,3706,10980,8861,4130,5305,11945,3120,5732,6970,5420,8535,3779,7117,3698,8965,11246,6148,8592,7675,9410,5573,5796,4547,5479,8779,10450,6130,5431,6377,3860,3859,8538,13875,6490,13194,3228,5833,10954,7680,8573,4771,10001,5997,8527,3255,7566,6714,6700,12727,7037,5665,3108,12022,5591,3529,12224,4642,4780,5569,7116,10633,8563,6160,3538,4682,9335,6875,14843,10133,5702,4605,3937,8924,24440,5450,17613,7706,5388,6046,10015,9459,11127,10052,4032,7774,9619,3751,6180,2904,11649,5332,3629,5857,9604,5796,5278,4625,5042,3825,8755,5428,7121,8315,3348,4529,3270,5505,9461,6646,5994,11980,5479,3903,9661,3387,8064,8201,4881,5683,7516,11728,5466,5788,8657,6019,6823,7593,7743,10643,7808,1659,3272,9047,4149,8964,6182,8104,8071,11440,7403,5198,5680,6124,9688,8040,7133,6008,6906,4784,5593,4590,3973,9658,8406,5528,13812,5301,6683,5430,4650,6543,16597,2566,6405,7586,3599,1976,10857,9052,9034,2919,5376,7088,3135,6470,6202,5145,21127,5833,7690,12252,5819,4195,5203,7511,5731,3715,9895,5025,3612,8975,3869,13601,6721,6594,7521,2530,4225,9122,5306,6480,4056,7704,13265,8152,5264,4081,3959,7286,15266,4573,3860,6073,6115,5731,10696,5703,6808,5442,9966,9467,3042,4159,8618,5763,5488,7474,6352,6553,3988,5656,2072,9053,4653,6205,4377,19246,6702,3201,8278,6922,5763,12540,4521,17607,7340,7117,10663,6153,11962,6893,8930,6309,10442,8028,3975,1812,6685,8320,3536,16126,7284,4729,7584,5077,5842,4673,9312,4673,6096,2062,9552,9772,5170,8339,8438,8345,11745,5275,5991,9119,5708,9746,5055,5518,16052,2482,3013,9345,9868,4894,4725,4562,5910,5846,7386,11844,4287,4908,6860,7538,9195,4498,3118,4693,9524,4734,5630,6437,5867,4877,5426,5729,5340,11388,3805,6544,4307,7114,14069,8936,2476,4014,3965,5104,9577,8458,5244,6635,1674,9621,9463,12926,5672,5317,5842,7744,9159,5513,6010,5361,9848,4980,2211,4903,3241,2771,3568,6739,9193,3714,3415,2531,9322,7757,6141,7738,2041,10776,7960,10327,3404,7014,7522,3859,13540,4042,8155,8128,3498,4888,3256,6450,5874,11864,7318,6583,5271,7766,6650,9040,7688,7677,4044,5337,4962,5637,10622,8772,7823,9124,2229,2789,6926,11360,3952,10815,3158,4900,4943,7243,3874,7953,8599,14284,5651,9355,12888,10183,7090,3743,2087,6106,9538,5133,4722,5540,7096,7688,11082,16386,8665,3757,7288,3961,5709,2104,7355,7605,6373,4379,4236,6275,8309,7256,4380,4476,4932,3215,3766,6956,5670,10289,4091,9271,5454,10724,5537,6316,7234,9028,7462,2611,5774,4785,7790,5307,3404,3931,8823,7025,8784,7209,7359,4154,4954,4591,4437,7940,5441,6673,2943,11973,5653,6048,6826,3520,10258,8687,7813,4978,8930,5924,5147,2588,4625,4484,5183,6447,13272,9103,6094,10682,4739,6623,4068,3705,8495,1426,12782,3012,18929,2213,6129,4704,1756,7285,2724,3961,9202,5610,10788,5964,3799,3984,12586,3858,10523,5128,5968,7290,2354,4474,9595,4927,6644,8151,4489,6023,3596,3074,7719,6107,4998,4668,18609,1342,5388,4026,6626,6205,5200,4319,3913,6201,13936,6550,8506,4963,7532,5821,4657,2410,2482,6156,3820,8865,10734,2833,5795,9610,13494,5527,7301,8933,5083,14601,9580,8022,6581,13838,5537,6515,5143,11115,3298,8224,8324,5046,5136,6589,4861,7470,4831,4659,4411,3082,9865,8483,5309,12379,5925,5561,8999,5109,2675,8176,6037,5376,5583,9203,2587,3939,5682,8831,8137,7291,5206,8889,6475,5324,4134,7499,5125,6461,4679,11383,4235,11098,5865,6895,7234,6088,10547,13577,7527,10653,6539,5868,6931,4097,7301,3667,10014,5209,2762,8764,10457,10656,7592,5916,16496,8709,10903,3064,4105,9036,5918,7762,4792,5285,12315,10737,5573,7070,4229,6403,5621,3066,10954,3350,10803,3150,6994,3090,4609,6818,4504,11012,7330,6651,6667,6816,7945,8393,7086,4752,6241,7574,4463,7458,6420,12943,6278,7487,7545,6563,6148,5151,4823,14771,3577,10983,8234,10993,3900,4909,5763,6316,15471,4343,8027,8158,3798,7056,5585,4835,5315,4727,2956,4744,11056,6768,6027,3894,4432,6279,7995,9856,8655,4364,5578,8401,7889,4985,2664,8816,5239,6094,7496,4217,5655,10151,25402,2989,12310,7884,10036,18298,6418,6857,4232,10997,5890,6993,4614,5038,4261,7282,4814,9232,6657,4018,10016,8970,6467,8079,10838,5286,6745,4685,12883,4312,6918,14980,8862,6133,6313,12170,6167,17816,7506,7527,8959,6030,5942,4087,3253,5047,6959,3489,7520,23991,9241,8526,3711,6766,6140,6772,4007,2553,20771,3868,13941,6912,4857,3125,8030,4195,6593,5979,3765,6986,6621,3642,8978,2601,6248,4362,6989,2893,4771,4568,6018,6942,11382,7652,5265,6700,7727,3476,11917,6286,6552,4845,5931,2170,4553,2015,9043,5959,4297,4761,10385,11461,6497,3807,6992,11217,10568,3527,5262,6520,5677,3828,6315,5172,4495,13700,11395,2491,6101,7832,4025,7273,4267,3395,7285,4445,5161,4868,4437,6453,3981,3805,5940,10195,5070,7599,4158,3500,10809,4871,9762,7178,4666,6230,6449,9478,9623,10091,16428,3125,5090,2798,6745,3595,8081,6843,5494,2856,10073,5593,4323,3354,5036,2035,6607,5324,9671,3266,15997,14345,4153,5720,5355,6619,8556,4869,5476,11748,5691,14112,8384,3456,8055,6789,3158,7190,6540,6515,6309,13063,7969,6723,11970,4479,8140,3838,4858,7320,5742,7895,8754,12885,6185,3639,6699,4246,6531,7836,7040,14822,6040,8991,18356,6672,8633,3569,5932,8217,2841,8710,1882,5681,9311,7953,5466,6364,5581,6404,10320,9244,8044,6714,4639,6049,6024,8457,3901,11121,6669,3976,3805,7873,5591,4144,5090,4632,4452,11117,6954,7247,3561,5857,9377,6667,7825,9092,12468,8585,7533,3614,9360,5673,9623,9805,3135,4414,4740,9414,3783,5538,6285,6383,6340,2931,5503,8099,14552,11980,7529,8648,6969,3794,7260,6650,6700,8792,4685,5851,4285,6174,4805,6599,9097,6969,3008,5536,6612,11005,9636,3897,4600,7568,8131,11673,4035,10625,9060,5588,3623,2466,10830,10283,4987,4034,9814,5231,6766,7151,5342,6329,5444,12253,3415,8474,5653,8220,6961,8382,10409,5382,3508,5516,6035,5136,5147,4620,5029,12047,6208,10497,7949,8064,4304,6237,21629,6909,7760,4348,10136,5732,4845,6201,7034,6579,3382,6032,5651,14117,10312,5864,5001,7975,5535,5764,5420,4980,5776,5541,4490,10813,3320,6625,7001,7461,3631,5981,4933,7669,5072,6272,4871,7057,8210,7708,7352,9504,9899,4290,6522,7553,7140,4173,7938,5766,10651,4355,9564,5043,7320,15890,7595,6302,5044,8542,10225,4209,8306,7100,4231,8265,4449,10644,4022,5008,3711,5849,2973,7528,9578,4483,10663,6898,4828,10034,5168,12695,4197,6732,6627,4277,3403,6897,9159,3889,6064,4585,8211,8554,12834,5423,1788,6457,4038,6565,10352,4906,5558,5726,4129,6714,6595,13212,14533,11565,7788,6602,9626,6528,5874,5976,6446,11877,2649,3243,6994,7710,6526,8974,8702,7158,7720,4402,6124,10074,6594,4348,12024,5766,2872,6762,8726,11885,9021,3838,7750,8954,2838,9143,9426,4758,7415,7343,6310,13659,4529,5118,6038,8234,4123,6790,7976,4722,6844,3958,6259,3782,4388,3743,5258,8670,5353,4088,7958,5397,3216,5436,7326,6392,6653,8985,4788,6033,6037,4500,6820,5447,4392,12343,4048,4248,3223,4345,10888,13203,6342,5223,5273,5503,7046,6009,6338,7266,4886,4939,3554,2901,6221,3305,10827,7893,6408,5475,1902,2290,7158,8712,4389,6061,5267,21312,6139,8991,9698,4054,7246,3689,8686,3961,9024,8705,9372,11618,9130,5494,10993,7222,8658,15959,6379,7301,9215,5225,9690,5380,5999,4316,6898,3734,10884,7606,9062,6354,6420,8715,10916,7808,8529,10312,3898,8148,9947,4375,20786,9632,3689,1586,5254,5837,4243,7336,14558,6518,6316,2959,3721,5273,6004,8248,8164,6997,2757,2138,7017,4355,14829,6956,2350,7812,4114,6475,5974,6774,5228,9177,5699,3629,5373,7245,10062,3633,2436,7863,5297,12588,3233,11235,8314,8453,5095,7944,5259,3754,6234,4441,4287,5792,6213,3094,6495,2055,6014,5516,7085,9129,5073,5427,6849,6969,3714,7639,7348,9779,7357,6331,5281,11901,3986,6246,7082,12757,9627,4379,8190,7464,5886,4674,6321,7134,5617,3518,3156,7188,9675,8239,9806,15242,6551,4695,5181,4798,5546,11302,4219,8594,4865,4758,10209,4698,7290,8548,7532,3457,2536,6302,7628,3076,8559,4251,7483,7317,7796,4529,4106,3172,6068,4656,9083,9839,8048,8823,8729,9029,6804,5006,16865,11463,7703,5059,7524,3867,4745,5449,6872,6376,11804,4446,4996,5992,15351,6477,3183,5397,3513,7222,3328,6837,4867,5697,8129,6276,2195,7502,9134,6865,4633,7082,3947,6908,15207,6115,6101,7618,6278,3828,7476,7861,5580,1353,7324,12694,6883,6721,5111,5004,2734,9066,4620,3276,5228,7306,6517,4823,6642,5930,6481,21171,6068,4701,2151,5599,6094,6690,3152,11286,3850,6520,10695,5664,10670,10691,7144,3971,8244,8654,3318,4389,8218,5509,3593,9552,2748,4760,4889,5889,4571,3303,5990,5319,5348,4204,9124,10779,3795,6198,6459,9667,8905,4244,9680,2982,5259,8994,7603,7645,8609,6615,7426,5459,12974,5793,4378,4430,9478,6498,13150,8109,6104,3705,3972,10397,8917,13538,5932,8850,5722,7998,3809,4561,16459,6179,3499,8059,9454,5261,6087,4736,12315,10580,6563,7182,10455,5460,4946,5322,7155,6945,9569,3898,8345,6334,5564,7519,3747,2812,7327,8810,8702,4463,7620,4755,6311,2304,3517,10474,1749,5081,5361,5147,8241,7961,3959,6129,8247,6238,6658,2908,7290,4628,4666,7399,3658,6428,6616,2953,4997,12954,5618,3779,6256,8995,6456,6774,4332,3646,5742,11902,5704,8155,5706,8792,6048,3984,4881,6748,5421,5647,7832,4608,14513,6071,7058,8418,5697,4378,2784,6595,3946,7195,6520,11023,4225,4086,6756,4620,8039,5356,9095,6317,2897,4640,4462,9657,5555,13307,4001,5496,5665,5290,6882,8486,3043,2961,2739,8303,4520,8095,3108,7072,3536,7226,8203,7503,11526,5788,8448,7541,6041,6763,3449,6744,4864,4346,15117,5280,3880,4715,1772,3563,4211,5966,13845,9429,9596,3201,6976,14050,7245,4650,9048,7171,6958,5109,4276,9940,5641,4159,2366,4714,4292,8039,11385,9218,5228,5527,5181,4478,4890,7807,8065,4290,7217,8028,12952,2307,8808,2586,8346,7078,6877,5698,5278,3430,4845,5782,5413,3487,3443,4640,8522,7390,7830,8339,3366,6559,4417,4581,4585,4527,3837,6662,6912,5685,4897,5812,6667,5660,4976,5601,8308,11910,3417,2413,3028,5090,2762,3226,6375,6658,6824,8580,6424,6646,7722,6166,13607,4663,9795,8093,4526,5909,4784,5148,8160,3685,13289,12577,8097,6543,4972,7563,3051,4559,7574,5248,6546,10610,8407,5172,5721,6344,12192,4214,4556,2248,6100,5438,3035,7465,5707,8547,3601,5221,6458,6356,3474,6101,8166,8729,6908,14642,5847,5372,7652,5980,6967,7898,5558,9469,4745,10274,5610,9722,17752,4584,5577,13983,2412,3345,7830,4997,5151,4924,5488,7657,17652,7148,14951,6189,8698,5045,8220,7707,20873,4508,8367,2012,7401,6539,3410,5524,6249,8085,2196,6660,5181,10231,2676,8645,7682,13414,6057,3124,3187,13874,7063,3799,10010,2599,5174,6764,9063,6798,8281,6963,7667,6220,9656,10035,13568,6265,5465,8528,6833,8536,10016,9706,9273,2200,5721,7058,17083,3517,6410,7338,11784,5631,4995,5218,4842,8447,6467,5708,6292,11052,3892,10030,3096,3551,12923,5056,10136,11893,7499,14534,10071,8321,5480,3824,7162,13603,1399,5209,8901,6666,4858,11917,5974,15184,4808,4430,5960,8824,3429,21718,5555,6288,4176,6616,5977,5773,3614,9197,7607,5576,2566,8533,5796,13766,5083,8370,9445,7350,5908,6534,5068,7026,5207,6202,10246,6817,11444,8187,8094,4564,5289,9336,6716,4126,8883,5164,10836,3689,6542,6149,4648,5228,6417,4558,8069,5253,3283,9296,5374,6680,4550,6148,5292,4922,12881,8136,6694,3227,8364,5988,5583,10685,6833,5171,5620,7201,3274,6738,13353,4008,6604,5888,10516,4605,4145,5345,5075,8484,5791,7038,5397,7003,4893,8305,9318,3695,7365,5985,7586,3955,4229,6436,6483,6341,8553,5521,19165,4872,5354,10058,5689,6886,4766,2937,9708,8549,4763,17478,5448,5938,6865,4738,6671,12919,3919,6274,3719,7652,11141,5556,11457,21571,6704,7886,6692,3675,7913,3129,7020,4883,4761,11010,4975,5875,4625,4556,17981,5436,12323,4703,4210,4505,2843,7552,8865,8164,6200,5382,5093,7098,10513,6168,19430,7178,5957,5832,3923,6402,3918,5680,5498,7168,10416,2296,5885,4579,5440,13490,4486,5740,8687,5086,4158,4932,4420,3768,6444,7170,7079,12404,11384,7593,4334,15251,4693,5405,4706,8256,1788,7121,4675,6651,7277,4467,6863,5385,11991,4543,7529,10961,4384,12658,7485,10896,5572,7129,4126,2831,7026,7062,5180,11068,3972,7108,15459,2589,9775,4842,8744,3397,8200,6597,10681,6376,7109,8936,11813,9127,7213,6582,4351,4794,6693,20461,8062,9980,5885,7412,6284,5475,5243,7194,5925,4165,7337,12709,5943,10943,6102,7352,5784,7220,7267,4045,5557,6053,7890,3536,8471,14386,6235,2820,8081,3887,12070,5407,6766,10079,6484,4172,4140,9296,1451,7374,8873,6021,6667,6477,7525,7735,7026,6457,5917,13776,4691,4638,7827,4920,11719,3653,4343,5131,4581,3689,6375,5267,9455,11520,7149,8482,4584,7272,11494,5661,3816,6126,4062,6137,8321,6032,4703,5924,7479,6955,6159,8955,4672,4264,3810,9002,3567,10553,2703,2901,4783,8934,19916,9856,4265,6018,8115,6685,4730,7764,7536,3433,11462,6285,7055,6514,4073,2985,3697,6715,11163,5826,2363,5258,4021,6266,8983,5356,4056,8519,5667,6972,13018,2745,9061,7053,9516,10023,5846,4699,7771,2726,2910,4484,3009,5239,3368,6202,2393,8936,7221,5977,5480,4415,5308,11749,7570,13034,4500,5034,12499,3308,8282,7640,9917,9255,6260,5566,9117,6086,3975,10898,4087,5066,5959,8087,6661,5192,11225,2873,5961,8435,3756,7097,3145,24396,5735,4719,6142,4802,4707,14893,5859,10044,6166,6032,4407,7875,4451,7955,5469,9100,5118,8766,1592,4194,5755,5817,9917,5248,6068,4934,9375,4960,4045,6030,6819,4734,12755,7641,5561,5212,6189,2534,4974,8990,5763,10692,5625,8761,5749,2174,2063,4079,7461,6818,6392,3859,10436,17326,7204,7561,8860,4304,8706,2986,5665,5249,5654,6340,4703,4041,5104,9950,8015,6321,10378,6068,11370,8534,7707,6166,5056,6921,5611,4022,7887,5935,11123,5602,2804,6880,4178,5337,8887,8230,5349,8639,6936,6957,3406,7889,9941,8077,7755,5330,7136,5663,3582,17375,3394,4581,4053,5251,7416,9080,6529,7221,3767,5638,5094,13976,6489,6616,7426,6784,8237,3947,8271,6044,6784,6939,4887,4244,5105,4926,6931,6055,6456,4506,5089,7898,3901,7689,13189,10110,5103,3936,4735,9068,6011,4936,6468,7336,7455,8659,3223,5174,3333,4445,7774,8080,5605,5978,13805,2503,4264,9066,11457,13902,9169,6180,9505,6021,10768,18690,6236,10763,6303,8118,7401,9379,4858,6789,3027,4977,7031,5614,4804,7050,9587,4055,5642,7350,5366,2869,4774,6255,2413,8183,5889,7708,8137,4860,4736,3372,6254,5125,7655,12348,8056,2761,9652,4713,5299,10469,6452,8151,7074,9461,3970,7074,14329,4882,6470,4981,4431,6046,5571,4765,5749,4487,6350,5992,5896,12818,12856,5091,5971,9102,8466,6546,14829,3954,6610,4582,4019,9903,5509,6784,5248,6766,6236,4254,11072,5752,4411,4926,8900,4756,2661,5616,14533,4658,6171,6497,7846,4052,7907,4570,8444,8384,8607,5605,3261,3908,3883,7972,3500,8168,5588,6503,4827,9159,4625,5001,6604,10403,3450,4660,9460,5602,7495,5167,3423,5925,6026,8785,6801,6110,5546,4488,7953,8800,10734,8091,9042,10417,4216,4907,3258,6658,15002,21062,12759,13952,5337,8393,4114,2610,7037,8406,3982,5993,11402,19144,5352,4590,19314,5710,6798,8106,4711,8000,5287,7175,8873,7412,8205,5453,7908,8110,3870,4957,6282,5476,7188,8327,5840,6068,5146,5376,3685,5049,3956,6665,2638,8469,5875,4041,9389,4576,9451,1704,11779,6952,7986,10595,10384,8307,3661,4284,9338,2419,2211,4472,6257,6539,7873,9681,11737,9996,6272,18470,2780,6798,10859,11020,4372,8145,7301,4118,12622,9307,4471,6798,4025,10629,8200,4302,3006,6771,4710,6437,10058,5434,7221,7566,5895,6986,4809,6052,4367,5562,10987,8307,5833,21497,5373,10351,10993,5654,9086,7097,6630,3098,5764,3546,8246,15339,11358,4569,7572,6699,3401,8245,4553,6815,8572,4942,4109,4655,13050,6334,5460,4928,5241,5540,4510,7348,4334,3042,8244,10773,5636,7211,7629,5554,6457,15985,13470,3543,4303,4551,9389,10742,4630,3153,3948,8521,6182,5886,5903,7179,6928,5810,3098,3807,3435,7365,5056,7243,5778,6033,16819,3346,7088,6492,4957,4570,6583,3970,4911,3470,3475,5085,3624,9146,11204,4059,6780,2376,11359,12715,4799,6442,3284,9952,18784,9208,11226,5840,7208,5157,5122,3272,3643,6050,16779,12508,8652,8033,4860,4372,3453,7926,7639,5003,3067,6316,9321,3757,9851,3560,5690,8761,8181,2138,4457,10147,9044,3592,4599,2602,14458,6562,2955,5962,5831,5125,11248,5798,12603,6850,7613,14689,6281,5317,4649,5950,7986,6894,2545,7011,12284,7539,6079,8923,3669,2410,8541,8128,4467,1428,9077,4380,4113,4318,6433,7416,9192,3108,11992,5754,3500,3562,5161,5631,6640,15370,5908,5645,8469,7056,4099,1336,7512,3473,5151,12899,6515,9173,6866,7999,6374,3410,3785,6967,4569,3437,3823,12584,7837,6338,9712,7438,9279,4895,4739,3612,8051,8103,8771,7254,6774,2369,8176,6178,7617,7802,12259,5383,4977,5463,3932,6309,5139,14085,6561,7899,26167,8790,22706,3075,6608,8087,12241,5627,7146,4146,5836,4614,6085,9421,5569,6078,5668,5676,4880,4521,7348,10513,9185,11158,8889,8760,5870,6175,17348,11523,11307,2455,5017,6651,5779,8666,13844,5086,14652,8471,5734,7786,4369,4738,8513,5224,5664,5755,10367,5628,6282,21098,10098,5903,4568,6831,5863,5870,9412,12982,5872,4913,9903,4132,5577,8831,3150,10405,3823,10903,3950,4944,15540,4143,5475,4623,5151,6841,11753,6374,3045,4450,4590,3289,6500,6036,6680,6361,6413,7139,5048,4945,9451,5103,4936,7073,9589,6183,8060,11043,3999,7438,3242,17869,8713,6233,6775,8430,8326,11022,3768,4251,6715,6434,6119,9600,9787,4510,11960,5638,10836,8632,5665,6618,12230,5550,13324,5428,5474,7311,7382,4201,6657,3327,6479,9958,7814,5130,7159,9272,4059,5213,6604,5642,6537,11336,5414,4902,8960,3705,4081,6577,7145,10786,2202,7125,5984,9787,5407,4039,4156,4626,3298,7499,13582,7543,6393,6022,6619,15694,7392,8604,5834,6049,3364,5435,11616,9120,3978,3488,7522,12481,3446,3827,10268,5808,6318,6688,4382,6289,4441,3435,5876,3686,6025,4499,4431,3377,3955,15081,10658,7875,8256,8647,8083,17012,7197,3141,4718,7538,6622,13852,6031,11502,4573,4843,4868,8930,5748,6448,3502,10687,4259,6612,7183,11954,8433,8949,4844,10663,5268,7800,12077,7195,3317,4883,10120,7879,4708,5109,4091,4577,5824,6426,3413,4575,2831,4849,13592,9009,4479,5466,7006,4476,4923,6685,8140,8003,6643,8196,4871,6568,8565,6702,7618,13062,6477,7520,10029,2842,4322,3675,12999,7078,4375,8808,8194,5526,4715,5940,13268,19932,8960,7499,7200,4519,5842,2644,9696,5433,7561,4787,6074,9645,4547,11277,5952,5006,7725,7546,5292,3423,6259,4941,6179,6581,5041,12375,7787,6839,5489,3548,9889,2901,4765,6482,3465,4626,8953,7311,5916,7294,10553,4453,4140,4915,4180,4332,5021,5401,5672,7696,5515,4854,9887,3213,8636,11529,6065,9702,12588,6971,6665,6971,3866,6943,4227,14091,2656,6894,4762,2538,1895,10770,3750,4790,9584,7253,5129,8646,5268,4127,5722,6635,10331,6515,5670,20739,4794,5776,9513,2494,8240,5882,4716,6091,6576,6218,6870,8719,7718,4637,2387,4721,6453,4336,5555,9765,6244,8535,4526,9190,13417,4100,3034,5529,5805,16680,2611,4931,5532,11081,9000,10703,7068,12637,4344,5297,11768,11739,7479,6466,8523,9162,8925,5118,6566,4695,4067,6524,16539,9746,4800,10523,16903,6572,5086,8222,8189,8070,14803,8686,8333,7121,3919,5687,3118,14512,6060,2791,7729,8767,5378,5627,6610,3447,6391,5075,11343,4969,9875,8328,9505,3452,5990,7694,5614,12287,7152,9645,6309,5717,7696,6700,4934,4153,4647,5371,7835,2858,11756,6462,10260,6621,2221,7652,5076,3945,6401,12112,4327,6360,3990,9292,11578,12602,4327,4115,5285,7109,5659,6935,3936,9828,6688,4109,7069,8384,3484,5610,4720,4074,3207,6692,3013,8169,5220,9042,3038,11208,6718,4225,5543,4353,7525,6985,4442,4389,6593,6316,6598,5078,9434,2475,3577,6391,8725,3531,6093,8817,9125,4026,7038,5755,4489,5747,1901,8017,8361,5718,3417,3751,4146,5437,13378,5203,5636,6017,5099],\"type\":\"scatter\"}],                        {\"title\":{\"text\":\"Sales vs. Competition Distance\"},\"xaxis\":{\"title\":{\"text\":\"Competition Distance\"}},\"yaxis\":{\"title\":{\"text\":\"Sales\"}},\"template\":{\"data\":{\"bar\":[{\"error_x\":{\"color\":\"#2a3f5f\"},\"error_y\":{\"color\":\"#2a3f5f\"},\"marker\":{\"line\":{\"color\":\"#E5ECF6\",\"width\":0.5},\"pattern\":{\"fillmode\":\"overlay\",\"size\":10,\"solidity\":0.2}},\"type\":\"bar\"}],\"barpolar\":[{\"marker\":{\"line\":{\"color\":\"#E5ECF6\",\"width\":0.5},\"pattern\":{\"fillmode\":\"overlay\",\"size\":10,\"solidity\":0.2}},\"type\":\"barpolar\"}],\"carpet\":[{\"aaxis\":{\"endlinecolor\":\"#2a3f5f\",\"gridcolor\":\"white\",\"linecolor\":\"white\",\"minorgridcolor\":\"white\",\"startlinecolor\":\"#2a3f5f\"},\"baxis\":{\"endlinecolor\":\"#2a3f5f\",\"gridcolor\":\"white\",\"linecolor\":\"white\",\"minorgridcolor\":\"white\",\"startlinecolor\":\"#2a3f5f\"},\"type\":\"carpet\"}],\"choropleth\":[{\"colorbar\":{\"outlinewidth\":0,\"ticks\":\"\"},\"type\":\"choropleth\"}],\"contour\":[{\"colorbar\":{\"outlinewidth\":0,\"ticks\":\"\"},\"colorscale\":[[0.0,\"#0d0887\"],[0.1111111111111111,\"#46039f\"],[0.2222222222222222,\"#7201a8\"],[0.3333333333333333,\"#9c179e\"],[0.4444444444444444,\"#bd3786\"],[0.5555555555555556,\"#d8576b\"],[0.6666666666666666,\"#ed7953\"],[0.7777777777777778,\"#fb9f3a\"],[0.8888888888888888,\"#fdca26\"],[1.0,\"#f0f921\"]],\"type\":\"contour\"}],\"contourcarpet\":[{\"colorbar\":{\"outlinewidth\":0,\"ticks\":\"\"},\"type\":\"contourcarpet\"}],\"heatmap\":[{\"colorbar\":{\"outlinewidth\":0,\"ticks\":\"\"},\"colorscale\":[[0.0,\"#0d0887\"],[0.1111111111111111,\"#46039f\"],[0.2222222222222222,\"#7201a8\"],[0.3333333333333333,\"#9c179e\"],[0.4444444444444444,\"#bd3786\"],[0.5555555555555556,\"#d8576b\"],[0.6666666666666666,\"#ed7953\"],[0.7777777777777778,\"#fb9f3a\"],[0.8888888888888888,\"#fdca26\"],[1.0,\"#f0f921\"]],\"type\":\"heatmap\"}],\"heatmapgl\":[{\"colorbar\":{\"outlinewidth\":0,\"ticks\":\"\"},\"colorscale\":[[0.0,\"#0d0887\"],[0.1111111111111111,\"#46039f\"],[0.2222222222222222,\"#7201a8\"],[0.3333333333333333,\"#9c179e\"],[0.4444444444444444,\"#bd3786\"],[0.5555555555555556,\"#d8576b\"],[0.6666666666666666,\"#ed7953\"],[0.7777777777777778,\"#fb9f3a\"],[0.8888888888888888,\"#fdca26\"],[1.0,\"#f0f921\"]],\"type\":\"heatmapgl\"}],\"histogram\":[{\"marker\":{\"pattern\":{\"fillmode\":\"overlay\",\"size\":10,\"solidity\":0.2}},\"type\":\"histogram\"}],\"histogram2d\":[{\"colorbar\":{\"outlinewidth\":0,\"ticks\":\"\"},\"colorscale\":[[0.0,\"#0d0887\"],[0.1111111111111111,\"#46039f\"],[0.2222222222222222,\"#7201a8\"],[0.3333333333333333,\"#9c179e\"],[0.4444444444444444,\"#bd3786\"],[0.5555555555555556,\"#d8576b\"],[0.6666666666666666,\"#ed7953\"],[0.7777777777777778,\"#fb9f3a\"],[0.8888888888888888,\"#fdca26\"],[1.0,\"#f0f921\"]],\"type\":\"histogram2d\"}],\"histogram2dcontour\":[{\"colorbar\":{\"outlinewidth\":0,\"ticks\":\"\"},\"colorscale\":[[0.0,\"#0d0887\"],[0.1111111111111111,\"#46039f\"],[0.2222222222222222,\"#7201a8\"],[0.3333333333333333,\"#9c179e\"],[0.4444444444444444,\"#bd3786\"],[0.5555555555555556,\"#d8576b\"],[0.6666666666666666,\"#ed7953\"],[0.7777777777777778,\"#fb9f3a\"],[0.8888888888888888,\"#fdca26\"],[1.0,\"#f0f921\"]],\"type\":\"histogram2dcontour\"}],\"mesh3d\":[{\"colorbar\":{\"outlinewidth\":0,\"ticks\":\"\"},\"type\":\"mesh3d\"}],\"parcoords\":[{\"line\":{\"colorbar\":{\"outlinewidth\":0,\"ticks\":\"\"}},\"type\":\"parcoords\"}],\"pie\":[{\"automargin\":true,\"type\":\"pie\"}],\"scatter\":[{\"marker\":{\"colorbar\":{\"outlinewidth\":0,\"ticks\":\"\"}},\"type\":\"scatter\"}],\"scatter3d\":[{\"line\":{\"colorbar\":{\"outlinewidth\":0,\"ticks\":\"\"}},\"marker\":{\"colorbar\":{\"outlinewidth\":0,\"ticks\":\"\"}},\"type\":\"scatter3d\"}],\"scattercarpet\":[{\"marker\":{\"colorbar\":{\"outlinewidth\":0,\"ticks\":\"\"}},\"type\":\"scattercarpet\"}],\"scattergeo\":[{\"marker\":{\"colorbar\":{\"outlinewidth\":0,\"ticks\":\"\"}},\"type\":\"scattergeo\"}],\"scattergl\":[{\"marker\":{\"colorbar\":{\"outlinewidth\":0,\"ticks\":\"\"}},\"type\":\"scattergl\"}],\"scattermapbox\":[{\"marker\":{\"colorbar\":{\"outlinewidth\":0,\"ticks\":\"\"}},\"type\":\"scattermapbox\"}],\"scatterpolar\":[{\"marker\":{\"colorbar\":{\"outlinewidth\":0,\"ticks\":\"\"}},\"type\":\"scatterpolar\"}],\"scatterpolargl\":[{\"marker\":{\"colorbar\":{\"outlinewidth\":0,\"ticks\":\"\"}},\"type\":\"scatterpolargl\"}],\"scatterternary\":[{\"marker\":{\"colorbar\":{\"outlinewidth\":0,\"ticks\":\"\"}},\"type\":\"scatterternary\"}],\"surface\":[{\"colorbar\":{\"outlinewidth\":0,\"ticks\":\"\"},\"colorscale\":[[0.0,\"#0d0887\"],[0.1111111111111111,\"#46039f\"],[0.2222222222222222,\"#7201a8\"],[0.3333333333333333,\"#9c179e\"],[0.4444444444444444,\"#bd3786\"],[0.5555555555555556,\"#d8576b\"],[0.6666666666666666,\"#ed7953\"],[0.7777777777777778,\"#fb9f3a\"],[0.8888888888888888,\"#fdca26\"],[1.0,\"#f0f921\"]],\"type\":\"surface\"}],\"table\":[{\"cells\":{\"fill\":{\"color\":\"#EBF0F8\"},\"line\":{\"color\":\"white\"}},\"header\":{\"fill\":{\"color\":\"#C8D4E3\"},\"line\":{\"color\":\"white\"}},\"type\":\"table\"}]},\"layout\":{\"annotationdefaults\":{\"arrowcolor\":\"#2a3f5f\",\"arrowhead\":0,\"arrowwidth\":1},\"autotypenumbers\":\"strict\",\"coloraxis\":{\"colorbar\":{\"outlinewidth\":0,\"ticks\":\"\"}},\"colorscale\":{\"diverging\":[[0,\"#8e0152\"],[0.1,\"#c51b7d\"],[0.2,\"#de77ae\"],[0.3,\"#f1b6da\"],[0.4,\"#fde0ef\"],[0.5,\"#f7f7f7\"],[0.6,\"#e6f5d0\"],[0.7,\"#b8e186\"],[0.8,\"#7fbc41\"],[0.9,\"#4d9221\"],[1,\"#276419\"]],\"sequential\":[[0.0,\"#0d0887\"],[0.1111111111111111,\"#46039f\"],[0.2222222222222222,\"#7201a8\"],[0.3333333333333333,\"#9c179e\"],[0.4444444444444444,\"#bd3786\"],[0.5555555555555556,\"#d8576b\"],[0.6666666666666666,\"#ed7953\"],[0.7777777777777778,\"#fb9f3a\"],[0.8888888888888888,\"#fdca26\"],[1.0,\"#f0f921\"]],\"sequentialminus\":[[0.0,\"#0d0887\"],[0.1111111111111111,\"#46039f\"],[0.2222222222222222,\"#7201a8\"],[0.3333333333333333,\"#9c179e\"],[0.4444444444444444,\"#bd3786\"],[0.5555555555555556,\"#d8576b\"],[0.6666666666666666,\"#ed7953\"],[0.7777777777777778,\"#fb9f3a\"],[0.8888888888888888,\"#fdca26\"],[1.0,\"#f0f921\"]]},\"colorway\":[\"#636efa\",\"#EF553B\",\"#00cc96\",\"#ab63fa\",\"#FFA15A\",\"#19d3f3\",\"#FF6692\",\"#B6E880\",\"#FF97FF\",\"#FECB52\"],\"font\":{\"color\":\"#2a3f5f\"},\"geo\":{\"bgcolor\":\"white\",\"lakecolor\":\"white\",\"landcolor\":\"#E5ECF6\",\"showlakes\":true,\"showland\":true,\"subunitcolor\":\"white\"},\"hoverlabel\":{\"align\":\"left\"},\"hovermode\":\"closest\",\"mapbox\":{\"style\":\"light\"},\"paper_bgcolor\":\"white\",\"plot_bgcolor\":\"#E5ECF6\",\"polar\":{\"angularaxis\":{\"gridcolor\":\"white\",\"linecolor\":\"white\",\"ticks\":\"\"},\"bgcolor\":\"#E5ECF6\",\"radialaxis\":{\"gridcolor\":\"white\",\"linecolor\":\"white\",\"ticks\":\"\"}},\"scene\":{\"xaxis\":{\"backgroundcolor\":\"#E5ECF6\",\"gridcolor\":\"white\",\"gridwidth\":2,\"linecolor\":\"white\",\"showbackground\":true,\"ticks\":\"\",\"zerolinecolor\":\"white\"},\"yaxis\":{\"backgroundcolor\":\"#E5ECF6\",\"gridcolor\":\"white\",\"gridwidth\":2,\"linecolor\":\"white\",\"showbackground\":true,\"ticks\":\"\",\"zerolinecolor\":\"white\"},\"zaxis\":{\"backgroundcolor\":\"#E5ECF6\",\"gridcolor\":\"white\",\"gridwidth\":2,\"linecolor\":\"white\",\"showbackground\":true,\"ticks\":\"\",\"zerolinecolor\":\"white\"}},\"shapedefaults\":{\"line\":{\"color\":\"#2a3f5f\"}},\"ternary\":{\"aaxis\":{\"gridcolor\":\"white\",\"linecolor\":\"white\",\"ticks\":\"\"},\"baxis\":{\"gridcolor\":\"white\",\"linecolor\":\"white\",\"ticks\":\"\"},\"bgcolor\":\"#E5ECF6\",\"caxis\":{\"gridcolor\":\"white\",\"linecolor\":\"white\",\"ticks\":\"\"}},\"title\":{\"x\":0.05},\"xaxis\":{\"automargin\":true,\"gridcolor\":\"white\",\"linecolor\":\"white\",\"ticks\":\"\",\"title\":{\"standoff\":15},\"zerolinecolor\":\"white\",\"zerolinewidth\":2},\"yaxis\":{\"automargin\":true,\"gridcolor\":\"white\",\"linecolor\":\"white\",\"ticks\":\"\",\"title\":{\"standoff\":15},\"zerolinecolor\":\"white\",\"zerolinewidth\":2}}}},                        {\"responsive\": true}                    ).then(function(){\n",
              "                            \n",
              "var gd = document.getElementById('e2dd928b-ca71-4ad7-ae87-8ab28fbc4a4f');\n",
              "var x = new MutationObserver(function (mutations, observer) {{\n",
              "        var display = window.getComputedStyle(gd).display;\n",
              "        if (!display || display === 'none') {{\n",
              "            console.log([gd, 'removed!']);\n",
              "            Plotly.purge(gd);\n",
              "            observer.disconnect();\n",
              "        }}\n",
              "}});\n",
              "\n",
              "// Listen for the removal of the full notebook cells\n",
              "var notebookContainer = gd.closest('#notebook-container');\n",
              "if (notebookContainer) {{\n",
              "    x.observe(notebookContainer, {childList: true});\n",
              "}}\n",
              "\n",
              "// Listen for the clearing of the current output cell\n",
              "var outputEl = gd.closest('.output');\n",
              "if (outputEl) {{\n",
              "    x.observe(outputEl, {childList: true});\n",
              "}}\n",
              "\n",
              "                        })                };                            </script>        </div>\n",
              "</body>\n",
              "</html>"
            ]
          },
          "metadata": {}
        }
      ]
    },
    {
      "cell_type": "markdown",
      "metadata": {
        "id": "v1Y8pWfNYxa2"
      },
      "source": [
        "**sales predection by using regression models**"
      ]
    },
    {
      "cell_type": "code",
      "execution_count": null,
      "metadata": {
        "id": "svz6utfvK0k9"
      },
      "outputs": [],
      "source": [
        ", \n",
        "# I had to use to sample dataset with 50000 observations to build ML models.\n",
        "dfd = df1.sample(n=50000, random_state=1)"
      ]
    },
    {
      "cell_type": "code",
      "execution_count": null,
      "metadata": {
        "id": "7FFf7tZ8K0hw"
      },
      "outputs": [],
      "source": [
        "X = dfd.drop('Sales', axis=1)\n",
        "y = dfd. Sales"
      ]
    },
    {
      "cell_type": "code",
      "execution_count": null,
      "metadata": {
        "id": "BP32qqHuK0eh"
      },
      "outputs": [],
      "source": [
        "# get dummy variables for categorical features for linear regression\n",
        "xd = X.copy()\n",
        "xd = pd.get_dummies(xd)\n",
        "\n"
      ]
    },
    {
      "cell_type": "code",
      "execution_count": null,
      "metadata": {
        "id": "F6TUuRDsK0ac"
      },
      "outputs": [],
      "source": [
        "xl = X.copy()\n",
        "\n",
        "\n",
        "label = LabelEncoder()\n",
        "xl.StateHoliday = label.fit_transform(xl.StateHoliday)\n",
        "xl.Assortment = label.fit_transform(xl.Assortment)\n",
        "xl.StoreType = label.fit_transform(xl.StoreType)"
      ]
    },
    {
      "cell_type": "markdown",
      "source": [
        "# Train Test Split"
      ],
      "metadata": {
        "id": "Ys6VRhsDpoyW"
      }
    },
    {
      "cell_type": "code",
      "execution_count": null,
      "metadata": {
        "id": "Qskhupa6K0Wu"
      },
      "outputs": [],
      "source": [
        "# split training and test datasets\n",
        "\n",
        "xd_train,xd_test,yd_train,yd_test = train_test_split(xd,y,test_size=0.3, random_state=1)\n",
        "xl_train,xl_test,yl_train,yl_test = train_test_split(xl,y,test_size=0.3, random_state=1)"
      ]
    },
    {
      "cell_type": "markdown",
      "source": [
        "# Linear Regression"
      ],
      "metadata": {
        "id": "wWgU98myTutr"
      }
    },
    {
      "cell_type": "code",
      "execution_count": null,
      "metadata": {
        "id": "sl69OLQNK0TM"
      },
      "outputs": [],
      "source": [
        "lin= LinearRegression()\n",
        "reg = lin.fit(xd_train, yd_train)"
      ]
    },
    {
      "cell_type": "code",
      "source": [
        "reg.score(xd_train, yd_train)"
      ],
      "metadata": {
        "colab": {
          "base_uri": "https://localhost:8080/"
        },
        "id": "McJMAYrNlzTQ",
        "outputId": "18abc6fb-df99-45b5-cfd6-d78e175d7d44"
      },
      "execution_count": null,
      "outputs": [
        {
          "output_type": "execute_result",
          "data": {
            "text/plain": [
              "0.7523547711295092"
            ]
          },
          "metadata": {},
          "execution_count": 125
        }
      ]
    },
    {
      "cell_type": "code",
      "source": [
        "reg.coef_"
      ],
      "metadata": {
        "colab": {
          "base_uri": "https://localhost:8080/"
        },
        "id": "FRsiojIrmhu1",
        "outputId": "42d2c11a-0344-4bff-d740-45beff53fcb6"
      },
      "execution_count": null,
      "outputs": [
        {
          "output_type": "execute_result",
          "data": {
            "text/plain": [
              "array([-1.41170167e+02,  2.18160047e+03, -4.23839175e+02,  1.48326518e+02,\n",
              "        1.32462664e+01,  2.62296028e+01, -1.89906529e+00,  6.54887117e-03,\n",
              "        2.89591777e+01,  8.43614860e-01,  1.07184864e+00, -8.48202304e+00,\n",
              "       -7.80830624e+01, -2.80080129e+01,  1.14573098e+02,  2.40148190e+02,\n",
              "       -5.78497680e+02,  3.38349490e+02])"
            ]
          },
          "metadata": {},
          "execution_count": 126
        }
      ]
    },
    {
      "cell_type": "code",
      "source": [
        "len(reg.coef_)"
      ],
      "metadata": {
        "colab": {
          "base_uri": "https://localhost:8080/"
        },
        "id": "UF5PeWOhmhqF",
        "outputId": "7de57811-9133-4996-fc24-5c55687e91af"
      },
      "execution_count": null,
      "outputs": [
        {
          "output_type": "execute_result",
          "data": {
            "text/plain": [
              "18"
            ]
          },
          "metadata": {},
          "execution_count": 127
        }
      ]
    },
    {
      "cell_type": "code",
      "source": [
        "reg.intercept_"
      ],
      "metadata": {
        "colab": {
          "base_uri": "https://localhost:8080/"
        },
        "id": "wMhkhTB4mrGv",
        "outputId": "63c11423-dfc7-4e18-a6c3-0a7debd184b6"
      },
      "execution_count": null,
      "outputs": [
        {
          "output_type": "execute_result",
          "data": {
            "text/plain": [
              "-27362.773759425665"
            ]
          },
          "metadata": {},
          "execution_count": 128
        }
      ]
    },
    {
      "cell_type": "code",
      "execution_count": null,
      "metadata": {
        "colab": {
          "base_uri": "https://localhost:8080/"
        },
        "id": "sdWbHlo9K0Lz",
        "outputId": "82c20f5a-0a60-4f36-ee4a-ab4db964946b"
      },
      "outputs": [
        {
          "output_type": "stream",
          "name": "stdout",
          "text": [
            "Regresion Model Score : 0.7523547711295092 , Out of Sample Test Score : 0.7361563851488989\n",
            "Training RMSE : 1562.101823859111 Testing RMSE : 1573.5221139534203\n",
            "Training MAPE : 17.016359240314582 Testing MAPE : 17.21421514499293\n"
          ]
        }
      ],
      "source": [
        "\n",
        "\n",
        "def rmse(x, y):\n",
        "    return sqrt(mean_squared_error(x, y))\n",
        "\n",
        "# definte MAPE function\n",
        "def mape(x, y): \n",
        "    return np.mean(np.abs((x - y) / x)) * 100  \n",
        "  \n",
        "# get cross validation scores \n",
        "yd_predicted = linreg.predict(xd_train)\n",
        "yd_test_predicted = linreg.predict(xd_test)\n",
        "\n",
        "print(\"Regresion Model Score\" , \":\" , linreg.score(xd_train, yd_train) , \",\" ,\n",
        "      \"Out of Sample Test Score\" ,\":\" , linreg.score(xd_test, yd_test))\n",
        "print(\"Training RMSE\", \":\", rmse(yd_train, yd_predicted),\n",
        "      \"Testing RMSE\", \":\", rmse(yd_test, yd_test_predicted))\n",
        "print(\"Training MAPE\", \":\", mape(yd_train, yd_predicted),\n",
        "      \"Testing MAPE\", \":\", mape(yd_test, yd_test_predicted))"
      ]
    },
    {
      "cell_type": "markdown",
      "source": [
        "# Lasso Regression"
      ],
      "metadata": {
        "id": "htB41YW-rj4m"
      }
    },
    {
      "cell_type": "code",
      "execution_count": null,
      "metadata": {
        "id": "bEGl2YO-K0Il"
      },
      "outputs": [],
      "source": [
        "las = LassoLars(alpha=0.3, fit_intercept=False, normalize=True)\n",
        "lasreg = las.fit(xd_train, yd_train)"
      ]
    },
    {
      "cell_type": "code",
      "execution_count": null,
      "metadata": {
        "colab": {
          "base_uri": "https://localhost:8080/"
        },
        "id": "PzfJCoeCK0Ek",
        "outputId": "040366e5-713c-4f60-ee0f-6a2d63f7e1e0"
      },
      "outputs": [
        {
          "output_type": "stream",
          "name": "stdout",
          "text": [
            "Regresion Model Score : 0.752334522979867 , Out of Sample Test Score : 0.7360315485990351\n",
            "Training RMSE : 1562.1656834075554 Testing RMSE : 1573.8943227750476\n",
            "Training MAPE : 17.017185237169365 Testing MAPE : 17.213416546601415\n"
          ]
        }
      ],
      "source": [
        "print(\"Regresion Model Score\" , \":\" , lasreg.score(xd_train, yd_train) , \",\" ,\n",
        "      \"Out of Sample Test Score\" ,\":\" , lasreg.score(xd_test, yd_test))\n",
        "\n",
        "yd_predicted = lasreg.predict(xd_train)\n",
        "yd_test_predicted = lasreg.predict(xd_test)\n",
        "\n",
        "print(\"Training RMSE\", \":\", rmse(yd_train, yd_predicted),\n",
        "      \"Testing RMSE\", \":\", rmse(yd_test, yd_test_predicted))\n",
        "print(\"Training MAPE\", \":\", mape(yd_train, yd_predicted),\n",
        "      \"Testing MAPE\", \":\", mape(yd_test, yd_test_predicted))"
      ]
    },
    {
      "cell_type": "markdown",
      "source": [
        "# Decision Tree"
      ],
      "metadata": {
        "id": "0oGQX_cJpw0B"
      }
    },
    {
      "cell_type": "code",
      "execution_count": null,
      "metadata": {
        "id": "9CmIRyYWK0BE"
      },
      "outputs": [],
      "source": [
        "tree = DecisionTreeRegressor(min_samples_leaf=20)\n",
        "treereg = tree.fit(xl_train, yl_train)"
      ]
    },
    {
      "cell_type": "code",
      "execution_count": null,
      "metadata": {
        "colab": {
          "base_uri": "https://localhost:8080/"
        },
        "id": "c8LNsj6TKzq5",
        "outputId": "f9fda26f-8f8d-4258-ee88-0942bb13c9fe"
      },
      "outputs": [
        {
          "output_type": "stream",
          "name": "stdout",
          "text": [
            "Regresion Model Score : 0.8497074839166132 , Out of Sample Test Score : 0.7859612854335959\n",
            "Training RMSE : 1216.9228178305223 Testing RMSE : 1417.2475783416903\n",
            "Training MAPE : 12.49583318025902 Testing MAPE : 14.756184436417788\n"
          ]
        }
      ],
      "source": [
        "print(\"Regresion Model Score\" , \":\" , treereg.score(xl_train, yl_train) , \",\" ,\n",
        "      \"Out of Sample Test Score\" ,\":\" , treereg.score(xl_test, yl_test))\n",
        "\n",
        "yl_predicted = treereg.predict(xl_train)\n",
        "yl_test_predicted = treereg.predict(xl_test)\n",
        "print(\"Training RMSE\", \":\", rmse(yl_train, yl_predicted),\n",
        "      \"Testing RMSE\", \":\", rmse(yl_test, yl_test_predicted))\n",
        "print(\"Training MAPE\", \":\", mape(yl_train, yl_predicted),\n",
        "      \"Testing MAPE\", \":\", mape(yl_test, yl_test_predicted))"
      ]
    },
    {
      "cell_type": "markdown",
      "source": [
        "# Random Forest"
      ],
      "metadata": {
        "id": "PPKWvqb4p6dX"
      }
    },
    {
      "cell_type": "code",
      "execution_count": null,
      "metadata": {
        "id": "5uGRDoEDNvCV"
      },
      "outputs": [],
      "source": [
        "rdf = RandomForestRegressor(n_estimators=30)\n",
        "rdfreg = rdf.fit(xl_train, yl_train)"
      ]
    },
    {
      "cell_type": "code",
      "execution_count": null,
      "metadata": {
        "colab": {
          "base_uri": "https://localhost:8080/"
        },
        "id": "GpqU8tE6Nu-n",
        "outputId": "b6a46bad-1f07-4af1-c475-6125406247d2"
      },
      "outputs": [
        {
          "output_type": "stream",
          "name": "stdout",
          "text": [
            "Regresion Model Score : 0.9769302470020471 , Out of Sample Test Score : 0.8364031945053068\n",
            "Training RMSE : 476.7775846255745 Testing RMSE : 1239.0446763926782\n",
            "Training MAPE : 4.831332668613566 Testing MAPE : 12.660191566032546\n"
          ]
        }
      ],
      "source": [
        "print(\"Regresion Model Score\" , \":\" , rdfreg.score(xl_train, yl_train) , \",\" ,\n",
        "      \"Out of Sample Test Score\" ,\":\" , rdfreg.score(xl_test, yl_test))   \n",
        "\n",
        "yl_predicted = rdfreg.predict(xl_train)\n",
        "yl_test_predicted = rdfreg.predict(xl_test)\n",
        "\n",
        "print(\"Training RMSE\", \":\", rmse(yl_train, yl_predicted),\n",
        "      \"Testing RMSE\", \":\", rmse(yl_test, yl_test_predicted))\n",
        "print(\"Training MAPE\", \":\", mape(yl_train, yl_predicted),\n",
        "      \"Testing MAPE\", \":\", mape(yl_test, yl_test_predicted))"
      ]
    },
    {
      "cell_type": "markdown",
      "source": [
        "# KNN"
      ],
      "metadata": {
        "id": "FZOixM9bTgFQ"
      }
    },
    {
      "cell_type": "code",
      "execution_count": null,
      "metadata": {
        "id": "R47zdTLCNu8T"
      },
      "outputs": [],
      "source": [
        "knn = KNeighborsRegressor(n_neighbors = 30)\n",
        "knnreg = knn.fit(xd_train, yd_train)"
      ]
    },
    {
      "cell_type": "code",
      "execution_count": null,
      "metadata": {
        "colab": {
          "base_uri": "https://localhost:8080/"
        },
        "id": "5IbGQ6tLNu50",
        "outputId": "5c290a86-aa5e-4c6d-f3c9-4c7ee7fd40d7"
      },
      "outputs": [
        {
          "output_type": "stream",
          "name": "stdout",
          "text": [
            "Regresion Model Score : 0.6275081976080878 , Out of Sample Test Score : 0.5761126589600647\n",
            "Training RMSE : 1915.8112383595192 Testing RMSE : 1994.4574710253448\n",
            "Training MAPE : 22.932501886995517 Testing MAPE : 23.871439902670968\n"
          ]
        }
      ],
      "source": [
        "print(\"Regresion Model Score\" , \":\" , knnreg.score(xd_train, yd_train) , \",\" ,\n",
        "      \"Out of Sample Test Score\" ,\":\" , knnreg.score(xd_test, yd_test))\n",
        "\n",
        "yd_predicted = knnreg.predict(xd_train)\n",
        "yd_test_predicted = knnreg.predict(xd_test)\n",
        "\n",
        "print(\"Training RMSE\", \":\", rmse(yd_train, yd_predicted),\n",
        "      \"Testing RMSE\", \":\", rmse(yd_test, yd_test_predicted))\n",
        "print(\"Training MAPE\", \":\", mape(yd_train, yd_predicted),\n",
        "      \"Testing MAPE\", \":\", mape(yd_test, yd_test_predicted))"
      ]
    },
    {
      "cell_type": "code",
      "execution_count": null,
      "metadata": {
        "colab": {
          "base_uri": "https://localhost:8080/"
        },
        "id": "agHdUVSYNu1h",
        "outputId": "ec3044d3-8267-4afe-c09c-c884d0ac367d"
      },
      "outputs": [
        {
          "output_type": "stream",
          "name": "stdout",
          "text": [
            "Regresion Model Score : 1.0 , Out of Sample Test Score : 0.25667577730057733\n",
            "Regresion Model Score : 0.8259322438851736 , Out of Sample Test Score : 0.4249025315111531\n",
            "Regresion Model Score : 0.7623582158361921 , Out of Sample Test Score : 0.488223198965818\n",
            "Regresion Model Score : 0.7297607510955559 , Out of Sample Test Score : 0.5115585944519914\n",
            "Regresion Model Score : 0.7089492750912322 , Out of Sample Test Score : 0.5295699324633296\n",
            "Regresion Model Score : 0.6925631736963394 , Out of Sample Test Score : 0.5415268731970324\n",
            "Regresion Model Score : 0.6819616471945467 , Out of Sample Test Score : 0.546554471363228\n",
            "Regresion Model Score : 0.6740629399105917 , Out of Sample Test Score : 0.5535399672444765\n",
            "Regresion Model Score : 0.6679852096652346 , Out of Sample Test Score : 0.5578173430149174\n",
            "Regresion Model Score : 0.6616464177640227 , Out of Sample Test Score : 0.5612278982541374\n",
            "Regresion Model Score : 0.6561030835853547 , Out of Sample Test Score : 0.5631873273619019\n",
            "Regresion Model Score : 0.6526718934441764 , Out of Sample Test Score : 0.5643813303779768\n",
            "Regresion Model Score : 0.6487190124548815 , Out of Sample Test Score : 0.5658649767119877\n",
            "Regresion Model Score : 0.6461057077482618 , Out of Sample Test Score : 0.5677938618091425\n",
            "Regresion Model Score : 0.6443912051090017 , Out of Sample Test Score : 0.5682116795805857\n",
            "Regresion Model Score : 0.642866080935004 , Out of Sample Test Score : 0.5685349078187708\n",
            "Regresion Model Score : 0.6411575241219247 , Out of Sample Test Score : 0.5689559885548168\n",
            "Regresion Model Score : 0.6390628560334308 , Out of Sample Test Score : 0.5698280036016924\n",
            "Regresion Model Score : 0.6376769491043381 , Out of Sample Test Score : 0.5701831275866656\n",
            "Regresion Model Score : 0.6367406723871035 , Out of Sample Test Score : 0.5710259304389169\n",
            "Regresion Model Score : 0.6350253371322996 , Out of Sample Test Score : 0.5711405163521723\n",
            "Regresion Model Score : 0.634063938595565 , Out of Sample Test Score : 0.5718967932413475\n",
            "Regresion Model Score : 0.6329282835509056 , Out of Sample Test Score : 0.5723555069077793\n",
            "Regresion Model Score : 0.6321467627442414 , Out of Sample Test Score : 0.5732375459677089\n",
            "Regresion Model Score : 0.631382620373218 , Out of Sample Test Score : 0.5738386082160081\n",
            "Regresion Model Score : 0.6307245944718807 , Out of Sample Test Score : 0.5749913126550702\n",
            "Regresion Model Score : 0.6297473294496239 , Out of Sample Test Score : 0.5751539992676236\n",
            "Regresion Model Score : 0.6288530446287708 , Out of Sample Test Score : 0.5756973094848563\n",
            "Regresion Model Score : 0.6280980122421159 , Out of Sample Test Score : 0.576160891356079\n"
          ]
        }
      ],
      "source": [
        "for x in range(1,30):\n",
        "    knn = KNeighborsRegressor(n_neighbors = x)\n",
        "    knnreg = knn.fit(xd_train, yd_train)\n",
        "    print(\"Regresion Model Score\" , \":\" , knnreg.score(xd_train, yd_train) , \",\" ,\n",
        "      \"Out of Sample Test Score\" ,\":\" , knnreg.score(xd_test, yd_test))"
      ]
    },
    {
      "cell_type": "code",
      "execution_count": null,
      "metadata": {
        "id": "2N4XreWbNuyb"
      },
      "outputs": [],
      "source": [
        ""
      ]
    },
    {
      "cell_type": "code",
      "execution_count": null,
      "metadata": {
        "id": "ZaS5vlaRNuvO"
      },
      "outputs": [],
      "source": [
        ""
      ]
    }
  ],
  "metadata": {
    "colab": {
      "collapsed_sections": [
        "tOGC-qoyhJeX",
        "wFpFvCuKqOY3",
        "vwf5GZ14Uxrl",
        "Y2j04yN4JLET",
        "Ys6VRhsDpoyW",
        "wWgU98myTutr",
        "htB41YW-rj4m",
        "0oGQX_cJpw0B",
        "PPKWvqb4p6dX",
        "FZOixM9bTgFQ"
      ],
      "name": "Rossmann Sales Prediction - Capstone Project.ipynb",
      "provenance": [],
      "include_colab_link": true
    },
    "kernelspec": {
      "display_name": "Python 3",
      "language": "python",
      "name": "python3"
    },
    "language_info": {
      "codemirror_mode": {
        "name": "ipython",
        "version": 3
      },
      "file_extension": ".py",
      "mimetype": "text/x-python",
      "name": "python",
      "nbconvert_exporter": "python",
      "pygments_lexer": "ipython3",
      "version": "3.6.6"
    }
  },
  "nbformat": 4,
  "nbformat_minor": 0
}